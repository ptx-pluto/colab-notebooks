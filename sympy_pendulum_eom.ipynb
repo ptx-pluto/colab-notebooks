{
  "nbformat": 4,
  "nbformat_minor": 0,
  "metadata": {
    "colab": {
      "name": "sympy_pendulum_eom.ipynb",
      "provenance": [],
      "collapsed_sections": [],
      "authorship_tag": "ABX9TyNiWU2ulTSMXZGnFVp2FzV7",
      "include_colab_link": true
    },
    "kernelspec": {
      "name": "python3",
      "display_name": "Python 3"
    },
    "language_info": {
      "name": "python"
    }
  },
  "cells": [
    {
      "cell_type": "markdown",
      "metadata": {
        "id": "view-in-github",
        "colab_type": "text"
      },
      "source": [
        "<a href=\"https://colab.research.google.com/github/ptx-pluto/colab-notebooks/blob/master/sympy_pendulum_eom.ipynb\" target=\"_parent\"><img src=\"https://colab.research.google.com/assets/colab-badge.svg\" alt=\"Open In Colab\"/></a>"
      ]
    },
    {
      "cell_type": "code",
      "metadata": {
        "id": "TPB2xweW195n"
      },
      "source": [
        "from sympy import *"
      ],
      "execution_count": 1,
      "outputs": []
    },
    {
      "cell_type": "code",
      "metadata": {
        "colab": {
          "base_uri": "https://localhost:8080/",
          "height": 55
        },
        "id": "npufWSiY2N9O",
        "outputId": "de361b11-032c-49e9-de4b-22b577fc735e"
      },
      "source": [
        "x = symbols('x')\n",
        "f1 = Integral(cos(x),x)\n",
        "f1"
      ],
      "execution_count": 2,
      "outputs": [
        {
          "output_type": "execute_result",
          "data": {
            "text/latex": "$\\displaystyle \\int \\cos{\\left(x \\right)}\\, dx$",
            "text/plain": [
              "Integral(cos(x), x)"
            ]
          },
          "metadata": {
            "tags": []
          },
          "execution_count": 2
        }
      ]
    },
    {
      "cell_type": "code",
      "metadata": {
        "colab": {
          "base_uri": "https://localhost:8080/",
          "height": 52
        },
        "id": "YYmxWZzC4IB2",
        "outputId": "ae5d1c4e-7b1e-411c-9dd4-01ccdab53600"
      },
      "source": [
        "y = Function('y')\n",
        "y(x).diff(x)"
      ],
      "execution_count": 3,
      "outputs": [
        {
          "output_type": "execute_result",
          "data": {
            "text/latex": "$\\displaystyle \\frac{d}{d x} y{\\left(x \\right)}$",
            "text/plain": [
              "Derivative(y(x), x)"
            ]
          },
          "metadata": {
            "tags": []
          },
          "execution_count": 3
        }
      ]
    },
    {
      "cell_type": "markdown",
      "metadata": {
        "id": "z8A9GNB7YPyy"
      },
      "source": [
        "derive the equation of motion of a double pendulum using `sympy`"
      ]
    },
    {
      "cell_type": "code",
      "metadata": {
        "id": "tuhl5sOSYcFz",
        "colab": {
          "base_uri": "https://localhost:8080/"
        },
        "outputId": "601178be-8a73-4c91-9846-b1bae9d76693"
      },
      "source": [
        "t = symbols('t')\n",
        "g = symbols('g')\n",
        "q1 = Function('q1')(t)\n",
        "q2 = Function('q2')(t)\n",
        "dq1 = Function('dq1')(t)\n",
        "dq2 = Function('dq2')(t)\n",
        "ddq1, ddq2 = symbols('ddq1 ddq2')\n",
        "l1, l2 = symbols('l1 l2')\n",
        "m1, m2 = symbols('m1 m2')\n",
        "\n",
        "x1 = l1 * cos(q1)\n",
        "y1 = -l1 * sin(q1)\n",
        "x2 = x1 + l2 * cos(q1+q2)\n",
        "y2 = y1 - l2 * sin(q1+q2)\n",
        "\n",
        "rule = [(q1.diff(t),dq1),(q2.diff(t),dq2), (dq1.diff(t),ddq1), (dq2.diff(t),ddq2)]\n",
        "\n",
        "dx1 = x1.diff(t).subs(rule)\n",
        "dy1 = y1.diff(t).subs(rule)\n",
        "dx2 = x2.diff(t).subs(rule)\n",
        "dy2 = y2.diff(t).subs(rule)\n",
        "\n",
        "T1 = 0.5 * m1 * (dx1**2 + dy1**2)\n",
        "T2 = 0.5 * m2 * (dx2**2 + dy2**2)\n",
        "\n",
        "V1 = m1 * g * y1\n",
        "V2 = m2 * g * y2\n",
        "\n",
        "T = T1+T2\n",
        "V = V1+V2\n",
        "\n",
        "L = T-V\n",
        "\n",
        "eq1 = L.diff(dq1).diff(t) - V.diff(q1)\n",
        "eq1 = eq1.subs(rule)\n",
        "eq1 = simplify(eq1)\n",
        "\n",
        "\n",
        "eq2 = L.diff(dq2).diff(t) - V.diff(q2)\n",
        "eq2 = eq2.subs(rule)\n",
        "eq2 = simplify(eq2)\n",
        "\n",
        "ans = solve((Eq(eq1,0),Eq(eq2,0)),(ddq1, ddq2))\n",
        "\n",
        "print(ans)"
      ],
      "execution_count": 4,
      "outputs": [
        {
          "output_type": "stream",
          "text": [
            "{ddq1: -g*m1*cos(q1(t))/(l1*m1 - l1*m2*cos(q2(t))**2 + l1*m2) + g*m2*cos(q1(t) + q2(t))*cos(q2(t))/(l1*m1 - l1*m2*cos(q2(t))**2 + l1*m2) - g*m2*cos(q1(t))/(l1*m1 - l1*m2*cos(q2(t))**2 + l1*m2) - l1*m2*dq1(t)*dq2(t)*sin(q2(t))*cos(q2(t))/(l1*m1 - l1*m2*cos(q2(t))**2 + l1*m2) + l2*m2*dq1(t)*dq2(t)*sin(q2(t))/(l1*m1 - l1*m2*cos(q2(t))**2 + l1*m2) + l2*m2*dq2(t)**2*sin(q2(t))/(l1*m1 - l1*m2*cos(q2(t))**2 + l1*m2), ddq2: -g*l1*m1*cos(q1(t) + q2(t))/(l1*l2*m1 - l1*l2*m2*cos(q2(t))**2 + l1*l2*m2) + g*l1*m1*cos(q1(t))*cos(q2(t))/(l1*l2*m1 - l1*l2*m2*cos(q2(t))**2 + l1*l2*m2) - g*l1*m2*cos(q1(t) + q2(t))/(l1*l2*m1 - l1*l2*m2*cos(q2(t))**2 + l1*l2*m2) + g*l1*m2*cos(q1(t))*cos(q2(t))/(l1*l2*m1 - l1*l2*m2*cos(q2(t))**2 + l1*l2*m2) + g*l2*m1*cos(q1(t))/(l1*l2*m1 - l1*l2*m2*cos(q2(t))**2 + l1*l2*m2) - g*l2*m2*cos(q1(t) + q2(t))*cos(q2(t))/(l1*l2*m1 - l1*l2*m2*cos(q2(t))**2 + l1*l2*m2) + g*l2*m2*cos(q1(t))/(l1*l2*m1 - l1*l2*m2*cos(q2(t))**2 + l1*l2*m2) + l1**2*m1*dq1(t)*dq2(t)*sin(q2(t))/(l1*l2*m1 - l1*l2*m2*cos(q2(t))**2 + l1*l2*m2) + l1**2*m2*dq1(t)*dq2(t)*sin(q2(t))/(l1*l2*m1 - l1*l2*m2*cos(q2(t))**2 + l1*l2*m2) - l1*l2*m2*dq2(t)**2*sin(q2(t))*cos(q2(t))/(l1*l2*m1 - l1*l2*m2*cos(q2(t))**2 + l1*l2*m2) - l2**2*m2*dq1(t)*dq2(t)*sin(q2(t))/(l1*l2*m1 - l1*l2*m2*cos(q2(t))**2 + l1*l2*m2) - l2**2*m2*dq2(t)**2*sin(q2(t))/(l1*l2*m1 - l1*l2*m2*cos(q2(t))**2 + l1*l2*m2)}\n"
          ],
          "name": "stdout"
        }
      ]
    },
    {
      "cell_type": "code",
      "metadata": {
        "colab": {
          "base_uri": "https://localhost:8080/",
          "height": 67
        },
        "id": "O9kkQrWzn613",
        "outputId": "6651a18b-650f-4956-eb3b-cb1fce99744e"
      },
      "source": [
        "ans.keys()\n",
        "simplify(ans[ddq1])\n",
        "simplify(ans[ddq2])"
      ],
      "execution_count": 5,
      "outputs": [
        {
          "output_type": "execute_result",
          "data": {
            "text/latex": "$\\displaystyle \\frac{\\frac{g l_{1} m_{1} \\cos{\\left(\\operatorname{q_{1}}{\\left(t \\right)} - \\operatorname{q_{2}}{\\left(t \\right)} \\right)}}{2} - \\frac{g l_{1} m_{1} \\cos{\\left(\\operatorname{q_{1}}{\\left(t \\right)} + \\operatorname{q_{2}}{\\left(t \\right)} \\right)}}{2} + \\frac{g l_{1} m_{2} \\cos{\\left(\\operatorname{q_{1}}{\\left(t \\right)} - \\operatorname{q_{2}}{\\left(t \\right)} \\right)}}{2} - \\frac{g l_{1} m_{2} \\cos{\\left(\\operatorname{q_{1}}{\\left(t \\right)} + \\operatorname{q_{2}}{\\left(t \\right)} \\right)}}{2} + g l_{2} m_{1} \\cos{\\left(\\operatorname{q_{1}}{\\left(t \\right)} \\right)} - \\frac{g l_{2} m_{2} \\cos{\\left(\\operatorname{q_{1}}{\\left(t \\right)} + 2 \\operatorname{q_{2}}{\\left(t \\right)} \\right)}}{2} + \\frac{g l_{2} m_{2} \\cos{\\left(\\operatorname{q_{1}}{\\left(t \\right)} \\right)}}{2} + l_{1}^{2} m_{1} \\operatorname{dq_{1}}{\\left(t \\right)} \\operatorname{dq_{2}}{\\left(t \\right)} \\sin{\\left(\\operatorname{q_{2}}{\\left(t \\right)} \\right)} + l_{1}^{2} m_{2} \\operatorname{dq_{1}}{\\left(t \\right)} \\operatorname{dq_{2}}{\\left(t \\right)} \\sin{\\left(\\operatorname{q_{2}}{\\left(t \\right)} \\right)} - \\frac{l_{1} l_{2} m_{2} \\operatorname{dq_{2}}^{2}{\\left(t \\right)} \\sin{\\left(2 \\operatorname{q_{2}}{\\left(t \\right)} \\right)}}{2} - l_{2}^{2} m_{2} \\operatorname{dq_{1}}{\\left(t \\right)} \\operatorname{dq_{2}}{\\left(t \\right)} \\sin{\\left(\\operatorname{q_{2}}{\\left(t \\right)} \\right)} - l_{2}^{2} m_{2} \\operatorname{dq_{2}}^{2}{\\left(t \\right)} \\sin{\\left(\\operatorname{q_{2}}{\\left(t \\right)} \\right)}}{l_{1} l_{2} \\left(m_{1} + m_{2} \\sin^{2}{\\left(\\operatorname{q_{2}}{\\left(t \\right)} \\right)}\\right)}$",
            "text/plain": [
              "(g*l1*m1*cos(q1(t) - q2(t))/2 - g*l1*m1*cos(q1(t) + q2(t))/2 + g*l1*m2*cos(q1(t) - q2(t))/2 - g*l1*m2*cos(q1(t) + q2(t))/2 + g*l2*m1*cos(q1(t)) - g*l2*m2*cos(q1(t) + 2*q2(t))/2 + g*l2*m2*cos(q1(t))/2 + l1**2*m1*dq1(t)*dq2(t)*sin(q2(t)) + l1**2*m2*dq1(t)*dq2(t)*sin(q2(t)) - l1*l2*m2*dq2(t)**2*sin(2*q2(t))/2 - l2**2*m2*dq1(t)*dq2(t)*sin(q2(t)) - l2**2*m2*dq2(t)**2*sin(q2(t)))/(l1*l2*(m1 + m2*sin(q2(t))**2))"
            ]
          },
          "metadata": {
            "tags": []
          },
          "execution_count": 5
        }
      ]
    },
    {
      "cell_type": "markdown",
      "metadata": {
        "id": "GWLOKZywlRSW"
      },
      "source": [
        "Single Pendulum"
      ]
    },
    {
      "cell_type": "code",
      "metadata": {
        "colab": {
          "base_uri": "https://localhost:8080/"
        },
        "id": "B_kr9xHQlTmi",
        "outputId": "02d1f76a-0717-4381-8c82-2ed760604504"
      },
      "source": [
        "q = Function('q')(t)\n",
        "dq = Function('dq')(t)\n",
        "ddq, l, m = symbols('ddq l m')\n",
        "\n",
        "x = cos(q)\n",
        "y = -sin(q)\n",
        "\n",
        "sub_rule = [(q.diff(t),dq),(dq.diff(t),ddq)]\n",
        "\n",
        "dx = x.diff(t).subs(sub_rule)\n",
        "dy = y.diff(t).subs(sub_rule)\n",
        "\n",
        "T = 0.5 * m * (dx**2 +dy**2)\n",
        "V = m * g * y\n",
        "\n",
        "L = T-V\n",
        "\n",
        "eom = L.diff(dq).diff(t) - V.diff(q)\n",
        "eom = eom.subs(sub_rule)\n",
        "ans = solve(Eq(eom,0),ddq)\n",
        "\n",
        "ans"
      ],
      "execution_count": 6,
      "outputs": [
        {
          "output_type": "execute_result",
          "data": {
            "text/plain": [
              "[-g*cos(q(t))]"
            ]
          },
          "metadata": {
            "tags": []
          },
          "execution_count": 6
        }
      ]
    }
  ]
}