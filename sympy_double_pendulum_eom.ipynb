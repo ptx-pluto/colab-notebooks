{
  "nbformat": 4,
  "nbformat_minor": 0,
  "metadata": {
    "colab": {
      "provenance": [],
      "collapsed_sections": [],
      "authorship_tag": "ABX9TyMCYJ66UrAHWXA8iQj6NdkX",
      "include_colab_link": true
    },
    "kernelspec": {
      "name": "python3",
      "display_name": "Python 3"
    },
    "language_info": {
      "name": "python"
    }
  },
  "cells": [
    {
      "cell_type": "markdown",
      "metadata": {
        "id": "view-in-github",
        "colab_type": "text"
      },
      "source": [
        "<a href=\"https://colab.research.google.com/github/xu-pu/colab-notebooks/blob/master/sympy_double_pendulum_eom.ipynb\" target=\"_parent\"><img src=\"https://colab.research.google.com/assets/colab-badge.svg\" alt=\"Open In Colab\"/></a>"
      ]
    },
    {
      "cell_type": "markdown",
      "metadata": {
        "id": "z8A9GNB7YPyy"
      },
      "source": [
        "# Derive the equation of motion of a double pendulum"
      ]
    },
    {
      "cell_type": "code",
      "source": [
        "from sympy import *\n",
        "init_printing()"
      ],
      "metadata": {
        "id": "dUJaDhTVlIan"
      },
      "execution_count": 26,
      "outputs": []
    },
    {
      "cell_type": "markdown",
      "source": [
        "Declare symbols"
      ],
      "metadata": {
        "id": "rOHe8Fw9hmvT"
      }
    },
    {
      "cell_type": "code",
      "source": [
        "t, g, l1, l2, m1, m2, ddq1, ddq2 = symbols('t g l_1 l_2 m_1 m_2 \\ddot{q_1} \\ddot{q_2}')\n",
        "q1 = Function('q_1')(t)\n",
        "q2 = Function('q_2')(t)\n",
        "dq1 = Function('\\dot{q_1}')(t)\n",
        "dq2 = Function('\\dot{q_2}')(t)\n",
        "t, g, l1, l2, m1, m2, q1, q2, dq1, dq2, ddq1, ddq2"
      ],
      "metadata": {
        "colab": {
          "base_uri": "https://localhost:8080/",
          "height": 39
        },
        "id": "MbtGdB27gLJE",
        "outputId": "f30cb4c3-bb28-43cd-ba30-ea87fc96a054"
      },
      "execution_count": 27,
      "outputs": [
        {
          "output_type": "execute_result",
          "data": {
            "text/plain": [
              "(t, g, l₁, l₂, m₁, m₂, q₁(t), q₂(t), \\dot{q_1}(t), \\dot{q_2}(t), \\ddot{q_1}, \\\n",
              "ddot{q_2})"
            ],
            "image/png": "[encoded data removed]",
            "text/latex": "$\\displaystyle \\left( t, \\  g, \\  l_{1}, \\  l_{2}, \\  m_{1}, \\  m_{2}, \\  \\operatorname{q_{1}}{\\left(t \\right)}, \\  \\operatorname{q_{2}}{\\left(t \\right)}, \\  \\dot{q_1}{\\left(t \\right)}, \\  \\dot{q_2}{\\left(t \\right)}, \\  \\ddot{q_1}, \\  \\ddot{q_2}\\right)$"
          },
          "metadata": {},
          "execution_count": 27
        }
      ]
    },
    {
      "cell_type": "markdown",
      "source": [
        "Derive the positions and velocities of the centers of mass"
      ],
      "metadata": {
        "id": "RQQ_bJ3th8L_"
      }
    },
    {
      "cell_type": "code",
      "source": [
        "x1 = l1 * cos(q1)\n",
        "y1 = -l1 * sin(q1)\n",
        "x2 = x1 + l2 * cos(q1+q2)\n",
        "y2 = y1 - l2 * sin(q1+q2)\n",
        "\n",
        "# substitution rules\n",
        "rule = [(q1.diff(t),dq1),(q2.diff(t),dq2), (dq1.diff(t),ddq1), (dq2.diff(t),ddq2)]\n",
        "\n",
        "dx1 = x1.diff(t).subs(rule)\n",
        "dy1 = y1.diff(t).subs(rule)\n",
        "dx2 = x2.diff(t).subs(rule)\n",
        "dy2 = y2.diff(t).subs(rule)"
      ],
      "metadata": {
        "id": "x_tqt-MBiT8t"
      },
      "execution_count": 28,
      "outputs": []
    },
    {
      "cell_type": "markdown",
      "source": [
        "Derive the Lagrangian $\\mathcal{L} = T-V$"
      ],
      "metadata": {
        "id": "t9HL0bAkiXT2"
      }
    },
    {
      "cell_type": "code",
      "source": [
        "T1 = S.Half * m1 * (dx1**2 + dy1**2)\n",
        "T2 = S.Half * m2 * (dx2**2 + dy2**2)\n",
        "\n",
        "V1 = m1 * g * y1\n",
        "V2 = m2 * g * y2\n",
        "\n",
        "T = T1+T2\n",
        "V = V1+V2\n",
        "\n",
        "L = T-V"
      ],
      "metadata": {
        "id": "cjFmRd7Fiiwz"
      },
      "execution_count": 29,
      "outputs": []
    },
    {
      "cell_type": "markdown",
      "source": [
        "Construct the Euler-Lagrange Equation\n",
        "$$\n",
        "\\frac{d}{d t} \\frac{\\partial \\mathcal{L}}{\\partial \\dot{q}}-\\frac{\\partial \\mathcal{L}}{\\partial q} = 0\n",
        "$$"
      ],
      "metadata": {
        "id": "Fk7GzwRyijEV"
      }
    },
    {
      "cell_type": "code",
      "metadata": {
        "id": "tuhl5sOSYcFz"
      },
      "source": [
        "eq1 = L.diff(dq1).diff(t) - L.diff(q1)\n",
        "eq1 = eq1.subs(rule)\n",
        "eq1 = simplify(eq1)\n",
        "\n",
        "\n",
        "eq2 = L.diff(dq2).diff(t) - L.diff(q2)\n",
        "eq2 = eq2.subs(rule)\n",
        "eq2 = simplify(eq2)"
      ],
      "execution_count": 30,
      "outputs": []
    },
    {
      "cell_type": "markdown",
      "source": [
        "Solve for $\\ddot{q}$"
      ],
      "metadata": {
        "id": "XLRGfSbOjMIE"
      }
    },
    {
      "cell_type": "code",
      "source": [
        "ans = solve((Eq(eq1,0),Eq(eq2,0)),(ddq1, ddq2))\n",
        "sol_ddq1 = simplify(ans[ddq1])\n",
        "sol_ddq2 = simplify(ans[ddq2])\n",
        "sol_ddq1, sol_ddq2"
      ],
      "metadata": {
        "colab": {
          "base_uri": "https://localhost:8080/",
          "height": 89
        },
        "id": "JGzqkcCVjRgF",
        "outputId": "3319702c-17ad-46c9-9642-a8c6946ae23b"
      },
      "execution_count": 31,
      "outputs": [
        {
          "output_type": "execute_result",
          "data": {
            "text/plain": [
              "⎛                                                                             \n",
              "⎜                  g⋅m₂⋅cos(q₁(t) + 2⋅q₂(t))   g⋅m₂⋅cos(q₁(t))   l₁⋅m₂⋅\\dot{q_\n",
              "⎜g⋅m₁⋅cos(q₁(t)) - ───────────────────────── + ─────────────── + ─────────────\n",
              "⎜                              2                      2                       \n",
              "⎜─────────────────────────────────────────────────────────────────────────────\n",
              "⎜                                                                             \n",
              "⎝                                                                             \n",
              "\n",
              "  2                                                                           \n",
              "1} (t)⋅sin(2⋅q₂(t))                  2                                        \n",
              "─────────────────── + l₂⋅m₂⋅\\dot{q_1} (t)⋅sin(q₂(t)) + 2⋅l₂⋅m₂⋅\\dot{q_1}(t)⋅\\d\n",
              "  2                                                                           \n",
              "──────────────────────────────────────────────────────────────────────────────\n",
              "                   ⎛           2       ⎞                                      \n",
              "                l₁⋅⎝m₁ + m₂⋅sin (q₂(t))⎠                                      \n",
              "\n",
              "                                                                              \n",
              "                                       2                  g⋅l₁⋅m₁⋅cos(q₁(t) - \n",
              "ot{q_2}(t)⋅sin(q₂(t)) + l₂⋅m₂⋅\\dot{q_2} (t)⋅sin(q₂(t))  - ────────────────────\n",
              "                                                                      2       \n",
              "──────────────────────────────────────────────────────, ──────────────────────\n",
              "                                                                              \n",
              "                                                                              \n",
              "\n",
              "                                                                              \n",
              "q₂(t))   g⋅l₁⋅m₁⋅cos(q₁(t) + q₂(t))   g⋅l₁⋅m₂⋅cos(q₁(t) - q₂(t))   g⋅l₁⋅m₂⋅cos\n",
              "────── + ────────────────────────── - ────────────────────────── + ───────────\n",
              "                     2                            2                           \n",
              "──────────────────────────────────────────────────────────────────────────────\n",
              "                                                                              \n",
              "                                                                              \n",
              "\n",
              "                                                                              \n",
              "(q₁(t) + q₂(t))                        g⋅l₂⋅m₂⋅cos(q₁(t) + 2⋅q₂(t))   g⋅l₂⋅m₂⋅\n",
              "─────────────── - g⋅l₂⋅m₁⋅cos(q₁(t)) + ──────────────────────────── - ────────\n",
              " 2                                                  2                         \n",
              "──────────────────────────────────────────────────────────────────────────────\n",
              "                                                                              \n",
              "                                                                              \n",
              "\n",
              "                                                                              \n",
              "cos(q₁(t))     2             2                   2             2              \n",
              "────────── - l₁ ⋅m₁⋅\\dot{q_1} (t)⋅sin(q₂(t)) - l₁ ⋅m₂⋅\\dot{q_1} (t)⋅sin(q₂(t))\n",
              "2                                                                             \n",
              "──────────────────────────────────────────────────────────────────────────────\n",
              "                                                               ⎛           2  \n",
              "                                                         l₁⋅l₂⋅⎝m₁ + m₂⋅sin (q\n",
              "\n",
              "                                                                              \n",
              "                     2                                                        \n",
              " - l₁⋅l₂⋅m₂⋅\\dot{q_1} (t)⋅sin(2⋅q₂(t)) - l₁⋅l₂⋅m₂⋅\\dot{q_1}(t)⋅\\dot{q_2}(t)⋅si\n",
              "                                                                              \n",
              "──────────────────────────────────────────────────────────────────────────────\n",
              "     ⎞                                                                        \n",
              "₂(t))⎠                                                                        \n",
              "\n",
              "                               2                                              \n",
              "             l₁⋅l₂⋅m₂⋅\\dot{q_2} (t)⋅sin(2⋅q₂(t))     2             2          \n",
              "n(2⋅q₂(t)) - ─────────────────────────────────── - l₂ ⋅m₂⋅\\dot{q_1} (t)⋅sin(q₂\n",
              "                              2                                               \n",
              "──────────────────────────────────────────────────────────────────────────────\n",
              "                                                                              \n",
              "                                                                              \n",
              "\n",
              "                                                                              \n",
              "           2                                             2             2      \n",
              "(t)) - 2⋅l₂ ⋅m₂⋅\\dot{q_1}(t)⋅\\dot{q_2}(t)⋅sin(q₂(t)) - l₂ ⋅m₂⋅\\dot{q_2} (t)⋅si\n",
              "                                                                              \n",
              "──────────────────────────────────────────────────────────────────────────────\n",
              "                                                                              \n",
              "                                                                              \n",
              "\n",
              "        ⎞\n",
              "        ⎟\n",
              "n(q₂(t))⎟\n",
              "        ⎟\n",
              "────────⎟\n",
              "        ⎟\n",
              "        ⎠"
            ],
            "image/png": "[encoded data removed]",
            "text/latex": "$\\displaystyle \\left( \\frac{g m_{1} \\cos{\\left(\\operatorname{q_{1}}{\\left(t \\right)} \\right)} - \\frac{g m_{2} \\cos{\\left(\\operatorname{q_{1}}{\\left(t \\right)} + 2 \\operatorname{q_{2}}{\\left(t \\right)} \\right)}}{2} + \\frac{g m_{2} \\cos{\\left(\\operatorname{q_{1}}{\\left(t \\right)} \\right)}}{2} + \\frac{l_{1} m_{2} \\dot{q_1}^{2}{\\left(t \\right)} \\sin{\\left(2 \\operatorname{q_{2}}{\\left(t \\right)} \\right)}}{2} + l_{2} m_{2} \\dot{q_1}^{2}{\\left(t \\right)} \\sin{\\left(\\operatorname{q_{2}}{\\left(t \\right)} \\right)} + 2 l_{2} m_{2} \\dot{q_1}{\\left(t \\right)} \\dot{q_2}{\\left(t \\right)} \\sin{\\left(\\operatorname{q_{2}}{\\left(t \\right)} \\right)} + l_{2} m_{2} \\dot{q_2}^{2}{\\left(t \\right)} \\sin{\\left(\\operatorname{q_{2}}{\\left(t \\right)} \\right)}}{l_{1} \\left(m_{1} + m_{2} \\sin^{2}{\\left(\\operatorname{q_{2}}{\\left(t \\right)} \\right)}\\right)}, \\  \\frac{- \\frac{g l_{1} m_{1} \\cos{\\left(\\operatorname{q_{1}}{\\left(t \\right)} - \\operatorname{q_{2}}{\\left(t \\right)} \\right)}}{2} + \\frac{g l_{1} m_{1} \\cos{\\left(\\operatorname{q_{1}}{\\left(t \\right)} + \\operatorname{q_{2}}{\\left(t \\right)} \\right)}}{2} - \\frac{g l_{1} m_{2} \\cos{\\left(\\operatorname{q_{1}}{\\left(t \\right)} - \\operatorname{q_{2}}{\\left(t \\right)} \\right)}}{2} + \\frac{g l_{1} m_{2} \\cos{\\left(\\operatorname{q_{1}}{\\left(t \\right)} + \\operatorname{q_{2}}{\\left(t \\right)} \\right)}}{2} - g l_{2} m_{1} \\cos{\\left(\\operatorname{q_{1}}{\\left(t \\right)} \\right)} + \\frac{g l_{2} m_{2} \\cos{\\left(\\operatorname{q_{1}}{\\left(t \\right)} + 2 \\operatorname{q_{2}}{\\left(t \\right)} \\right)}}{2} - \\frac{g l_{2} m_{2} \\cos{\\left(\\operatorname{q_{1}}{\\left(t \\right)} \\right)}}{2} - l_{1}^{2} m_{1} \\dot{q_1}^{2}{\\left(t \\right)} \\sin{\\left(\\operatorname{q_{2}}{\\left(t \\right)} \\right)} - l_{1}^{2} m_{2} \\dot{q_1}^{2}{\\left(t \\right)} \\sin{\\left(\\operatorname{q_{2}}{\\left(t \\right)} \\right)} - l_{1} l_{2} m_{2} \\dot{q_1}^{2}{\\left(t \\right)} \\sin{\\left(2 \\operatorname{q_{2}}{\\left(t \\right)} \\right)} - l_{1} l_{2} m_{2} \\dot{q_1}{\\left(t \\right)} \\dot{q_2}{\\left(t \\right)} \\sin{\\left(2 \\operatorname{q_{2}}{\\left(t \\right)} \\right)} - \\frac{l_{1} l_{2} m_{2} \\dot{q_2}^{2}{\\left(t \\right)} \\sin{\\left(2 \\operatorname{q_{2}}{\\left(t \\right)} \\right)}}{2} - l_{2}^{2} m_{2} \\dot{q_1}^{2}{\\left(t \\right)} \\sin{\\left(\\operatorname{q_{2}}{\\left(t \\right)} \\right)} - 2 l_{2}^{2} m_{2} \\dot{q_1}{\\left(t \\right)} \\dot{q_2}{\\left(t \\right)} \\sin{\\left(\\operatorname{q_{2}}{\\left(t \\right)} \\right)} - l_{2}^{2} m_{2} \\dot{q_2}^{2}{\\left(t \\right)} \\sin{\\left(\\operatorname{q_{2}}{\\left(t \\right)} \\right)}}{l_{1} l_{2} \\left(m_{1} + m_{2} \\sin^{2}{\\left(\\operatorname{q_{2}}{\\left(t \\right)} \\right)}\\right)}\\right)$"
          },
          "metadata": {},
          "execution_count": 31
        }
      ]
    },
    {
      "cell_type": "markdown",
      "source": [
        "# Construct the Equations of Motion (EoM) in Matrix Form\n",
        "\n",
        "$$\n",
        "\\text{Equations of Motion:} \\quad \\ddot{q} = f(\\theta, q,\\dot{q})\n",
        "$$\n",
        "\n",
        "$\\theta$ is the system parameters $(m_1, m_2, l_1, l_2, g)$"
      ],
      "metadata": {
        "id": "KRV6KWi7n4mW"
      }
    },
    {
      "cell_type": "code",
      "source": [
        "q = MatrixSymbol('q',2,1)\n",
        "dq = MatrixSymbol('dq',2,1)\n",
        "theta = MatrixSymbol('theta',5,1)\n",
        "\n",
        "rules_eom = [\n",
        "    (m1, theta[0,0]),\n",
        "    (m2, theta[1,0]),\n",
        "    (l1, theta[2,0]),\n",
        "    (l2, theta[3,0]),\n",
        "    (g,  theta[4,0]),\n",
        "    (q1, q[0,0]),\n",
        "    (q2, q[1,0]),\n",
        "    (dq1, dq[0,0]),\n",
        "    (dq2, dq[1,0])\n",
        "    ]\n",
        "\n",
        "ddq = Matrix([\n",
        "    sol_ddq1.subs(rules_eom),\n",
        "    sol_ddq2.subs(rules_eom)\n",
        "])\n",
        "\n",
        "ddq"
      ],
      "metadata": {
        "colab": {
          "base_uri": "https://localhost:8080/",
          "height": 112
        },
        "id": "2jCvAxcpn9oD",
        "outputId": "58c5d077-10cb-4a0f-9c7b-f902806497e9"
      },
      "execution_count": 35,
      "outputs": [
        {
          "output_type": "execute_result",
          "data": {
            "text/plain": [
              "⎡                                                                             \n",
              "⎢                                                                             \n",
              "⎢                                                                             \n",
              "⎢                                                                             \n",
              "⎢                                                                             \n",
              "⎢                                                                             \n",
              "⎢                                                                             \n",
              "⎢                                                                             \n",
              "⎢                                                                             \n",
              "⎢               2        2                2        2                2        2\n",
              "⎢- sin(q₁₀)⋅dq₀₀ ⋅θ₀₀⋅θ₂₀  - sin(q₁₀)⋅dq₀₀ ⋅θ₁₀⋅θ₂₀  - sin(q₁₀)⋅dq₀₀ ⋅θ₁₀⋅θ₃₀ \n",
              "⎢                                                                             \n",
              "⎢─────────────────────────────────────────────────────────────────────────────\n",
              "⎢                                                                             \n",
              "⎣                                                                             \n",
              "\n",
              "                                                                              \n",
              "                                                               2              \n",
              "                                                  sin(q₁₀)⋅dq₀₀ ⋅θ₁₀⋅θ₃₀ + 2⋅s\n",
              "                                                                              \n",
              "                                                  ────────────────────────────\n",
              "                                                                              \n",
              "                                                                              \n",
              "                                                                              \n",
              "                                                                              \n",
              "                               2                2        2                  2 \n",
              " - 2⋅sin(q₁₀)⋅dq₀₀⋅dq₁₀⋅θ₁₀⋅θ₃₀  - sin(q₁₀)⋅dq₁₀ ⋅θ₁₀⋅θ₃₀  - sin(2⋅q₁₀)⋅dq₀₀ ⋅\n",
              "                                                                              \n",
              "──────────────────────────────────────────────────────────────────────────────\n",
              "                                                                              \n",
              "                                                                              \n",
              "\n",
              "                                                                    2         \n",
              "                                         2           sin(2⋅q₁₀)⋅dq₀₀ ⋅θ₁₀⋅θ₂₀ \n",
              "in(q₁₀)⋅dq₀₀⋅dq₁₀⋅θ₁₀⋅θ₃₀ + sin(q₁₀)⋅dq₁₀ ⋅θ₁₀⋅θ₃₀ + ──────────────────────── \n",
              "                                                                2             \n",
              "──────────────────────────────────────────────────────────────────────────────\n",
              "                                            ⎛   2               ⎞             \n",
              "                                            ⎝sin (q₁₀)⋅θ₁₀ + θ₀₀⎠⋅θ₂₀         \n",
              "                                                                              \n",
              "                                                                2             \n",
              "                                                 sin(2⋅q₁₀)⋅dq₁₀ ⋅θ₁₀⋅θ₂₀⋅θ₃₀ \n",
              "θ₁₀⋅θ₂₀⋅θ₃₀ - sin(2⋅q₁₀)⋅dq₀₀⋅dq₁₀⋅θ₁₀⋅θ₂₀⋅θ₃₀ - ──────────────────────────── \n",
              "                                                              2               \n",
              "──────────────────────────────────────────────────────────────────────────────\n",
              "                                           ⎛   2               ⎞              \n",
              "                                           ⎝sin (q₁₀)⋅θ₁₀ + θ₀₀⎠⋅θ₂₀⋅θ₃₀      \n",
              "\n",
              "                                                                              \n",
              "  cos(q₀₀ + 2⋅q₁₀)⋅θ₁₀⋅θ₄₀                      cos(q₀₀)⋅θ₁₀⋅θ₄₀              \n",
              "- ──────────────────────── + cos(q₀₀)⋅θ₀₀⋅θ₄₀ + ────────────────              \n",
              "             2                                         2                      \n",
              "────────────────────────────────────────────────────────────────              \n",
              "                                                                              \n",
              "                                                                              \n",
              "                                                                              \n",
              "                                                                              \n",
              "  cos(q₀₀ - q₁₀)⋅θ₀₀⋅θ₂₀⋅θ₄₀   cos(q₀₀ - q₁₀)⋅θ₁₀⋅θ₂₀⋅θ₄₀   cos(q₀₀ + q₁₀)⋅θ₀₀\n",
              "- ────────────────────────── - ────────────────────────── + ──────────────────\n",
              "              2                            2                            2     \n",
              "──────────────────────────────────────────────────────────────────────────────\n",
              "                                                                              \n",
              "                                                                              \n",
              "\n",
              "                                                                              \n",
              "                                                                              \n",
              "                                                                              \n",
              "                                                                              \n",
              "                                                                              \n",
              "                                                                              \n",
              "                                                                              \n",
              "                                                                              \n",
              "                                                                              \n",
              "⋅θ₂₀⋅θ₄₀   cos(q₀₀ + q₁₀)⋅θ₁₀⋅θ₂₀⋅θ₄₀   cos(q₀₀ + 2⋅q₁₀)⋅θ₁₀⋅θ₃₀⋅θ₄₀          \n",
              "──────── + ────────────────────────── + ──────────────────────────── - cos(q₀₀\n",
              "                       2                             2                        \n",
              "──────────────────────────────────────────────────────────────────────────────\n",
              "                                                                              \n",
              "                                                                              \n",
              "\n",
              "                                    ⎤\n",
              "                                    ⎥\n",
              "                                    ⎥\n",
              "                                    ⎥\n",
              "                                    ⎥\n",
              "                                    ⎥\n",
              "                                    ⎥\n",
              "                                    ⎥\n",
              "                                    ⎥\n",
              "                cos(q₀₀)⋅θ₁₀⋅θ₃₀⋅θ₄₀⎥\n",
              ")⋅θ₀₀⋅θ₃₀⋅θ₄₀ - ────────────────────⎥\n",
              "                         2          ⎥\n",
              "────────────────────────────────────⎥\n",
              "                                    ⎥\n",
              "                                    ⎦"
            ],
            "text/latex": "$\\displaystyle \\left[\\begin{matrix}\\frac{\\sin{\\left(q_{1, 0} \\right)} dq_{0, 0}^{2} \\theta_{1, 0} \\theta_{3, 0} + 2 \\sin{\\left(q_{1, 0} \\right)} dq_{0, 0} dq_{1, 0} \\theta_{1, 0} \\theta_{3, 0} + \\sin{\\left(q_{1, 0} \\right)} dq_{1, 0}^{2} \\theta_{1, 0} \\theta_{3, 0} + \\frac{\\sin{\\left(2 q_{1, 0} \\right)} dq_{0, 0}^{2} \\theta_{1, 0} \\theta_{2, 0}}{2} - \\frac{\\cos{\\left(q_{0, 0} + 2 q_{1, 0} \\right)} \\theta_{1, 0} \\theta_{4, 0}}{2} + \\cos{\\left(q_{0, 0} \\right)} \\theta_{0, 0} \\theta_{4, 0} + \\frac{\\cos{\\left(q_{0, 0} \\right)} \\theta_{1, 0} \\theta_{4, 0}}{2}}{\\left(\\sin^{2}{\\left(q_{1, 0} \\right)} \\theta_{1, 0} + \\theta_{0, 0}\\right) \\theta_{2, 0}}\\\\\\frac{- \\sin{\\left(q_{1, 0} \\right)} dq_{0, 0}^{2} \\theta_{0, 0} \\theta_{2, 0}^{2} - \\sin{\\left(q_{1, 0} \\right)} dq_{0, 0}^{2} \\theta_{1, 0} \\theta_{2, 0}^{2} - \\sin{\\left(q_{1, 0} \\right)} dq_{0, 0}^{2} \\theta_{1, 0} \\theta_{3, 0}^{2} - 2 \\sin{\\left(q_{1, 0} \\right)} dq_{0, 0} dq_{1, 0} \\theta_{1, 0} \\theta_{3, 0}^{2} - \\sin{\\left(q_{1, 0} \\right)} dq_{1, 0}^{2} \\theta_{1, 0} \\theta_{3, 0}^{2} - \\sin{\\left(2 q_{1, 0} \\right)} dq_{0, 0}^{2} \\theta_{1, 0} \\theta_{2, 0} \\theta_{3, 0} - \\sin{\\left(2 q_{1, 0} \\right)} dq_{0, 0} dq_{1, 0} \\theta_{1, 0} \\theta_{2, 0} \\theta_{3, 0} - \\frac{\\sin{\\left(2 q_{1, 0} \\right)} dq_{1, 0}^{2} \\theta_{1, 0} \\theta_{2, 0} \\theta_{3, 0}}{2} - \\frac{\\cos{\\left(q_{0, 0} - q_{1, 0} \\right)} \\theta_{0, 0} \\theta_{2, 0} \\theta_{4, 0}}{2} - \\frac{\\cos{\\left(q_{0, 0} - q_{1, 0} \\right)} \\theta_{1, 0} \\theta_{2, 0} \\theta_{4, 0}}{2} + \\frac{\\cos{\\left(q_{0, 0} + q_{1, 0} \\right)} \\theta_{0, 0} \\theta_{2, 0} \\theta_{4, 0}}{2} + \\frac{\\cos{\\left(q_{0, 0} + q_{1, 0} \\right)} \\theta_{1, 0} \\theta_{2, 0} \\theta_{4, 0}}{2} + \\frac{\\cos{\\left(q_{0, 0} + 2 q_{1, 0} \\right)} \\theta_{1, 0} \\theta_{3, 0} \\theta_{4, 0}}{2} - \\cos{\\left(q_{0, 0} \\right)} \\theta_{0, 0} \\theta_{3, 0} \\theta_{4, 0} - \\frac{\\cos{\\left(q_{0, 0} \\right)} \\theta_{1, 0} \\theta_{3, 0} \\theta_{4, 0}}{2}}{\\left(\\sin^{2}{\\left(q_{1, 0} \\right)} \\theta_{1, 0} + \\theta_{0, 0}\\right) \\theta_{2, 0} \\theta_{3, 0}}\\end{matrix}\\right]$"
          },
          "metadata": {},
          "execution_count": 35
        }
      ]
    },
    {
      "cell_type": "code",
      "source": [
        "f = lambdify([theta, q, dq], ddq)\n",
        "??f"
      ],
      "metadata": {
        "id": "0Nv2P2iiyJDJ"
      },
      "execution_count": 36,
      "outputs": []
    }
  ]
}