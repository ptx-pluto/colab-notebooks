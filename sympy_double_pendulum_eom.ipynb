{
  "nbformat": 4,
  "nbformat_minor": 0,
  "metadata": {
    "colab": {
      "provenance": [],
      "collapsed_sections": [],
      "authorship_tag": "ABX9TyO9OcCB9oSWoXa+GM+uaMxH",
      "include_colab_link": true
    },
    "kernelspec": {
      "name": "python3",
      "display_name": "Python 3"
    },
    "language_info": {
      "name": "python"
    }
  },
  "cells": [
    {
      "cell_type": "markdown",
      "metadata": {
        "id": "view-in-github",
        "colab_type": "text"
      },
      "source": [
        "<a href=\"https://colab.research.google.com/github/xu-pu/colab-notebooks/blob/master/sympy_double_pendulum_eom.ipynb\" target=\"_parent\"><img src=\"https://colab.research.google.com/assets/colab-badge.svg\" alt=\"Open In Colab\"/></a>"
      ]
    },
    {
      "cell_type": "markdown",
      "metadata": {
        "id": "z8A9GNB7YPyy"
      },
      "source": [
        "# Derive the Equations of Motion (EoM) of Double Pendulum"
      ]
    },
    {
      "cell_type": "code",
      "source": [
        "from sympy import *\n",
        "init_printing()"
      ],
      "metadata": {
        "id": "dUJaDhTVlIan"
      },
      "execution_count": 15,
      "outputs": []
    },
    {
      "cell_type": "markdown",
      "source": [
        "Declare symbols"
      ],
      "metadata": {
        "id": "rOHe8Fw9hmvT"
      }
    },
    {
      "cell_type": "code",
      "source": [
        "t, g, l1, l2, m1, m2, ddq1, ddq2 = symbols('t g l_1 l_2 m_1 m_2 \\ddot{q_1} \\ddot{q_2}')\n",
        "q1 = Function('q_1')(t)\n",
        "q2 = Function('q_2')(t)\n",
        "dq1 = Function('\\dot{q_1}')(t)\n",
        "dq2 = Function('\\dot{q_2}')(t)\n",
        "t, g, l1, l2, m1, m2, q1, q2, dq1, dq2, ddq1, ddq2"
      ],
      "metadata": {
        "colab": {
          "base_uri": "https://localhost:8080/",
          "height": 39
        },
        "id": "MbtGdB27gLJE",
        "outputId": "36e72b6b-9221-470c-bbab-c94bcbc728e3"
      },
      "execution_count": 16,
      "outputs": [
        {
          "output_type": "execute_result",
          "data": {
            "text/plain": [
              "(t, g, l₁, l₂, m₁, m₂, q₁(t), q₂(t), \\dot{q_1}(t), \\dot{q_2}(t), \\ddot{q_1}, \\\n",
              "ddot{q_2})"
            ],
            "image/png": "[encoded data removed]",
            "text/latex": "$\\displaystyle \\left( t, \\  g, \\  l_{1}, \\  l_{2}, \\  m_{1}, \\  m_{2}, \\  \\operatorname{q_{1}}{\\left(t \\right)}, \\  \\operatorname{q_{2}}{\\left(t \\right)}, \\  \\dot{q_1}{\\left(t \\right)}, \\  \\dot{q_2}{\\left(t \\right)}, \\  \\ddot{q_1}, \\  \\ddot{q_2}\\right)$"
          },
          "metadata": {},
          "execution_count": 16
        }
      ]
    },
    {
      "cell_type": "markdown",
      "source": [
        "Derive the positions and velocities of the centers of mass"
      ],
      "metadata": {
        "id": "RQQ_bJ3th8L_"
      }
    },
    {
      "cell_type": "code",
      "source": [
        "x1 = l1 * sin(q1)\n",
        "y1 = -l1 * cos(q1)\n",
        "x2 = x1 + l2 * sin(q1+q2)\n",
        "y2 = y1 - l2 * cos(q1+q2)\n",
        "\n",
        "# substitution rules\n",
        "rule = [(q1.diff(t),dq1),(q2.diff(t),dq2), (dq1.diff(t),ddq1), (dq2.diff(t),ddq2)]\n",
        "\n",
        "dx1 = x1.diff(t).subs(rule)\n",
        "dy1 = y1.diff(t).subs(rule)\n",
        "dx2 = x2.diff(t).subs(rule)\n",
        "dy2 = y2.diff(t).subs(rule)"
      ],
      "metadata": {
        "id": "x_tqt-MBiT8t"
      },
      "execution_count": 17,
      "outputs": []
    },
    {
      "cell_type": "markdown",
      "source": [
        "Derive the Lagrangian $\\mathcal{L} = T-V$"
      ],
      "metadata": {
        "id": "t9HL0bAkiXT2"
      }
    },
    {
      "cell_type": "code",
      "source": [
        "T1 = S.Half * m1 * (dx1**2 + dy1**2)\n",
        "T2 = S.Half * m2 * (dx2**2 + dy2**2)\n",
        "\n",
        "V1 = m1 * g * y1\n",
        "V2 = m2 * g * y2\n",
        "\n",
        "T = T1+T2\n",
        "V = V1+V2\n",
        "\n",
        "L = T-V\n",
        "L = simplify(L)"
      ],
      "metadata": {
        "id": "cjFmRd7Fiiwz"
      },
      "execution_count": 18,
      "outputs": []
    },
    {
      "cell_type": "markdown",
      "source": [
        "Construct the Euler-Lagrange Equation\n",
        "$$\n",
        "\\frac{d}{d t} \\frac{\\partial \\mathcal{L}}{\\partial \\dot{q}}-\\frac{\\partial \\mathcal{L}}{\\partial q} = 0\n",
        "$$"
      ],
      "metadata": {
        "id": "Fk7GzwRyijEV"
      }
    },
    {
      "cell_type": "code",
      "metadata": {
        "id": "tuhl5sOSYcFz"
      },
      "source": [
        "eq1 = L.diff(dq1).diff(t) - L.diff(q1)\n",
        "eq1 = eq1.subs(rule)\n",
        "eq1 = simplify(eq1)\n",
        "\n",
        "\n",
        "eq2 = L.diff(dq2).diff(t) - L.diff(q2)\n",
        "eq2 = eq2.subs(rule)\n",
        "eq2 = simplify(eq2)"
      ],
      "execution_count": 19,
      "outputs": []
    },
    {
      "cell_type": "markdown",
      "source": [
        "Solve for $\\ddot{q}$"
      ],
      "metadata": {
        "id": "XLRGfSbOjMIE"
      }
    },
    {
      "cell_type": "code",
      "source": [
        "ans = solve((Eq(eq1,0),Eq(eq2,0)),(ddq1, ddq2))\n",
        "sol_ddq1 = simplify(ans[ddq1])\n",
        "sol_ddq2 = simplify(ans[ddq2])\n",
        "sol_ddq1, sol_ddq2"
      ],
      "metadata": {
        "colab": {
          "base_uri": "https://localhost:8080/",
          "height": 89
        },
        "id": "JGzqkcCVjRgF",
        "outputId": "a7b9a6c4-8e4d-4b51-da3f-252ab448cfac"
      },
      "execution_count": 20,
      "outputs": [
        {
          "output_type": "execute_result",
          "data": {
            "text/plain": [
              "⎛                                                                             \n",
              "⎜                   g⋅m₂⋅sin(q₁(t) + 2⋅q₂(t))   g⋅m₂⋅sin(q₁(t))   l₁⋅m₂⋅\\dot{q\n",
              "⎜-g⋅m₁⋅sin(q₁(t)) + ───────────────────────── - ─────────────── + ────────────\n",
              "⎜                               2                      2                      \n",
              "⎜─────────────────────────────────────────────────────────────────────────────\n",
              "⎜                                                                             \n",
              "⎝                                                                             \n",
              "\n",
              "   2                                                                          \n",
              "_1} (t)⋅sin(2⋅q₂(t))                  2                                       \n",
              "──────────────────── + l₂⋅m₂⋅\\dot{q_1} (t)⋅sin(q₂(t)) + 2⋅l₂⋅m₂⋅\\dot{q_1}(t)⋅\\\n",
              "   2                                                                          \n",
              "──────────────────────────────────────────────────────────────────────────────\n",
              "                   ⎛           2       ⎞                                      \n",
              "                l₁⋅⎝m₁ + m₂⋅sin (q₂(t))⎠                                      \n",
              "\n",
              "                                                                              \n",
              "                                        2                g⋅l₁⋅m₁⋅sin(q₁(t) - q\n",
              "dot{q_2}(t)⋅sin(q₂(t)) + l₂⋅m₂⋅\\dot{q_2} (t)⋅sin(q₂(t))  ─────────────────────\n",
              "                                                                     2        \n",
              "───────────────────────────────────────────────────────, ─────────────────────\n",
              "                                                                              \n",
              "                                                                              \n",
              "\n",
              "                                                                              \n",
              "₂(t))   g⋅l₁⋅m₁⋅sin(q₁(t) + q₂(t))   g⋅l₁⋅m₂⋅sin(q₁(t) - q₂(t))   g⋅l₁⋅m₂⋅sin(\n",
              "───── - ────────────────────────── + ────────────────────────── - ────────────\n",
              "                    2                            2                            \n",
              "──────────────────────────────────────────────────────────────────────────────\n",
              "                                                                              \n",
              "                                                                              \n",
              "\n",
              "                                                                              \n",
              "q₁(t) + q₂(t))                        g⋅l₂⋅m₂⋅sin(q₁(t) + 2⋅q₂(t))   g⋅l₂⋅m₂⋅s\n",
              "────────────── + g⋅l₂⋅m₁⋅sin(q₁(t)) - ──────────────────────────── + ─────────\n",
              "2                                                  2                         2\n",
              "──────────────────────────────────────────────────────────────────────────────\n",
              "                                                                              \n",
              "                                                                              \n",
              "\n",
              "                                                                              \n",
              "in(q₁(t))     2             2                   2             2               \n",
              "───────── - l₁ ⋅m₁⋅\\dot{q_1} (t)⋅sin(q₂(t)) - l₁ ⋅m₂⋅\\dot{q_1} (t)⋅sin(q₂(t)) \n",
              "                                                                              \n",
              "──────────────────────────────────────────────────────────────────────────────\n",
              "                                                               ⎛           2  \n",
              "                                                         l₁⋅l₂⋅⎝m₁ + m₂⋅sin (q\n",
              "\n",
              "                                                                              \n",
              "                    2                                                         \n",
              "- l₁⋅l₂⋅m₂⋅\\dot{q_1} (t)⋅sin(2⋅q₂(t)) - l₁⋅l₂⋅m₂⋅\\dot{q_1}(t)⋅\\dot{q_2}(t)⋅sin\n",
              "                                                                              \n",
              "──────────────────────────────────────────────────────────────────────────────\n",
              "     ⎞                                                                        \n",
              "₂(t))⎠                                                                        \n",
              "\n",
              "                              2                                               \n",
              "            l₁⋅l₂⋅m₂⋅\\dot{q_2} (t)⋅sin(2⋅q₂(t))     2             2           \n",
              "(2⋅q₂(t)) - ─────────────────────────────────── - l₂ ⋅m₂⋅\\dot{q_1} (t)⋅sin(q₂(\n",
              "                             2                                                \n",
              "──────────────────────────────────────────────────────────────────────────────\n",
              "                                                                              \n",
              "                                                                              \n",
              "\n",
              "                                                                              \n",
              "          2                                             2             2       \n",
              "t)) - 2⋅l₂ ⋅m₂⋅\\dot{q_1}(t)⋅\\dot{q_2}(t)⋅sin(q₂(t)) - l₂ ⋅m₂⋅\\dot{q_2} (t)⋅sin\n",
              "                                                                              \n",
              "──────────────────────────────────────────────────────────────────────────────\n",
              "                                                                              \n",
              "                                                                              \n",
              "\n",
              "       ⎞\n",
              "       ⎟\n",
              "(q₂(t))⎟\n",
              "       ⎟\n",
              "───────⎟\n",
              "       ⎟\n",
              "       ⎠"
            ],
            "image/png": "[encoded data removed]",
            "text/latex": "$\\displaystyle \\left( \\frac{- g m_{1} \\sin{\\left(\\operatorname{q_{1}}{\\left(t \\right)} \\right)} + \\frac{g m_{2} \\sin{\\left(\\operatorname{q_{1}}{\\left(t \\right)} + 2 \\operatorname{q_{2}}{\\left(t \\right)} \\right)}}{2} - \\frac{g m_{2} \\sin{\\left(\\operatorname{q_{1}}{\\left(t \\right)} \\right)}}{2} + \\frac{l_{1} m_{2} \\dot{q_1}^{2}{\\left(t \\right)} \\sin{\\left(2 \\operatorname{q_{2}}{\\left(t \\right)} \\right)}}{2} + l_{2} m_{2} \\dot{q_1}^{2}{\\left(t \\right)} \\sin{\\left(\\operatorname{q_{2}}{\\left(t \\right)} \\right)} + 2 l_{2} m_{2} \\dot{q_1}{\\left(t \\right)} \\dot{q_2}{\\left(t \\right)} \\sin{\\left(\\operatorname{q_{2}}{\\left(t \\right)} \\right)} + l_{2} m_{2} \\dot{q_2}^{2}{\\left(t \\right)} \\sin{\\left(\\operatorname{q_{2}}{\\left(t \\right)} \\right)}}{l_{1} \\left(m_{1} + m_{2} \\sin^{2}{\\left(\\operatorname{q_{2}}{\\left(t \\right)} \\right)}\\right)}, \\  \\frac{\\frac{g l_{1} m_{1} \\sin{\\left(\\operatorname{q_{1}}{\\left(t \\right)} - \\operatorname{q_{2}}{\\left(t \\right)} \\right)}}{2} - \\frac{g l_{1} m_{1} \\sin{\\left(\\operatorname{q_{1}}{\\left(t \\right)} + \\operatorname{q_{2}}{\\left(t \\right)} \\right)}}{2} + \\frac{g l_{1} m_{2} \\sin{\\left(\\operatorname{q_{1}}{\\left(t \\right)} - \\operatorname{q_{2}}{\\left(t \\right)} \\right)}}{2} - \\frac{g l_{1} m_{2} \\sin{\\left(\\operatorname{q_{1}}{\\left(t \\right)} + \\operatorname{q_{2}}{\\left(t \\right)} \\right)}}{2} + g l_{2} m_{1} \\sin{\\left(\\operatorname{q_{1}}{\\left(t \\right)} \\right)} - \\frac{g l_{2} m_{2} \\sin{\\left(\\operatorname{q_{1}}{\\left(t \\right)} + 2 \\operatorname{q_{2}}{\\left(t \\right)} \\right)}}{2} + \\frac{g l_{2} m_{2} \\sin{\\left(\\operatorname{q_{1}}{\\left(t \\right)} \\right)}}{2} - l_{1}^{2} m_{1} \\dot{q_1}^{2}{\\left(t \\right)} \\sin{\\left(\\operatorname{q_{2}}{\\left(t \\right)} \\right)} - l_{1}^{2} m_{2} \\dot{q_1}^{2}{\\left(t \\right)} \\sin{\\left(\\operatorname{q_{2}}{\\left(t \\right)} \\right)} - l_{1} l_{2} m_{2} \\dot{q_1}^{2}{\\left(t \\right)} \\sin{\\left(2 \\operatorname{q_{2}}{\\left(t \\right)} \\right)} - l_{1} l_{2} m_{2} \\dot{q_1}{\\left(t \\right)} \\dot{q_2}{\\left(t \\right)} \\sin{\\left(2 \\operatorname{q_{2}}{\\left(t \\right)} \\right)} - \\frac{l_{1} l_{2} m_{2} \\dot{q_2}^{2}{\\left(t \\right)} \\sin{\\left(2 \\operatorname{q_{2}}{\\left(t \\right)} \\right)}}{2} - l_{2}^{2} m_{2} \\dot{q_1}^{2}{\\left(t \\right)} \\sin{\\left(\\operatorname{q_{2}}{\\left(t \\right)} \\right)} - 2 l_{2}^{2} m_{2} \\dot{q_1}{\\left(t \\right)} \\dot{q_2}{\\left(t \\right)} \\sin{\\left(\\operatorname{q_{2}}{\\left(t \\right)} \\right)} - l_{2}^{2} m_{2} \\dot{q_2}^{2}{\\left(t \\right)} \\sin{\\left(\\operatorname{q_{2}}{\\left(t \\right)} \\right)}}{l_{1} l_{2} \\left(m_{1} + m_{2} \\sin^{2}{\\left(\\operatorname{q_{2}}{\\left(t \\right)} \\right)}\\right)}\\right)$"
          },
          "metadata": {},
          "execution_count": 20
        }
      ]
    },
    {
      "cell_type": "markdown",
      "source": [
        "# Construct the Equations of Motion (EoM) in Matrix Form\n",
        "\n",
        "$$\n",
        "\\text{Equations of Motion:} \\quad \\ddot{q} = f(\\theta, q,\\dot{q})\n",
        "$$\n",
        "\n",
        "where $\\theta$ is the system parameters $(m_1, m_2, l_1, l_2, g)$"
      ],
      "metadata": {
        "id": "KRV6KWi7n4mW"
      }
    },
    {
      "cell_type": "code",
      "source": [
        "q = MatrixSymbol('q',2,1)\n",
        "dq = MatrixSymbol('dq',2,1)\n",
        "ddq = MatrixSymbol('ddq',2,1)\n",
        "theta = MatrixSymbol('theta',5,1)\n",
        "\n",
        "# substitution rules\n",
        "rules_eom = [\n",
        "    (m1, theta[0,0]),\n",
        "    (m2, theta[1,0]),\n",
        "    (l1, theta[2,0]),\n",
        "    (l2, theta[3,0]),\n",
        "    (g,  theta[4,0]),\n",
        "    (q1, q[0,0]),\n",
        "    (q2, q[1,0]),\n",
        "    (dq1, dq[0,0]),\n",
        "    (dq2, dq[1,0])\n",
        "    ]\n",
        "\n",
        "# right hand side\n",
        "eom_rhs = ImmutableMatrix([\n",
        "   sol_ddq1.subs(rules_eom),\n",
        "   sol_ddq2.subs(rules_eom)\n",
        "])\n",
        "\n",
        "eom = Eq(ddq,eom_rhs)  # equations of motion"
      ],
      "metadata": {
        "id": "2jCvAxcpn9oD"
      },
      "execution_count": 21,
      "outputs": []
    },
    {
      "cell_type": "markdown",
      "source": [
        "# Code Generation for C/C++"
      ],
      "metadata": {
        "id": "T5-fC1hddZjV"
      }
    },
    {
      "cell_type": "code",
      "source": [
        "from sympy.utilities.codegen import codegen\n",
        "from IPython.display import display, Code"
      ],
      "metadata": {
        "id": "t7iSO3C2UWqG"
      },
      "execution_count": 22,
      "outputs": []
    },
    {
      "cell_type": "code",
      "source": [
        "[(c_name, c_code), (h_name, c_header)] = codegen(\n",
        "    ('double_pendulum_eom', eom), \"C99\", \"double_pendulum\", \n",
        "    argument_sequence=[theta, q, dq, ddq],\n",
        "    header=False, empty=False\n",
        "    )"
      ],
      "metadata": {
        "id": "_ZyNOjqAbxaP"
      },
      "execution_count": 23,
      "outputs": []
    },
    {
      "cell_type": "code",
      "source": [
        "display(Code(c_header, language='c'))"
      ],
      "metadata": {
        "colab": {
          "base_uri": "https://localhost:8080/",
          "height": 86
        },
        "id": "L74g2bSrfi7Z",
        "outputId": "8e314e9f-96f5-4976-a523-1f14222efa21"
      },
      "execution_count": 24,
      "outputs": [
        {
          "output_type": "display_data",
          "data": {
            "text/plain": [
              "#ifndef PROJECT__DOUBLE_PENDULUM__H\n",
              "#define PROJECT__DOUBLE_PENDULUM__H\n",
              "void double_pendulum_eom(double *theta, double *q, double *dq, double *ddq);\n",
              "#endif"
            ],
            "text/html": [
              "<style>.output_html .hll { background-color: #ffffcc }\n",
              ".output_html  { background: #f8f8f8; }\n",
              ".output_html .c { color: #408080; font-style: italic } /* Comment */\n",
              ".output_html .err { border: 1px solid #FF0000 } /* Error */\n",
              ".output_html .k { color: #008000; font-weight: bold } /* Keyword */\n",
              ".output_html .o { color: #666666 } /* Operator */\n",
              ".output_html .ch { color: #408080; font-style: italic } /* Comment.Hashbang */\n",
              ".output_html .cm { color: #408080; font-style: italic } /* Comment.Multiline */\n",
              ".output_html .cp { color: #BC7A00 } /* Comment.Preproc */\n",
              ".output_html .cpf { color: #408080; font-style: italic } /* Comment.PreprocFile */\n",
              ".output_html .c1 { color: #408080; font-style: italic } /* Comment.Single */\n",
              ".output_html .cs { color: #408080; font-style: italic } /* Comment.Special */\n",
              ".output_html .gd { color: #A00000 } /* Generic.Deleted */\n",
              ".output_html .ge { font-style: italic } /* Generic.Emph */\n",
              ".output_html .gr { color: #FF0000 } /* Generic.Error */\n",
              ".output_html .gh { color: #000080; font-weight: bold } /* Generic.Heading */\n",
              ".output_html .gi { color: #00A000 } /* Generic.Inserted */\n",
              ".output_html .go { color: #888888 } /* Generic.Output */\n",
              ".output_html .gp { color: #000080; font-weight: bold } /* Generic.Prompt */\n",
              ".output_html .gs { font-weight: bold } /* Generic.Strong */\n",
              ".output_html .gu { color: #800080; font-weight: bold } /* Generic.Subheading */\n",
              ".output_html .gt { color: #0044DD } /* Generic.Traceback */\n",
              ".output_html .kc { color: #008000; font-weight: bold } /* Keyword.Constant */\n",
              ".output_html .kd { color: #008000; font-weight: bold } /* Keyword.Declaration */\n",
              ".output_html .kn { color: #008000; font-weight: bold } /* Keyword.Namespace */\n",
              ".output_html .kp { color: #008000 } /* Keyword.Pseudo */\n",
              ".output_html .kr { color: #008000; font-weight: bold } /* Keyword.Reserved */\n",
              ".output_html .kt { color: #B00040 } /* Keyword.Type */\n",
              ".output_html .m { color: #666666 } /* Literal.Number */\n",
              ".output_html .s { color: #BA2121 } /* Literal.String */\n",
              ".output_html .na { color: #7D9029 } /* Name.Attribute */\n",
              ".output_html .nb { color: #008000 } /* Name.Builtin */\n",
              ".output_html .nc { color: #0000FF; font-weight: bold } /* Name.Class */\n",
              ".output_html .no { color: #880000 } /* Name.Constant */\n",
              ".output_html .nd { color: #AA22FF } /* Name.Decorator */\n",
              ".output_html .ni { color: #999999; font-weight: bold } /* Name.Entity */\n",
              ".output_html .ne { color: #D2413A; font-weight: bold } /* Name.Exception */\n",
              ".output_html .nf { color: #0000FF } /* Name.Function */\n",
              ".output_html .nl { color: #A0A000 } /* Name.Label */\n",
              ".output_html .nn { color: #0000FF; font-weight: bold } /* Name.Namespace */\n",
              ".output_html .nt { color: #008000; font-weight: bold } /* Name.Tag */\n",
              ".output_html .nv { color: #19177C } /* Name.Variable */\n",
              ".output_html .ow { color: #AA22FF; font-weight: bold } /* Operator.Word */\n",
              ".output_html .w { color: #bbbbbb } /* Text.Whitespace */\n",
              ".output_html .mb { color: #666666 } /* Literal.Number.Bin */\n",
              ".output_html .mf { color: #666666 } /* Literal.Number.Float */\n",
              ".output_html .mh { color: #666666 } /* Literal.Number.Hex */\n",
              ".output_html .mi { color: #666666 } /* Literal.Number.Integer */\n",
              ".output_html .mo { color: #666666 } /* Literal.Number.Oct */\n",
              ".output_html .sa { color: #BA2121 } /* Literal.String.Affix */\n",
              ".output_html .sb { color: #BA2121 } /* Literal.String.Backtick */\n",
              ".output_html .sc { color: #BA2121 } /* Literal.String.Char */\n",
              ".output_html .dl { color: #BA2121 } /* Literal.String.Delimiter */\n",
              ".output_html .sd { color: #BA2121; font-style: italic } /* Literal.String.Doc */\n",
              ".output_html .s2 { color: #BA2121 } /* Literal.String.Double */\n",
              ".output_html .se { color: #BB6622; font-weight: bold } /* Literal.String.Escape */\n",
              ".output_html .sh { color: #BA2121 } /* Literal.String.Heredoc */\n",
              ".output_html .si { color: #BB6688; font-weight: bold } /* Literal.String.Interpol */\n",
              ".output_html .sx { color: #008000 } /* Literal.String.Other */\n",
              ".output_html .sr { color: #BB6688 } /* Literal.String.Regex */\n",
              ".output_html .s1 { color: #BA2121 } /* Literal.String.Single */\n",
              ".output_html .ss { color: #19177C } /* Literal.String.Symbol */\n",
              ".output_html .bp { color: #008000 } /* Name.Builtin.Pseudo */\n",
              ".output_html .fm { color: #0000FF } /* Name.Function.Magic */\n",
              ".output_html .vc { color: #19177C } /* Name.Variable.Class */\n",
              ".output_html .vg { color: #19177C } /* Name.Variable.Global */\n",
              ".output_html .vi { color: #19177C } /* Name.Variable.Instance */\n",
              ".output_html .vm { color: #19177C } /* Name.Variable.Magic */\n",
              ".output_html .il { color: #666666 } /* Literal.Number.Integer.Long */</style><div class=\"highlight\"><pre><span></span><span class=\"cp\">#ifndef PROJECT__DOUBLE_PENDULUM__H</span>\n",
              "<span class=\"cp\">#define PROJECT__DOUBLE_PENDULUM__H</span>\n",
              "<span class=\"kt\">void</span> <span class=\"nf\">double_pendulum_eom</span><span class=\"p\">(</span><span class=\"kt\">double</span> <span class=\"o\">*</span><span class=\"n\">theta</span><span class=\"p\">,</span> <span class=\"kt\">double</span> <span class=\"o\">*</span><span class=\"n\">q</span><span class=\"p\">,</span> <span class=\"kt\">double</span> <span class=\"o\">*</span><span class=\"n\">dq</span><span class=\"p\">,</span> <span class=\"kt\">double</span> <span class=\"o\">*</span><span class=\"n\">ddq</span><span class=\"p\">);</span>\n",
              "<span class=\"cp\">#endif</span>\n",
              "</pre></div>\n"
            ],
            "text/latex": "\\begin{Verbatim}[commandchars=\\\\\\{\\}]\n\\PY{c+cp}{\\PYZsh{}}\\PY{c+cp}{ifndef PROJECT\\PYZus{}\\PYZus{}DOUBLE\\PYZus{}PENDULUM\\PYZus{}\\PYZus{}H}\n\\PY{c+cp}{\\PYZsh{}}\\PY{c+cp}{define PROJECT\\PYZus{}\\PYZus{}DOUBLE\\PYZus{}PENDULUM\\PYZus{}\\PYZus{}H}\n\\PY{k+kt}{void} \\PY{n+nf}{double\\PYZus{}pendulum\\PYZus{}eom}\\PY{p}{(}\\PY{k+kt}{double} \\PY{o}{*}\\PY{n}{theta}\\PY{p}{,} \\PY{k+kt}{double} \\PY{o}{*}\\PY{n}{q}\\PY{p}{,} \\PY{k+kt}{double} \\PY{o}{*}\\PY{n}{dq}\\PY{p}{,} \\PY{k+kt}{double} \\PY{o}{*}\\PY{n}{ddq}\\PY{p}{)}\\PY{p}{;}\n\\PY{c+cp}{\\PYZsh{}}\\PY{c+cp}{endif}\n\\end{Verbatim}\n"
          },
          "metadata": {}
        }
      ]
    },
    {
      "cell_type": "code",
      "source": [
        "display(Code(c_code, language='c'))"
      ],
      "metadata": {
        "colab": {
          "base_uri": "https://localhost:8080/",
          "height": 141
        },
        "id": "dCocv6Ebf25O",
        "outputId": "15ca49c0-6b80-45b6-d13c-31b239654ba2"
      },
      "execution_count": 25,
      "outputs": [
        {
          "output_type": "display_data",
          "data": {
            "text/plain": [
              "#include \"double_pendulum.h\"\n",
              "#include <math.h>\n",
              "void double_pendulum_eom(double *theta, double *q, double *dq, double *ddq) {\n",
              "   ddq[0] = ((1.0/2.0)*sin(q[0] + 2*q[1])*theta[1]*theta[4] - sin(q[0])*theta[0]*theta[4] - 1.0/2.0*sin(q[0])*theta[1]*theta[4] + sin(q[1])*pow(dq[0], 2)*theta[1]*theta[3] + 2*sin(q[1])*dq[0]*dq[1]*theta[1]*theta[3] + sin(q[1])*pow(dq[1], 2)*theta[1]*theta[3] + (1.0/2.0)*sin(2*q[1])*pow(dq[0], 2)*theta[1]*theta[2])/((pow(sin(q[1]), 2)*theta[1] + theta[0])*theta[2]);\n",
              "   ddq[1] = ((1.0/2.0)*sin(q[0] - q[1])*theta[0]*theta[2]*theta[4] + (1.0/2.0)*sin(q[0] - q[1])*theta[1]*theta[2]*theta[4] - 1.0/2.0*sin(q[0] + q[1])*theta[0]*theta[2]*theta[4] - 1.0/2.0*sin(q[0] + q[1])*theta[1]*theta[2]*theta[4] - 1.0/2.0*sin(q[0] + 2*q[1])*theta[1]*theta[3]*theta[4] + sin(q[0])*theta[0]*theta[3]*theta[4] + (1.0/2.0)*sin(q[0])*theta[1]*theta[3]*theta[4] - sin(q[1])*pow(dq[0], 2)*theta[0]*pow(theta[2], 2) - sin(q[1])*pow(dq[0], 2)*theta[1]*pow(theta[2], 2) - sin(q[1])*pow(dq[0], 2)*theta[1]*pow(theta[3], 2) - 2*sin(q[1])*dq[0]*dq[1]*theta[1]*pow(theta[3], 2) - sin(q[1])*pow(dq[1], 2)*theta[1]*pow(theta[3], 2) - sin(2*q[1])*pow(dq[0], 2)*theta[1]*theta[2]*theta[3] - sin(2*q[1])*dq[0]*dq[1]*theta[1]*theta[2]*theta[3] - 1.0/2.0*sin(2*q[1])*pow(dq[1], 2)*theta[1]*theta[2]*theta[3])/((pow(sin(q[1]), 2)*theta[1] + theta[0])*theta[2]*theta[3]);\n",
              "}"
            ],
            "text/html": [
              "<style>.output_html .hll { background-color: #ffffcc }\n",
              ".output_html  { background: #f8f8f8; }\n",
              ".output_html .c { color: #408080; font-style: italic } /* Comment */\n",
              ".output_html .err { border: 1px solid #FF0000 } /* Error */\n",
              ".output_html .k { color: #008000; font-weight: bold } /* Keyword */\n",
              ".output_html .o { color: #666666 } /* Operator */\n",
              ".output_html .ch { color: #408080; font-style: italic } /* Comment.Hashbang */\n",
              ".output_html .cm { color: #408080; font-style: italic } /* Comment.Multiline */\n",
              ".output_html .cp { color: #BC7A00 } /* Comment.Preproc */\n",
              ".output_html .cpf { color: #408080; font-style: italic } /* Comment.PreprocFile */\n",
              ".output_html .c1 { color: #408080; font-style: italic } /* Comment.Single */\n",
              ".output_html .cs { color: #408080; font-style: italic } /* Comment.Special */\n",
              ".output_html .gd { color: #A00000 } /* Generic.Deleted */\n",
              ".output_html .ge { font-style: italic } /* Generic.Emph */\n",
              ".output_html .gr { color: #FF0000 } /* Generic.Error */\n",
              ".output_html .gh { color: #000080; font-weight: bold } /* Generic.Heading */\n",
              ".output_html .gi { color: #00A000 } /* Generic.Inserted */\n",
              ".output_html .go { color: #888888 } /* Generic.Output */\n",
              ".output_html .gp { color: #000080; font-weight: bold } /* Generic.Prompt */\n",
              ".output_html .gs { font-weight: bold } /* Generic.Strong */\n",
              ".output_html .gu { color: #800080; font-weight: bold } /* Generic.Subheading */\n",
              ".output_html .gt { color: #0044DD } /* Generic.Traceback */\n",
              ".output_html .kc { color: #008000; font-weight: bold } /* Keyword.Constant */\n",
              ".output_html .kd { color: #008000; font-weight: bold } /* Keyword.Declaration */\n",
              ".output_html .kn { color: #008000; font-weight: bold } /* Keyword.Namespace */\n",
              ".output_html .kp { color: #008000 } /* Keyword.Pseudo */\n",
              ".output_html .kr { color: #008000; font-weight: bold } /* Keyword.Reserved */\n",
              ".output_html .kt { color: #B00040 } /* Keyword.Type */\n",
              ".output_html .m { color: #666666 } /* Literal.Number */\n",
              ".output_html .s { color: #BA2121 } /* Literal.String */\n",
              ".output_html .na { color: #7D9029 } /* Name.Attribute */\n",
              ".output_html .nb { color: #008000 } /* Name.Builtin */\n",
              ".output_html .nc { color: #0000FF; font-weight: bold } /* Name.Class */\n",
              ".output_html .no { color: #880000 } /* Name.Constant */\n",
              ".output_html .nd { color: #AA22FF } /* Name.Decorator */\n",
              ".output_html .ni { color: #999999; font-weight: bold } /* Name.Entity */\n",
              ".output_html .ne { color: #D2413A; font-weight: bold } /* Name.Exception */\n",
              ".output_html .nf { color: #0000FF } /* Name.Function */\n",
              ".output_html .nl { color: #A0A000 } /* Name.Label */\n",
              ".output_html .nn { color: #0000FF; font-weight: bold } /* Name.Namespace */\n",
              ".output_html .nt { color: #008000; font-weight: bold } /* Name.Tag */\n",
              ".output_html .nv { color: #19177C } /* Name.Variable */\n",
              ".output_html .ow { color: #AA22FF; font-weight: bold } /* Operator.Word */\n",
              ".output_html .w { color: #bbbbbb } /* Text.Whitespace */\n",
              ".output_html .mb { color: #666666 } /* Literal.Number.Bin */\n",
              ".output_html .mf { color: #666666 } /* Literal.Number.Float */\n",
              ".output_html .mh { color: #666666 } /* Literal.Number.Hex */\n",
              ".output_html .mi { color: #666666 } /* Literal.Number.Integer */\n",
              ".output_html .mo { color: #666666 } /* Literal.Number.Oct */\n",
              ".output_html .sa { color: #BA2121 } /* Literal.String.Affix */\n",
              ".output_html .sb { color: #BA2121 } /* Literal.String.Backtick */\n",
              ".output_html .sc { color: #BA2121 } /* Literal.String.Char */\n",
              ".output_html .dl { color: #BA2121 } /* Literal.String.Delimiter */\n",
              ".output_html .sd { color: #BA2121; font-style: italic } /* Literal.String.Doc */\n",
              ".output_html .s2 { color: #BA2121 } /* Literal.String.Double */\n",
              ".output_html .se { color: #BB6622; font-weight: bold } /* Literal.String.Escape */\n",
              ".output_html .sh { color: #BA2121 } /* Literal.String.Heredoc */\n",
              ".output_html .si { color: #BB6688; font-weight: bold } /* Literal.String.Interpol */\n",
              ".output_html .sx { color: #008000 } /* Literal.String.Other */\n",
              ".output_html .sr { color: #BB6688 } /* Literal.String.Regex */\n",
              ".output_html .s1 { color: #BA2121 } /* Literal.String.Single */\n",
              ".output_html .ss { color: #19177C } /* Literal.String.Symbol */\n",
              ".output_html .bp { color: #008000 } /* Name.Builtin.Pseudo */\n",
              ".output_html .fm { color: #0000FF } /* Name.Function.Magic */\n",
              ".output_html .vc { color: #19177C } /* Name.Variable.Class */\n",
              ".output_html .vg { color: #19177C } /* Name.Variable.Global */\n",
              ".output_html .vi { color: #19177C } /* Name.Variable.Instance */\n",
              ".output_html .vm { color: #19177C } /* Name.Variable.Magic */\n",
              ".output_html .il { color: #666666 } /* Literal.Number.Integer.Long */</style><div class=\"highlight\"><pre><span></span><span class=\"cp\">#include</span> <span class=\"cpf\">&quot;double_pendulum.h&quot;</span><span class=\"cp\"></span>\n",
              "<span class=\"cp\">#include</span> <span class=\"cpf\">&lt;math.h&gt;</span><span class=\"cp\"></span>\n",
              "<span class=\"kt\">void</span> <span class=\"nf\">double_pendulum_eom</span><span class=\"p\">(</span><span class=\"kt\">double</span> <span class=\"o\">*</span><span class=\"n\">theta</span><span class=\"p\">,</span> <span class=\"kt\">double</span> <span class=\"o\">*</span><span class=\"n\">q</span><span class=\"p\">,</span> <span class=\"kt\">double</span> <span class=\"o\">*</span><span class=\"n\">dq</span><span class=\"p\">,</span> <span class=\"kt\">double</span> <span class=\"o\">*</span><span class=\"n\">ddq</span><span class=\"p\">)</span> <span class=\"p\">{</span>\n",
              "   <span class=\"n\">ddq</span><span class=\"p\">[</span><span class=\"mi\">0</span><span class=\"p\">]</span> <span class=\"o\">=</span> <span class=\"p\">((</span><span class=\"mf\">1.0</span><span class=\"o\">/</span><span class=\"mf\">2.0</span><span class=\"p\">)</span><span class=\"o\">*</span><span class=\"n\">sin</span><span class=\"p\">(</span><span class=\"n\">q</span><span class=\"p\">[</span><span class=\"mi\">0</span><span class=\"p\">]</span> <span class=\"o\">+</span> <span class=\"mi\">2</span><span class=\"o\">*</span><span class=\"n\">q</span><span class=\"p\">[</span><span class=\"mi\">1</span><span class=\"p\">])</span><span class=\"o\">*</span><span class=\"n\">theta</span><span class=\"p\">[</span><span class=\"mi\">1</span><span class=\"p\">]</span><span class=\"o\">*</span><span class=\"n\">theta</span><span class=\"p\">[</span><span class=\"mi\">4</span><span class=\"p\">]</span> <span class=\"o\">-</span> <span class=\"n\">sin</span><span class=\"p\">(</span><span class=\"n\">q</span><span class=\"p\">[</span><span class=\"mi\">0</span><span class=\"p\">])</span><span class=\"o\">*</span><span class=\"n\">theta</span><span class=\"p\">[</span><span class=\"mi\">0</span><span class=\"p\">]</span><span class=\"o\">*</span><span class=\"n\">theta</span><span class=\"p\">[</span><span class=\"mi\">4</span><span class=\"p\">]</span> <span class=\"o\">-</span> <span class=\"mf\">1.0</span><span class=\"o\">/</span><span class=\"mf\">2.0</span><span class=\"o\">*</span><span class=\"n\">sin</span><span class=\"p\">(</span><span class=\"n\">q</span><span class=\"p\">[</span><span class=\"mi\">0</span><span class=\"p\">])</span><span class=\"o\">*</span><span class=\"n\">theta</span><span class=\"p\">[</span><span class=\"mi\">1</span><span class=\"p\">]</span><span class=\"o\">*</span><span class=\"n\">theta</span><span class=\"p\">[</span><span class=\"mi\">4</span><span class=\"p\">]</span> <span class=\"o\">+</span> <span class=\"n\">sin</span><span class=\"p\">(</span><span class=\"n\">q</span><span class=\"p\">[</span><span class=\"mi\">1</span><span class=\"p\">])</span><span class=\"o\">*</span><span class=\"n\">pow</span><span class=\"p\">(</span><span class=\"n\">dq</span><span class=\"p\">[</span><span class=\"mi\">0</span><span class=\"p\">],</span> <span class=\"mi\">2</span><span class=\"p\">)</span><span class=\"o\">*</span><span class=\"n\">theta</span><span class=\"p\">[</span><span class=\"mi\">1</span><span class=\"p\">]</span><span class=\"o\">*</span><span class=\"n\">theta</span><span class=\"p\">[</span><span class=\"mi\">3</span><span class=\"p\">]</span> <span class=\"o\">+</span> <span class=\"mi\">2</span><span class=\"o\">*</span><span class=\"n\">sin</span><span class=\"p\">(</span><span class=\"n\">q</span><span class=\"p\">[</span><span class=\"mi\">1</span><span class=\"p\">])</span><span class=\"o\">*</span><span class=\"n\">dq</span><span class=\"p\">[</span><span class=\"mi\">0</span><span class=\"p\">]</span><span class=\"o\">*</span><span class=\"n\">dq</span><span class=\"p\">[</span><span class=\"mi\">1</span><span class=\"p\">]</span><span class=\"o\">*</span><span class=\"n\">theta</span><span class=\"p\">[</span><span class=\"mi\">1</span><span class=\"p\">]</span><span class=\"o\">*</span><span class=\"n\">theta</span><span class=\"p\">[</span><span class=\"mi\">3</span><span class=\"p\">]</span> <span class=\"o\">+</span> <span class=\"n\">sin</span><span class=\"p\">(</span><span class=\"n\">q</span><span class=\"p\">[</span><span class=\"mi\">1</span><span class=\"p\">])</span><span class=\"o\">*</span><span class=\"n\">pow</span><span class=\"p\">(</span><span class=\"n\">dq</span><span class=\"p\">[</span><span class=\"mi\">1</span><span class=\"p\">],</span> <span class=\"mi\">2</span><span class=\"p\">)</span><span class=\"o\">*</span><span class=\"n\">theta</span><span class=\"p\">[</span><span class=\"mi\">1</span><span class=\"p\">]</span><span class=\"o\">*</span><span class=\"n\">theta</span><span class=\"p\">[</span><span class=\"mi\">3</span><span class=\"p\">]</span> <span class=\"o\">+</span> <span class=\"p\">(</span><span class=\"mf\">1.0</span><span class=\"o\">/</span><span class=\"mf\">2.0</span><span class=\"p\">)</span><span class=\"o\">*</span><span class=\"n\">sin</span><span class=\"p\">(</span><span class=\"mi\">2</span><span class=\"o\">*</span><span class=\"n\">q</span><span class=\"p\">[</span><span class=\"mi\">1</span><span class=\"p\">])</span><span class=\"o\">*</span><span class=\"n\">pow</span><span class=\"p\">(</span><span class=\"n\">dq</span><span class=\"p\">[</span><span class=\"mi\">0</span><span class=\"p\">],</span> <span class=\"mi\">2</span><span class=\"p\">)</span><span class=\"o\">*</span><span class=\"n\">theta</span><span class=\"p\">[</span><span class=\"mi\">1</span><span class=\"p\">]</span><span class=\"o\">*</span><span class=\"n\">theta</span><span class=\"p\">[</span><span class=\"mi\">2</span><span class=\"p\">])</span><span class=\"o\">/</span><span class=\"p\">((</span><span class=\"n\">pow</span><span class=\"p\">(</span><span class=\"n\">sin</span><span class=\"p\">(</span><span class=\"n\">q</span><span class=\"p\">[</span><span class=\"mi\">1</span><span class=\"p\">]),</span> <span class=\"mi\">2</span><span class=\"p\">)</span><span class=\"o\">*</span><span class=\"n\">theta</span><span class=\"p\">[</span><span class=\"mi\">1</span><span class=\"p\">]</span> <span class=\"o\">+</span> <span class=\"n\">theta</span><span class=\"p\">[</span><span class=\"mi\">0</span><span class=\"p\">])</span><span class=\"o\">*</span><span class=\"n\">theta</span><span class=\"p\">[</span><span class=\"mi\">2</span><span class=\"p\">]);</span>\n",
              "   <span class=\"n\">ddq</span><span class=\"p\">[</span><span class=\"mi\">1</span><span class=\"p\">]</span> <span class=\"o\">=</span> <span class=\"p\">((</span><span class=\"mf\">1.0</span><span class=\"o\">/</span><span class=\"mf\">2.0</span><span class=\"p\">)</span><span class=\"o\">*</span><span class=\"n\">sin</span><span class=\"p\">(</span><span class=\"n\">q</span><span class=\"p\">[</span><span class=\"mi\">0</span><span class=\"p\">]</span> <span class=\"o\">-</span> <span class=\"n\">q</span><span class=\"p\">[</span><span class=\"mi\">1</span><span class=\"p\">])</span><span class=\"o\">*</span><span class=\"n\">theta</span><span class=\"p\">[</span><span class=\"mi\">0</span><span class=\"p\">]</span><span class=\"o\">*</span><span class=\"n\">theta</span><span class=\"p\">[</span><span class=\"mi\">2</span><span class=\"p\">]</span><span class=\"o\">*</span><span class=\"n\">theta</span><span class=\"p\">[</span><span class=\"mi\">4</span><span class=\"p\">]</span> <span class=\"o\">+</span> <span class=\"p\">(</span><span class=\"mf\">1.0</span><span class=\"o\">/</span><span class=\"mf\">2.0</span><span class=\"p\">)</span><span class=\"o\">*</span><span class=\"n\">sin</span><span class=\"p\">(</span><span class=\"n\">q</span><span class=\"p\">[</span><span class=\"mi\">0</span><span class=\"p\">]</span> <span class=\"o\">-</span> <span class=\"n\">q</span><span class=\"p\">[</span><span class=\"mi\">1</span><span class=\"p\">])</span><span class=\"o\">*</span><span class=\"n\">theta</span><span class=\"p\">[</span><span class=\"mi\">1</span><span class=\"p\">]</span><span class=\"o\">*</span><span class=\"n\">theta</span><span class=\"p\">[</span><span class=\"mi\">2</span><span class=\"p\">]</span><span class=\"o\">*</span><span class=\"n\">theta</span><span class=\"p\">[</span><span class=\"mi\">4</span><span class=\"p\">]</span> <span class=\"o\">-</span> <span class=\"mf\">1.0</span><span class=\"o\">/</span><span class=\"mf\">2.0</span><span class=\"o\">*</span><span class=\"n\">sin</span><span class=\"p\">(</span><span class=\"n\">q</span><span class=\"p\">[</span><span class=\"mi\">0</span><span class=\"p\">]</span> <span class=\"o\">+</span> <span class=\"n\">q</span><span class=\"p\">[</span><span class=\"mi\">1</span><span class=\"p\">])</span><span class=\"o\">*</span><span class=\"n\">theta</span><span class=\"p\">[</span><span class=\"mi\">0</span><span class=\"p\">]</span><span class=\"o\">*</span><span class=\"n\">theta</span><span class=\"p\">[</span><span class=\"mi\">2</span><span class=\"p\">]</span><span class=\"o\">*</span><span class=\"n\">theta</span><span class=\"p\">[</span><span class=\"mi\">4</span><span class=\"p\">]</span> <span class=\"o\">-</span> <span class=\"mf\">1.0</span><span class=\"o\">/</span><span class=\"mf\">2.0</span><span class=\"o\">*</span><span class=\"n\">sin</span><span class=\"p\">(</span><span class=\"n\">q</span><span class=\"p\">[</span><span class=\"mi\">0</span><span class=\"p\">]</span> <span class=\"o\">+</span> <span class=\"n\">q</span><span class=\"p\">[</span><span class=\"mi\">1</span><span class=\"p\">])</span><span class=\"o\">*</span><span class=\"n\">theta</span><span class=\"p\">[</span><span class=\"mi\">1</span><span class=\"p\">]</span><span class=\"o\">*</span><span class=\"n\">theta</span><span class=\"p\">[</span><span class=\"mi\">2</span><span class=\"p\">]</span><span class=\"o\">*</span><span class=\"n\">theta</span><span class=\"p\">[</span><span class=\"mi\">4</span><span class=\"p\">]</span> <span class=\"o\">-</span> <span class=\"mf\">1.0</span><span class=\"o\">/</span><span class=\"mf\">2.0</span><span class=\"o\">*</span><span class=\"n\">sin</span><span class=\"p\">(</span><span class=\"n\">q</span><span class=\"p\">[</span><span class=\"mi\">0</span><span class=\"p\">]</span> <span class=\"o\">+</span> <span class=\"mi\">2</span><span class=\"o\">*</span><span class=\"n\">q</span><span class=\"p\">[</span><span class=\"mi\">1</span><span class=\"p\">])</span><span class=\"o\">*</span><span class=\"n\">theta</span><span class=\"p\">[</span><span class=\"mi\">1</span><span class=\"p\">]</span><span class=\"o\">*</span><span class=\"n\">theta</span><span class=\"p\">[</span><span class=\"mi\">3</span><span class=\"p\">]</span><span class=\"o\">*</span><span class=\"n\">theta</span><span class=\"p\">[</span><span class=\"mi\">4</span><span class=\"p\">]</span> <span class=\"o\">+</span> <span class=\"n\">sin</span><span class=\"p\">(</span><span class=\"n\">q</span><span class=\"p\">[</span><span class=\"mi\">0</span><span class=\"p\">])</span><span class=\"o\">*</span><span class=\"n\">theta</span><span class=\"p\">[</span><span class=\"mi\">0</span><span class=\"p\">]</span><span class=\"o\">*</span><span class=\"n\">theta</span><span class=\"p\">[</span><span class=\"mi\">3</span><span class=\"p\">]</span><span class=\"o\">*</span><span class=\"n\">theta</span><span class=\"p\">[</span><span class=\"mi\">4</span><span class=\"p\">]</span> <span class=\"o\">+</span> <span class=\"p\">(</span><span class=\"mf\">1.0</span><span class=\"o\">/</span><span class=\"mf\">2.0</span><span class=\"p\">)</span><span class=\"o\">*</span><span class=\"n\">sin</span><span class=\"p\">(</span><span class=\"n\">q</span><span class=\"p\">[</span><span class=\"mi\">0</span><span class=\"p\">])</span><span class=\"o\">*</span><span class=\"n\">theta</span><span class=\"p\">[</span><span class=\"mi\">1</span><span class=\"p\">]</span><span class=\"o\">*</span><span class=\"n\">theta</span><span class=\"p\">[</span><span class=\"mi\">3</span><span class=\"p\">]</span><span class=\"o\">*</span><span class=\"n\">theta</span><span class=\"p\">[</span><span class=\"mi\">4</span><span class=\"p\">]</span> <span class=\"o\">-</span> <span class=\"n\">sin</span><span class=\"p\">(</span><span class=\"n\">q</span><span class=\"p\">[</span><span class=\"mi\">1</span><span class=\"p\">])</span><span class=\"o\">*</span><span class=\"n\">pow</span><span class=\"p\">(</span><span class=\"n\">dq</span><span class=\"p\">[</span><span class=\"mi\">0</span><span class=\"p\">],</span> <span class=\"mi\">2</span><span class=\"p\">)</span><span class=\"o\">*</span><span class=\"n\">theta</span><span class=\"p\">[</span><span class=\"mi\">0</span><span class=\"p\">]</span><span class=\"o\">*</span><span class=\"n\">pow</span><span class=\"p\">(</span><span class=\"n\">theta</span><span class=\"p\">[</span><span class=\"mi\">2</span><span class=\"p\">],</span> <span class=\"mi\">2</span><span class=\"p\">)</span> <span class=\"o\">-</span> <span class=\"n\">sin</span><span class=\"p\">(</span><span class=\"n\">q</span><span class=\"p\">[</span><span class=\"mi\">1</span><span class=\"p\">])</span><span class=\"o\">*</span><span class=\"n\">pow</span><span class=\"p\">(</span><span class=\"n\">dq</span><span class=\"p\">[</span><span class=\"mi\">0</span><span class=\"p\">],</span> <span class=\"mi\">2</span><span class=\"p\">)</span><span class=\"o\">*</span><span class=\"n\">theta</span><span class=\"p\">[</span><span class=\"mi\">1</span><span class=\"p\">]</span><span class=\"o\">*</span><span class=\"n\">pow</span><span class=\"p\">(</span><span class=\"n\">theta</span><span class=\"p\">[</span><span class=\"mi\">2</span><span class=\"p\">],</span> <span class=\"mi\">2</span><span class=\"p\">)</span> <span class=\"o\">-</span> <span class=\"n\">sin</span><span class=\"p\">(</span><span class=\"n\">q</span><span class=\"p\">[</span><span class=\"mi\">1</span><span class=\"p\">])</span><span class=\"o\">*</span><span class=\"n\">pow</span><span class=\"p\">(</span><span class=\"n\">dq</span><span class=\"p\">[</span><span class=\"mi\">0</span><span class=\"p\">],</span> <span class=\"mi\">2</span><span class=\"p\">)</span><span class=\"o\">*</span><span class=\"n\">theta</span><span class=\"p\">[</span><span class=\"mi\">1</span><span class=\"p\">]</span><span class=\"o\">*</span><span class=\"n\">pow</span><span class=\"p\">(</span><span class=\"n\">theta</span><span class=\"p\">[</span><span class=\"mi\">3</span><span class=\"p\">],</span> <span class=\"mi\">2</span><span class=\"p\">)</span> <span class=\"o\">-</span> <span class=\"mi\">2</span><span class=\"o\">*</span><span class=\"n\">sin</span><span class=\"p\">(</span><span class=\"n\">q</span><span class=\"p\">[</span><span class=\"mi\">1</span><span class=\"p\">])</span><span class=\"o\">*</span><span class=\"n\">dq</span><span class=\"p\">[</span><span class=\"mi\">0</span><span class=\"p\">]</span><span class=\"o\">*</span><span class=\"n\">dq</span><span class=\"p\">[</span><span class=\"mi\">1</span><span class=\"p\">]</span><span class=\"o\">*</span><span class=\"n\">theta</span><span class=\"p\">[</span><span class=\"mi\">1</span><span class=\"p\">]</span><span class=\"o\">*</span><span class=\"n\">pow</span><span class=\"p\">(</span><span class=\"n\">theta</span><span class=\"p\">[</span><span class=\"mi\">3</span><span class=\"p\">],</span> <span class=\"mi\">2</span><span class=\"p\">)</span> <span class=\"o\">-</span> <span class=\"n\">sin</span><span class=\"p\">(</span><span class=\"n\">q</span><span class=\"p\">[</span><span class=\"mi\">1</span><span class=\"p\">])</span><span class=\"o\">*</span><span class=\"n\">pow</span><span class=\"p\">(</span><span class=\"n\">dq</span><span class=\"p\">[</span><span class=\"mi\">1</span><span class=\"p\">],</span> <span class=\"mi\">2</span><span class=\"p\">)</span><span class=\"o\">*</span><span class=\"n\">theta</span><span class=\"p\">[</span><span class=\"mi\">1</span><span class=\"p\">]</span><span class=\"o\">*</span><span class=\"n\">pow</span><span class=\"p\">(</span><span class=\"n\">theta</span><span class=\"p\">[</span><span class=\"mi\">3</span><span class=\"p\">],</span> <span class=\"mi\">2</span><span class=\"p\">)</span> <span class=\"o\">-</span> <span class=\"n\">sin</span><span class=\"p\">(</span><span class=\"mi\">2</span><span class=\"o\">*</span><span class=\"n\">q</span><span class=\"p\">[</span><span class=\"mi\">1</span><span class=\"p\">])</span><span class=\"o\">*</span><span class=\"n\">pow</span><span class=\"p\">(</span><span class=\"n\">dq</span><span class=\"p\">[</span><span class=\"mi\">0</span><span class=\"p\">],</span> <span class=\"mi\">2</span><span class=\"p\">)</span><span class=\"o\">*</span><span class=\"n\">theta</span><span class=\"p\">[</span><span class=\"mi\">1</span><span class=\"p\">]</span><span class=\"o\">*</span><span class=\"n\">theta</span><span class=\"p\">[</span><span class=\"mi\">2</span><span class=\"p\">]</span><span class=\"o\">*</span><span class=\"n\">theta</span><span class=\"p\">[</span><span class=\"mi\">3</span><span class=\"p\">]</span> <span class=\"o\">-</span> <span class=\"n\">sin</span><span class=\"p\">(</span><span class=\"mi\">2</span><span class=\"o\">*</span><span class=\"n\">q</span><span class=\"p\">[</span><span class=\"mi\">1</span><span class=\"p\">])</span><span class=\"o\">*</span><span class=\"n\">dq</span><span class=\"p\">[</span><span class=\"mi\">0</span><span class=\"p\">]</span><span class=\"o\">*</span><span class=\"n\">dq</span><span class=\"p\">[</span><span class=\"mi\">1</span><span class=\"p\">]</span><span class=\"o\">*</span><span class=\"n\">theta</span><span class=\"p\">[</span><span class=\"mi\">1</span><span class=\"p\">]</span><span class=\"o\">*</span><span class=\"n\">theta</span><span class=\"p\">[</span><span class=\"mi\">2</span><span class=\"p\">]</span><span class=\"o\">*</span><span class=\"n\">theta</span><span class=\"p\">[</span><span class=\"mi\">3</span><span class=\"p\">]</span> <span class=\"o\">-</span> <span class=\"mf\">1.0</span><span class=\"o\">/</span><span class=\"mf\">2.0</span><span class=\"o\">*</span><span class=\"n\">sin</span><span class=\"p\">(</span><span class=\"mi\">2</span><span class=\"o\">*</span><span class=\"n\">q</span><span class=\"p\">[</span><span class=\"mi\">1</span><span class=\"p\">])</span><span class=\"o\">*</span><span class=\"n\">pow</span><span class=\"p\">(</span><span class=\"n\">dq</span><span class=\"p\">[</span><span class=\"mi\">1</span><span class=\"p\">],</span> <span class=\"mi\">2</span><span class=\"p\">)</span><span class=\"o\">*</span><span class=\"n\">theta</span><span class=\"p\">[</span><span class=\"mi\">1</span><span class=\"p\">]</span><span class=\"o\">*</span><span class=\"n\">theta</span><span class=\"p\">[</span><span class=\"mi\">2</span><span class=\"p\">]</span><span class=\"o\">*</span><span class=\"n\">theta</span><span class=\"p\">[</span><span class=\"mi\">3</span><span class=\"p\">])</span><span class=\"o\">/</span><span class=\"p\">((</span><span class=\"n\">pow</span><span class=\"p\">(</span><span class=\"n\">sin</span><span class=\"p\">(</span><span class=\"n\">q</span><span class=\"p\">[</span><span class=\"mi\">1</span><span class=\"p\">]),</span> <span class=\"mi\">2</span><span class=\"p\">)</span><span class=\"o\">*</span><span class=\"n\">theta</span><span class=\"p\">[</span><span class=\"mi\">1</span><span class=\"p\">]</span> <span class=\"o\">+</span> <span class=\"n\">theta</span><span class=\"p\">[</span><span class=\"mi\">0</span><span class=\"p\">])</span><span class=\"o\">*</span><span class=\"n\">theta</span><span class=\"p\">[</span><span class=\"mi\">2</span><span class=\"p\">]</span><span class=\"o\">*</span><span class=\"n\">theta</span><span class=\"p\">[</span><span class=\"mi\">3</span><span class=\"p\">]);</span>\n",
              "<span class=\"p\">}</span>\n",
              "</pre></div>\n"
            ],
            "text/latex": "\\begin{Verbatim}[commandchars=\\\\\\{\\}]\n\\PY{c+cp}{\\PYZsh{}}\\PY{c+cp}{include} \\PY{c+cpf}{\\PYZdq{}double\\PYZus{}pendulum.h\\PYZdq{}}\n\\PY{c+cp}{\\PYZsh{}}\\PY{c+cp}{include} \\PY{c+cpf}{\\PYZlt{}math.h\\PYZgt{}}\n\\PY{k+kt}{void} \\PY{n+nf}{double\\PYZus{}pendulum\\PYZus{}eom}\\PY{p}{(}\\PY{k+kt}{double} \\PY{o}{*}\\PY{n}{theta}\\PY{p}{,} \\PY{k+kt}{double} \\PY{o}{*}\\PY{n}{q}\\PY{p}{,} \\PY{k+kt}{double} \\PY{o}{*}\\PY{n}{dq}\\PY{p}{,} \\PY{k+kt}{double} \\PY{o}{*}\\PY{n}{ddq}\\PY{p}{)} \\PY{p}{\\PYZob{}}\n   \\PY{n}{ddq}\\PY{p}{[}\\PY{l+m+mi}{0}\\PY{p}{]} \\PY{o}{=} \\PY{p}{(}\\PY{p}{(}\\PY{l+m+mf}{1.0}\\PY{o}{/}\\PY{l+m+mf}{2.0}\\PY{p}{)}\\PY{o}{*}\\PY{n}{sin}\\PY{p}{(}\\PY{n}{q}\\PY{p}{[}\\PY{l+m+mi}{0}\\PY{p}{]} \\PY{o}{+} \\PY{l+m+mi}{2}\\PY{o}{*}\\PY{n}{q}\\PY{p}{[}\\PY{l+m+mi}{1}\\PY{p}{]}\\PY{p}{)}\\PY{o}{*}\\PY{n}{theta}\\PY{p}{[}\\PY{l+m+mi}{1}\\PY{p}{]}\\PY{o}{*}\\PY{n}{theta}\\PY{p}{[}\\PY{l+m+mi}{4}\\PY{p}{]} \\PY{o}{\\PYZhy{}} \\PY{n}{sin}\\PY{p}{(}\\PY{n}{q}\\PY{p}{[}\\PY{l+m+mi}{0}\\PY{p}{]}\\PY{p}{)}\\PY{o}{*}\\PY{n}{theta}\\PY{p}{[}\\PY{l+m+mi}{0}\\PY{p}{]}\\PY{o}{*}\\PY{n}{theta}\\PY{p}{[}\\PY{l+m+mi}{4}\\PY{p}{]} \\PY{o}{\\PYZhy{}} \\PY{l+m+mf}{1.0}\\PY{o}{/}\\PY{l+m+mf}{2.0}\\PY{o}{*}\\PY{n}{sin}\\PY{p}{(}\\PY{n}{q}\\PY{p}{[}\\PY{l+m+mi}{0}\\PY{p}{]}\\PY{p}{)}\\PY{o}{*}\\PY{n}{theta}\\PY{p}{[}\\PY{l+m+mi}{1}\\PY{p}{]}\\PY{o}{*}\\PY{n}{theta}\\PY{p}{[}\\PY{l+m+mi}{4}\\PY{p}{]} \\PY{o}{+} \\PY{n}{sin}\\PY{p}{(}\\PY{n}{q}\\PY{p}{[}\\PY{l+m+mi}{1}\\PY{p}{]}\\PY{p}{)}\\PY{o}{*}\\PY{n}{pow}\\PY{p}{(}\\PY{n}{dq}\\PY{p}{[}\\PY{l+m+mi}{0}\\PY{p}{]}\\PY{p}{,} \\PY{l+m+mi}{2}\\PY{p}{)}\\PY{o}{*}\\PY{n}{theta}\\PY{p}{[}\\PY{l+m+mi}{1}\\PY{p}{]}\\PY{o}{*}\\PY{n}{theta}\\PY{p}{[}\\PY{l+m+mi}{3}\\PY{p}{]} \\PY{o}{+} \\PY{l+m+mi}{2}\\PY{o}{*}\\PY{n}{sin}\\PY{p}{(}\\PY{n}{q}\\PY{p}{[}\\PY{l+m+mi}{1}\\PY{p}{]}\\PY{p}{)}\\PY{o}{*}\\PY{n}{dq}\\PY{p}{[}\\PY{l+m+mi}{0}\\PY{p}{]}\\PY{o}{*}\\PY{n}{dq}\\PY{p}{[}\\PY{l+m+mi}{1}\\PY{p}{]}\\PY{o}{*}\\PY{n}{theta}\\PY{p}{[}\\PY{l+m+mi}{1}\\PY{p}{]}\\PY{o}{*}\\PY{n}{theta}\\PY{p}{[}\\PY{l+m+mi}{3}\\PY{p}{]} \\PY{o}{+} \\PY{n}{sin}\\PY{p}{(}\\PY{n}{q}\\PY{p}{[}\\PY{l+m+mi}{1}\\PY{p}{]}\\PY{p}{)}\\PY{o}{*}\\PY{n}{pow}\\PY{p}{(}\\PY{n}{dq}\\PY{p}{[}\\PY{l+m+mi}{1}\\PY{p}{]}\\PY{p}{,} \\PY{l+m+mi}{2}\\PY{p}{)}\\PY{o}{*}\\PY{n}{theta}\\PY{p}{[}\\PY{l+m+mi}{1}\\PY{p}{]}\\PY{o}{*}\\PY{n}{theta}\\PY{p}{[}\\PY{l+m+mi}{3}\\PY{p}{]} \\PY{o}{+} \\PY{p}{(}\\PY{l+m+mf}{1.0}\\PY{o}{/}\\PY{l+m+mf}{2.0}\\PY{p}{)}\\PY{o}{*}\\PY{n}{sin}\\PY{p}{(}\\PY{l+m+mi}{2}\\PY{o}{*}\\PY{n}{q}\\PY{p}{[}\\PY{l+m+mi}{1}\\PY{p}{]}\\PY{p}{)}\\PY{o}{*}\\PY{n}{pow}\\PY{p}{(}\\PY{n}{dq}\\PY{p}{[}\\PY{l+m+mi}{0}\\PY{p}{]}\\PY{p}{,} \\PY{l+m+mi}{2}\\PY{p}{)}\\PY{o}{*}\\PY{n}{theta}\\PY{p}{[}\\PY{l+m+mi}{1}\\PY{p}{]}\\PY{o}{*}\\PY{n}{theta}\\PY{p}{[}\\PY{l+m+mi}{2}\\PY{p}{]}\\PY{p}{)}\\PY{o}{/}\\PY{p}{(}\\PY{p}{(}\\PY{n}{pow}\\PY{p}{(}\\PY{n}{sin}\\PY{p}{(}\\PY{n}{q}\\PY{p}{[}\\PY{l+m+mi}{1}\\PY{p}{]}\\PY{p}{)}\\PY{p}{,} \\PY{l+m+mi}{2}\\PY{p}{)}\\PY{o}{*}\\PY{n}{theta}\\PY{p}{[}\\PY{l+m+mi}{1}\\PY{p}{]} \\PY{o}{+} \\PY{n}{theta}\\PY{p}{[}\\PY{l+m+mi}{0}\\PY{p}{]}\\PY{p}{)}\\PY{o}{*}\\PY{n}{theta}\\PY{p}{[}\\PY{l+m+mi}{2}\\PY{p}{]}\\PY{p}{)}\\PY{p}{;}\n   \\PY{n}{ddq}\\PY{p}{[}\\PY{l+m+mi}{1}\\PY{p}{]} \\PY{o}{=} \\PY{p}{(}\\PY{p}{(}\\PY{l+m+mf}{1.0}\\PY{o}{/}\\PY{l+m+mf}{2.0}\\PY{p}{)}\\PY{o}{*}\\PY{n}{sin}\\PY{p}{(}\\PY{n}{q}\\PY{p}{[}\\PY{l+m+mi}{0}\\PY{p}{]} \\PY{o}{\\PYZhy{}} \\PY{n}{q}\\PY{p}{[}\\PY{l+m+mi}{1}\\PY{p}{]}\\PY{p}{)}\\PY{o}{*}\\PY{n}{theta}\\PY{p}{[}\\PY{l+m+mi}{0}\\PY{p}{]}\\PY{o}{*}\\PY{n}{theta}\\PY{p}{[}\\PY{l+m+mi}{2}\\PY{p}{]}\\PY{o}{*}\\PY{n}{theta}\\PY{p}{[}\\PY{l+m+mi}{4}\\PY{p}{]} \\PY{o}{+} \\PY{p}{(}\\PY{l+m+mf}{1.0}\\PY{o}{/}\\PY{l+m+mf}{2.0}\\PY{p}{)}\\PY{o}{*}\\PY{n}{sin}\\PY{p}{(}\\PY{n}{q}\\PY{p}{[}\\PY{l+m+mi}{0}\\PY{p}{]} \\PY{o}{\\PYZhy{}} \\PY{n}{q}\\PY{p}{[}\\PY{l+m+mi}{1}\\PY{p}{]}\\PY{p}{)}\\PY{o}{*}\\PY{n}{theta}\\PY{p}{[}\\PY{l+m+mi}{1}\\PY{p}{]}\\PY{o}{*}\\PY{n}{theta}\\PY{p}{[}\\PY{l+m+mi}{2}\\PY{p}{]}\\PY{o}{*}\\PY{n}{theta}\\PY{p}{[}\\PY{l+m+mi}{4}\\PY{p}{]} \\PY{o}{\\PYZhy{}} \\PY{l+m+mf}{1.0}\\PY{o}{/}\\PY{l+m+mf}{2.0}\\PY{o}{*}\\PY{n}{sin}\\PY{p}{(}\\PY{n}{q}\\PY{p}{[}\\PY{l+m+mi}{0}\\PY{p}{]} \\PY{o}{+} \\PY{n}{q}\\PY{p}{[}\\PY{l+m+mi}{1}\\PY{p}{]}\\PY{p}{)}\\PY{o}{*}\\PY{n}{theta}\\PY{p}{[}\\PY{l+m+mi}{0}\\PY{p}{]}\\PY{o}{*}\\PY{n}{theta}\\PY{p}{[}\\PY{l+m+mi}{2}\\PY{p}{]}\\PY{o}{*}\\PY{n}{theta}\\PY{p}{[}\\PY{l+m+mi}{4}\\PY{p}{]} \\PY{o}{\\PYZhy{}} \\PY{l+m+mf}{1.0}\\PY{o}{/}\\PY{l+m+mf}{2.0}\\PY{o}{*}\\PY{n}{sin}\\PY{p}{(}\\PY{n}{q}\\PY{p}{[}\\PY{l+m+mi}{0}\\PY{p}{]} \\PY{o}{+} \\PY{n}{q}\\PY{p}{[}\\PY{l+m+mi}{1}\\PY{p}{]}\\PY{p}{)}\\PY{o}{*}\\PY{n}{theta}\\PY{p}{[}\\PY{l+m+mi}{1}\\PY{p}{]}\\PY{o}{*}\\PY{n}{theta}\\PY{p}{[}\\PY{l+m+mi}{2}\\PY{p}{]}\\PY{o}{*}\\PY{n}{theta}\\PY{p}{[}\\PY{l+m+mi}{4}\\PY{p}{]} \\PY{o}{\\PYZhy{}} \\PY{l+m+mf}{1.0}\\PY{o}{/}\\PY{l+m+mf}{2.0}\\PY{o}{*}\\PY{n}{sin}\\PY{p}{(}\\PY{n}{q}\\PY{p}{[}\\PY{l+m+mi}{0}\\PY{p}{]} \\PY{o}{+} \\PY{l+m+mi}{2}\\PY{o}{*}\\PY{n}{q}\\PY{p}{[}\\PY{l+m+mi}{1}\\PY{p}{]}\\PY{p}{)}\\PY{o}{*}\\PY{n}{theta}\\PY{p}{[}\\PY{l+m+mi}{1}\\PY{p}{]}\\PY{o}{*}\\PY{n}{theta}\\PY{p}{[}\\PY{l+m+mi}{3}\\PY{p}{]}\\PY{o}{*}\\PY{n}{theta}\\PY{p}{[}\\PY{l+m+mi}{4}\\PY{p}{]} \\PY{o}{+} \\PY{n}{sin}\\PY{p}{(}\\PY{n}{q}\\PY{p}{[}\\PY{l+m+mi}{0}\\PY{p}{]}\\PY{p}{)}\\PY{o}{*}\\PY{n}{theta}\\PY{p}{[}\\PY{l+m+mi}{0}\\PY{p}{]}\\PY{o}{*}\\PY{n}{theta}\\PY{p}{[}\\PY{l+m+mi}{3}\\PY{p}{]}\\PY{o}{*}\\PY{n}{theta}\\PY{p}{[}\\PY{l+m+mi}{4}\\PY{p}{]} \\PY{o}{+} \\PY{p}{(}\\PY{l+m+mf}{1.0}\\PY{o}{/}\\PY{l+m+mf}{2.0}\\PY{p}{)}\\PY{o}{*}\\PY{n}{sin}\\PY{p}{(}\\PY{n}{q}\\PY{p}{[}\\PY{l+m+mi}{0}\\PY{p}{]}\\PY{p}{)}\\PY{o}{*}\\PY{n}{theta}\\PY{p}{[}\\PY{l+m+mi}{1}\\PY{p}{]}\\PY{o}{*}\\PY{n}{theta}\\PY{p}{[}\\PY{l+m+mi}{3}\\PY{p}{]}\\PY{o}{*}\\PY{n}{theta}\\PY{p}{[}\\PY{l+m+mi}{4}\\PY{p}{]} \\PY{o}{\\PYZhy{}} \\PY{n}{sin}\\PY{p}{(}\\PY{n}{q}\\PY{p}{[}\\PY{l+m+mi}{1}\\PY{p}{]}\\PY{p}{)}\\PY{o}{*}\\PY{n}{pow}\\PY{p}{(}\\PY{n}{dq}\\PY{p}{[}\\PY{l+m+mi}{0}\\PY{p}{]}\\PY{p}{,} \\PY{l+m+mi}{2}\\PY{p}{)}\\PY{o}{*}\\PY{n}{theta}\\PY{p}{[}\\PY{l+m+mi}{0}\\PY{p}{]}\\PY{o}{*}\\PY{n}{pow}\\PY{p}{(}\\PY{n}{theta}\\PY{p}{[}\\PY{l+m+mi}{2}\\PY{p}{]}\\PY{p}{,} \\PY{l+m+mi}{2}\\PY{p}{)} \\PY{o}{\\PYZhy{}} \\PY{n}{sin}\\PY{p}{(}\\PY{n}{q}\\PY{p}{[}\\PY{l+m+mi}{1}\\PY{p}{]}\\PY{p}{)}\\PY{o}{*}\\PY{n}{pow}\\PY{p}{(}\\PY{n}{dq}\\PY{p}{[}\\PY{l+m+mi}{0}\\PY{p}{]}\\PY{p}{,} \\PY{l+m+mi}{2}\\PY{p}{)}\\PY{o}{*}\\PY{n}{theta}\\PY{p}{[}\\PY{l+m+mi}{1}\\PY{p}{]}\\PY{o}{*}\\PY{n}{pow}\\PY{p}{(}\\PY{n}{theta}\\PY{p}{[}\\PY{l+m+mi}{2}\\PY{p}{]}\\PY{p}{,} \\PY{l+m+mi}{2}\\PY{p}{)} \\PY{o}{\\PYZhy{}} \\PY{n}{sin}\\PY{p}{(}\\PY{n}{q}\\PY{p}{[}\\PY{l+m+mi}{1}\\PY{p}{]}\\PY{p}{)}\\PY{o}{*}\\PY{n}{pow}\\PY{p}{(}\\PY{n}{dq}\\PY{p}{[}\\PY{l+m+mi}{0}\\PY{p}{]}\\PY{p}{,} \\PY{l+m+mi}{2}\\PY{p}{)}\\PY{o}{*}\\PY{n}{theta}\\PY{p}{[}\\PY{l+m+mi}{1}\\PY{p}{]}\\PY{o}{*}\\PY{n}{pow}\\PY{p}{(}\\PY{n}{theta}\\PY{p}{[}\\PY{l+m+mi}{3}\\PY{p}{]}\\PY{p}{,} \\PY{l+m+mi}{2}\\PY{p}{)} \\PY{o}{\\PYZhy{}} \\PY{l+m+mi}{2}\\PY{o}{*}\\PY{n}{sin}\\PY{p}{(}\\PY{n}{q}\\PY{p}{[}\\PY{l+m+mi}{1}\\PY{p}{]}\\PY{p}{)}\\PY{o}{*}\\PY{n}{dq}\\PY{p}{[}\\PY{l+m+mi}{0}\\PY{p}{]}\\PY{o}{*}\\PY{n}{dq}\\PY{p}{[}\\PY{l+m+mi}{1}\\PY{p}{]}\\PY{o}{*}\\PY{n}{theta}\\PY{p}{[}\\PY{l+m+mi}{1}\\PY{p}{]}\\PY{o}{*}\\PY{n}{pow}\\PY{p}{(}\\PY{n}{theta}\\PY{p}{[}\\PY{l+m+mi}{3}\\PY{p}{]}\\PY{p}{,} \\PY{l+m+mi}{2}\\PY{p}{)} \\PY{o}{\\PYZhy{}} \\PY{n}{sin}\\PY{p}{(}\\PY{n}{q}\\PY{p}{[}\\PY{l+m+mi}{1}\\PY{p}{]}\\PY{p}{)}\\PY{o}{*}\\PY{n}{pow}\\PY{p}{(}\\PY{n}{dq}\\PY{p}{[}\\PY{l+m+mi}{1}\\PY{p}{]}\\PY{p}{,} \\PY{l+m+mi}{2}\\PY{p}{)}\\PY{o}{*}\\PY{n}{theta}\\PY{p}{[}\\PY{l+m+mi}{1}\\PY{p}{]}\\PY{o}{*}\\PY{n}{pow}\\PY{p}{(}\\PY{n}{theta}\\PY{p}{[}\\PY{l+m+mi}{3}\\PY{p}{]}\\PY{p}{,} \\PY{l+m+mi}{2}\\PY{p}{)} \\PY{o}{\\PYZhy{}} \\PY{n}{sin}\\PY{p}{(}\\PY{l+m+mi}{2}\\PY{o}{*}\\PY{n}{q}\\PY{p}{[}\\PY{l+m+mi}{1}\\PY{p}{]}\\PY{p}{)}\\PY{o}{*}\\PY{n}{pow}\\PY{p}{(}\\PY{n}{dq}\\PY{p}{[}\\PY{l+m+mi}{0}\\PY{p}{]}\\PY{p}{,} \\PY{l+m+mi}{2}\\PY{p}{)}\\PY{o}{*}\\PY{n}{theta}\\PY{p}{[}\\PY{l+m+mi}{1}\\PY{p}{]}\\PY{o}{*}\\PY{n}{theta}\\PY{p}{[}\\PY{l+m+mi}{2}\\PY{p}{]}\\PY{o}{*}\\PY{n}{theta}\\PY{p}{[}\\PY{l+m+mi}{3}\\PY{p}{]} \\PY{o}{\\PYZhy{}} \\PY{n}{sin}\\PY{p}{(}\\PY{l+m+mi}{2}\\PY{o}{*}\\PY{n}{q}\\PY{p}{[}\\PY{l+m+mi}{1}\\PY{p}{]}\\PY{p}{)}\\PY{o}{*}\\PY{n}{dq}\\PY{p}{[}\\PY{l+m+mi}{0}\\PY{p}{]}\\PY{o}{*}\\PY{n}{dq}\\PY{p}{[}\\PY{l+m+mi}{1}\\PY{p}{]}\\PY{o}{*}\\PY{n}{theta}\\PY{p}{[}\\PY{l+m+mi}{1}\\PY{p}{]}\\PY{o}{*}\\PY{n}{theta}\\PY{p}{[}\\PY{l+m+mi}{2}\\PY{p}{]}\\PY{o}{*}\\PY{n}{theta}\\PY{p}{[}\\PY{l+m+mi}{3}\\PY{p}{]} \\PY{o}{\\PYZhy{}} \\PY{l+m+mf}{1.0}\\PY{o}{/}\\PY{l+m+mf}{2.0}\\PY{o}{*}\\PY{n}{sin}\\PY{p}{(}\\PY{l+m+mi}{2}\\PY{o}{*}\\PY{n}{q}\\PY{p}{[}\\PY{l+m+mi}{1}\\PY{p}{]}\\PY{p}{)}\\PY{o}{*}\\PY{n}{pow}\\PY{p}{(}\\PY{n}{dq}\\PY{p}{[}\\PY{l+m+mi}{1}\\PY{p}{]}\\PY{p}{,} \\PY{l+m+mi}{2}\\PY{p}{)}\\PY{o}{*}\\PY{n}{theta}\\PY{p}{[}\\PY{l+m+mi}{1}\\PY{p}{]}\\PY{o}{*}\\PY{n}{theta}\\PY{p}{[}\\PY{l+m+mi}{2}\\PY{p}{]}\\PY{o}{*}\\PY{n}{theta}\\PY{p}{[}\\PY{l+m+mi}{3}\\PY{p}{]}\\PY{p}{)}\\PY{o}{/}\\PY{p}{(}\\PY{p}{(}\\PY{n}{pow}\\PY{p}{(}\\PY{n}{sin}\\PY{p}{(}\\PY{n}{q}\\PY{p}{[}\\PY{l+m+mi}{1}\\PY{p}{]}\\PY{p}{)}\\PY{p}{,} \\PY{l+m+mi}{2}\\PY{p}{)}\\PY{o}{*}\\PY{n}{theta}\\PY{p}{[}\\PY{l+m+mi}{1}\\PY{p}{]} \\PY{o}{+} \\PY{n}{theta}\\PY{p}{[}\\PY{l+m+mi}{0}\\PY{p}{]}\\PY{p}{)}\\PY{o}{*}\\PY{n}{theta}\\PY{p}{[}\\PY{l+m+mi}{2}\\PY{p}{]}\\PY{o}{*}\\PY{n}{theta}\\PY{p}{[}\\PY{l+m+mi}{3}\\PY{p}{]}\\PY{p}{)}\\PY{p}{;}\n\\PY{p}{\\PYZcb{}}\n\\end{Verbatim}\n"
          },
          "metadata": {}
        }
      ]
    },
    {
      "cell_type": "markdown",
      "source": [
        "# Code Generation for Python"
      ],
      "metadata": {
        "id": "MqIrnrtAgScG"
      }
    },
    {
      "cell_type": "code",
      "source": [
        "f = lambdify([theta, q, dq], eom_rhs)"
      ],
      "metadata": {
        "id": "0Nv2P2iiyJDJ"
      },
      "execution_count": 26,
      "outputs": []
    }
  ]
}