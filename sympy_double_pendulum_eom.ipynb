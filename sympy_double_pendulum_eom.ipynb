{
  "nbformat": 4,
  "nbformat_minor": 0,
  "metadata": {
    "colab": {
      "provenance": [],
      "collapsed_sections": [],
      "authorship_tag": "ABX9TyOR2TDbXq6RnzSyM4j1v54E",
      "include_colab_link": true
    },
    "kernelspec": {
      "name": "python3",
      "display_name": "Python 3"
    },
    "language_info": {
      "name": "python"
    }
  },
  "cells": [
    {
      "cell_type": "markdown",
      "metadata": {
        "id": "view-in-github",
        "colab_type": "text"
      },
      "source": [
        "<a href=\"https://colab.research.google.com/github/xu-pu/colab-notebooks/blob/master/sympy_double_pendulum_eom.ipynb\" target=\"_parent\"><img src=\"https://colab.research.google.com/assets/colab-badge.svg\" alt=\"Open In Colab\"/></a>"
      ]
    },
    {
      "cell_type": "markdown",
      "metadata": {
        "id": "z8A9GNB7YPyy"
      },
      "source": [
        "# Derive the equation of motion of a double pendulum"
      ]
    },
    {
      "cell_type": "code",
      "source": [
        "from sympy import *\n",
        "init_printing()"
      ],
      "metadata": {
        "id": "dUJaDhTVlIan"
      },
      "execution_count": 2,
      "outputs": []
    },
    {
      "cell_type": "markdown",
      "source": [
        "Declare symbols"
      ],
      "metadata": {
        "id": "rOHe8Fw9hmvT"
      }
    },
    {
      "cell_type": "code",
      "source": [
        "t, g, l1, l2, m1, m2, ddq1, ddq2 = symbols('t g l_1 l_2 m_1 m_2 \\ddot{q_1} \\ddot{q_2}')\n",
        "q1 = Function('q_1')(t)\n",
        "q2 = Function('q_2')(t)\n",
        "dq1 = Function('\\dot{q_1}')(t)\n",
        "dq2 = Function('\\dot{q_2}')(t)\n",
        "t, g, l1, l2, m1, m2, q1, q2, dq1, dq2, ddq1, ddq2"
      ],
      "metadata": {
        "colab": {
          "base_uri": "https://localhost:8080/",
          "height": 39
        },
        "id": "MbtGdB27gLJE",
        "outputId": "cc6744e5-68b0-4a80-adb6-ce1e7a6b43bc"
      },
      "execution_count": 3,
      "outputs": [
        {
          "output_type": "execute_result",
          "data": {
            "text/plain": [
              "(t, g, l₁, l₂, m₁, m₂, q₁(t), q₂(t), \\dot{q_1}(t), \\dot{q_2}(t), \\ddot{q_1}, \\\n",
              "ddot{q_2})"
            ],
            "image/png": "[encoded data removed]",
            "text/latex": "$\\displaystyle \\left( t, \\  g, \\  l_{1}, \\  l_{2}, \\  m_{1}, \\  m_{2}, \\  \\operatorname{q_{1}}{\\left(t \\right)}, \\  \\operatorname{q_{2}}{\\left(t \\right)}, \\  \\dot{q_1}{\\left(t \\right)}, \\  \\dot{q_2}{\\left(t \\right)}, \\  \\ddot{q_1}, \\  \\ddot{q_2}\\right)$"
          },
          "metadata": {},
          "execution_count": 3
        }
      ]
    },
    {
      "cell_type": "markdown",
      "source": [
        "Derive the positions and velocities of the centers of mass"
      ],
      "metadata": {
        "id": "RQQ_bJ3th8L_"
      }
    },
    {
      "cell_type": "code",
      "source": [
        "x1 = l1 * cos(q1)\n",
        "y1 = -l1 * sin(q1)\n",
        "x2 = x1 + l2 * cos(q1+q2)\n",
        "y2 = y1 - l2 * sin(q1+q2)\n",
        "\n",
        "# substitution rules\n",
        "rule = [(q1.diff(t),dq1),(q2.diff(t),dq2), (dq1.diff(t),ddq1), (dq2.diff(t),ddq2)]\n",
        "\n",
        "dx1 = x1.diff(t).subs(rule)\n",
        "dy1 = y1.diff(t).subs(rule)\n",
        "dx2 = x2.diff(t).subs(rule)\n",
        "dy2 = y2.diff(t).subs(rule)"
      ],
      "metadata": {
        "id": "x_tqt-MBiT8t"
      },
      "execution_count": 4,
      "outputs": []
    },
    {
      "cell_type": "markdown",
      "source": [
        "Derive the Lagrangian $\\mathcal{L} = T-V$"
      ],
      "metadata": {
        "id": "t9HL0bAkiXT2"
      }
    },
    {
      "cell_type": "code",
      "source": [
        "T1 = 0.5 * m1 * (dx1**2 + dy1**2)\n",
        "T2 = 0.5 * m2 * (dx2**2 + dy2**2)\n",
        "\n",
        "V1 = m1 * g * y1\n",
        "V2 = m2 * g * y2\n",
        "\n",
        "T = T1+T2\n",
        "V = V1+V2\n",
        "\n",
        "L = T-V"
      ],
      "metadata": {
        "id": "cjFmRd7Fiiwz"
      },
      "execution_count": 5,
      "outputs": []
    },
    {
      "cell_type": "markdown",
      "source": [
        "Construct the Euler-Lagrange Equation\n",
        "$$\n",
        "\\frac{d}{d t} \\frac{\\partial \\mathcal{L}}{\\partial \\dot{q}}-\\frac{\\partial \\mathcal{L}}{\\partial q} = 0\n",
        "$$"
      ],
      "metadata": {
        "id": "Fk7GzwRyijEV"
      }
    },
    {
      "cell_type": "code",
      "metadata": {
        "id": "tuhl5sOSYcFz"
      },
      "source": [
        "eq1 = L.diff(dq1).diff(t) - L.diff(q1)\n",
        "eq1 = eq1.subs(rule)\n",
        "eq1 = simplify(eq1)\n",
        "\n",
        "\n",
        "eq2 = L.diff(dq2).diff(t) - L.diff(q2)\n",
        "eq2 = eq2.subs(rule)\n",
        "eq2 = simplify(eq2)"
      ],
      "execution_count": 6,
      "outputs": []
    },
    {
      "cell_type": "markdown",
      "source": [
        "Solve for $\\ddot{q}$"
      ],
      "metadata": {
        "id": "XLRGfSbOjMIE"
      }
    },
    {
      "cell_type": "code",
      "source": [
        "ans = solve((Eq(eq1,0),Eq(eq2,0)),(ddq1, ddq2))\n",
        "sol_ddq1 = simplify(ans[ddq1])\n",
        "sol_ddq2 = simplify(ans[ddq2])\n",
        "sol_ddq1, sol_ddq2"
      ],
      "metadata": {
        "colab": {
          "base_uri": "https://localhost:8080/",
          "height": 88
        },
        "id": "JGzqkcCVjRgF",
        "outputId": "6c423734-3319-4fea-8df5-e5c5510a7deb"
      },
      "execution_count": 7,
      "outputs": [
        {
          "output_type": "execute_result",
          "data": {
            "text/plain": [
              "⎛                                                                             \n",
              "⎜1.0⋅g⋅m₁⋅cos(q₁(t)) - 0.5⋅g⋅m₂⋅cos(q₁(t) + 2⋅q₂(t)) + 0.5⋅g⋅m₂⋅cos(q₁(t)) + 0\n",
              "⎜─────────────────────────────────────────────────────────────────────────────\n",
              "⎜                                                                             \n",
              "⎝                                                                             \n",
              "\n",
              "                  2                                      2                    \n",
              ".5⋅l₁⋅m₂⋅\\dot{q_1} (t)⋅sin(2⋅q₂(t)) + 1.0⋅l₂⋅m₂⋅\\dot{q_1} (t)⋅sin(q₂(t)) + 2.0\n",
              "──────────────────────────────────────────────────────────────────────────────\n",
              "                                ⎛           2       ⎞                         \n",
              "                             l₁⋅⎝m₁ + m₂⋅sin (q₂(t))⎠                         \n",
              "\n",
              "                                                                 2            \n",
              "⋅l₂⋅m₂⋅\\dot{q_1}(t)⋅\\dot{q_2}(t)⋅sin(q₂(t)) + 1.0⋅l₂⋅m₂⋅\\dot{q_2} (t)⋅sin(q₂(t\n",
              "──────────────────────────────────────────────────────────────────────────────\n",
              "                                                                              \n",
              "                                                                              \n",
              "\n",
              "      ⎛                                                                       \n",
              "))  2⋅⎝-0.5⋅g⋅l₁⋅m₁⋅cos(q₁(t) - q₂(t)) + 0.5⋅g⋅l₁⋅m₁⋅cos(q₁(t) + q₂(t)) - 0.5⋅\n",
              "──, ──────────────────────────────────────────────────────────────────────────\n",
              "                                                                              \n",
              "                                                                              \n",
              "\n",
              "                                                                              \n",
              "g⋅l₁⋅m₂⋅cos(q₁(t) - q₂(t)) + 0.5⋅g⋅l₁⋅m₂⋅cos(q₁(t) + q₂(t)) - g⋅l₂⋅m₁⋅cos(q₁(t\n",
              "──────────────────────────────────────────────────────────────────────────────\n",
              "                                                                              \n",
              "                                                                              \n",
              "\n",
              "                                                                   2          \n",
              ")) + 0.5⋅g⋅l₂⋅m₂⋅cos(q₁(t) + 2⋅q₂(t)) - 0.5⋅g⋅l₂⋅m₂⋅cos(q₁(t)) - l₁ ⋅m₁⋅\\dot{q\n",
              "──────────────────────────────────────────────────────────────────────────────\n",
              "                                                                              \n",
              "                                                                              \n",
              "\n",
              "   2                   2             2                                   2    \n",
              "_1} (t)⋅sin(q₂(t)) - l₁ ⋅m₂⋅\\dot{q_1} (t)⋅sin(q₂(t)) - l₁⋅l₂⋅m₂⋅\\dot{q_1} (t)⋅\n",
              "──────────────────────────────────────────────────────────────────────────────\n",
              "                  l₁⋅l₂⋅(2⋅m₁ - m₂⋅cos(2⋅q₂(t)) + m₂)                         \n",
              "                                                                              \n",
              "\n",
              "                                                                              \n",
              "sin(2⋅q₂(t)) - l₁⋅l₂⋅m₂⋅\\dot{q_1}(t)⋅\\dot{q_2}(t)⋅sin(2⋅q₂(t)) - 0.5⋅l₁⋅l₂⋅m₂⋅\n",
              "──────────────────────────────────────────────────────────────────────────────\n",
              "                                                                              \n",
              "                                                                              \n",
              "\n",
              "         2                     2             2                       2        \n",
              "\\dot{q_2} (t)⋅sin(2⋅q₂(t)) - l₂ ⋅m₂⋅\\dot{q_1} (t)⋅sin(q₂(t)) - 2.0⋅l₂ ⋅m₂⋅\\dot\n",
              "──────────────────────────────────────────────────────────────────────────────\n",
              "                                                                              \n",
              "                                                                              \n",
              "\n",
              "                                     2             2              ⎞⎞\n",
              "{q_1}(t)⋅\\dot{q_2}(t)⋅sin(q₂(t)) - l₂ ⋅m₂⋅\\dot{q_2} (t)⋅sin(q₂(t))⎠⎟\n",
              "───────────────────────────────────────────────────────────────────⎟\n",
              "                                                                   ⎟\n",
              "                                                                   ⎠"
            ],
            "image/png": "[encoded data removed]",
            "text/latex": "$\\displaystyle \\left( \\frac{1.0 g m_{1} \\cos{\\left(\\operatorname{q_{1}}{\\left(t \\right)} \\right)} - 0.5 g m_{2} \\cos{\\left(\\operatorname{q_{1}}{\\left(t \\right)} + 2 \\operatorname{q_{2}}{\\left(t \\right)} \\right)} + 0.5 g m_{2} \\cos{\\left(\\operatorname{q_{1}}{\\left(t \\right)} \\right)} + 0.5 l_{1} m_{2} \\dot{q_1}^{2}{\\left(t \\right)} \\sin{\\left(2 \\operatorname{q_{2}}{\\left(t \\right)} \\right)} + 1.0 l_{2} m_{2} \\dot{q_1}^{2}{\\left(t \\right)} \\sin{\\left(\\operatorname{q_{2}}{\\left(t \\right)} \\right)} + 2.0 l_{2} m_{2} \\dot{q_1}{\\left(t \\right)} \\dot{q_2}{\\left(t \\right)} \\sin{\\left(\\operatorname{q_{2}}{\\left(t \\right)} \\right)} + 1.0 l_{2} m_{2} \\dot{q_2}^{2}{\\left(t \\right)} \\sin{\\left(\\operatorname{q_{2}}{\\left(t \\right)} \\right)}}{l_{1} \\left(m_{1} + m_{2} \\sin^{2}{\\left(\\operatorname{q_{2}}{\\left(t \\right)} \\right)}\\right)}, \\  \\frac{2 \\left(- 0.5 g l_{1} m_{1} \\cos{\\left(\\operatorname{q_{1}}{\\left(t \\right)} - \\operatorname{q_{2}}{\\left(t \\right)} \\right)} + 0.5 g l_{1} m_{1} \\cos{\\left(\\operatorname{q_{1}}{\\left(t \\right)} + \\operatorname{q_{2}}{\\left(t \\right)} \\right)} - 0.5 g l_{1} m_{2} \\cos{\\left(\\operatorname{q_{1}}{\\left(t \\right)} - \\operatorname{q_{2}}{\\left(t \\right)} \\right)} + 0.5 g l_{1} m_{2} \\cos{\\left(\\operatorname{q_{1}}{\\left(t \\right)} + \\operatorname{q_{2}}{\\left(t \\right)} \\right)} - 1.0 g l_{2} m_{1} \\cos{\\left(\\operatorname{q_{1}}{\\left(t \\right)} \\right)} + 0.5 g l_{2} m_{2} \\cos{\\left(\\operatorname{q_{1}}{\\left(t \\right)} + 2 \\operatorname{q_{2}}{\\left(t \\right)} \\right)} - 0.5 g l_{2} m_{2} \\cos{\\left(\\operatorname{q_{1}}{\\left(t \\right)} \\right)} - 1.0 l_{1}^{2} m_{1} \\dot{q_1}^{2}{\\left(t \\right)} \\sin{\\left(\\operatorname{q_{2}}{\\left(t \\right)} \\right)} - 1.0 l_{1}^{2} m_{2} \\dot{q_1}^{2}{\\left(t \\right)} \\sin{\\left(\\operatorname{q_{2}}{\\left(t \\right)} \\right)} - 1.0 l_{1} l_{2} m_{2} \\dot{q_1}^{2}{\\left(t \\right)} \\sin{\\left(2 \\operatorname{q_{2}}{\\left(t \\right)} \\right)} - 1.0 l_{1} l_{2} m_{2} \\dot{q_1}{\\left(t \\right)} \\dot{q_2}{\\left(t \\right)} \\sin{\\left(2 \\operatorname{q_{2}}{\\left(t \\right)} \\right)} - 0.5 l_{1} l_{2} m_{2} \\dot{q_2}^{2}{\\left(t \\right)} \\sin{\\left(2 \\operatorname{q_{2}}{\\left(t \\right)} \\right)} - 1.0 l_{2}^{2} m_{2} \\dot{q_1}^{2}{\\left(t \\right)} \\sin{\\left(\\operatorname{q_{2}}{\\left(t \\right)} \\right)} - 2.0 l_{2}^{2} m_{2} \\dot{q_1}{\\left(t \\right)} \\dot{q_2}{\\left(t \\right)} \\sin{\\left(\\operatorname{q_{2}}{\\left(t \\right)} \\right)} - 1.0 l_{2}^{2} m_{2} \\dot{q_2}^{2}{\\left(t \\right)} \\sin{\\left(\\operatorname{q_{2}}{\\left(t \\right)} \\right)}\\right)}{l_{1} l_{2} \\left(2 m_{1} - m_{2} \\cos{\\left(2 \\operatorname{q_{2}}{\\left(t \\right)} \\right)} + m_{2}\\right)}\\right)$"
          },
          "metadata": {},
          "execution_count": 7
        }
      ]
    },
    {
      "cell_type": "markdown",
      "source": [
        "Construct the Equations of Motion (EoM) $\\ddot{q} = f(q,\\dot{q})$"
      ],
      "metadata": {
        "id": "KRV6KWi7n4mW"
      }
    },
    {
      "cell_type": "code",
      "source": [],
      "metadata": {
        "id": "2jCvAxcpn9oD"
      },
      "execution_count": null,
      "outputs": []
    }
  ]
}