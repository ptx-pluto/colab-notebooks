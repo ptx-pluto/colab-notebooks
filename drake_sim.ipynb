{
  "nbformat": 4,
  "nbformat_minor": 0,
  "metadata": {
    "colab": {
      "name": "drake_sim.ipynb",
      "provenance": [],
      "collapsed_sections": [],
      "authorship_tag": "ABX9TyM1n4uKI//9FAmuDaST6l1Z",
      "include_colab_link": true
    },
    "kernelspec": {
      "name": "python3",
      "display_name": "Python 3"
    },
    "language_info": {
      "name": "python"
    }
  },
  "cells": [
    {
      "cell_type": "markdown",
      "metadata": {
        "id": "view-in-github",
        "colab_type": "text"
      },
      "source": [
        "<a href=\"https://colab.research.google.com/github/ptx-pluto/colab-notebooks/blob/master/drake_sim.ipynb\" target=\"_parent\"><img src=\"https://colab.research.google.com/assets/colab-badge.svg\" alt=\"Open In Colab\"/></a>"
      ]
    },
    {
      "cell_type": "code",
      "metadata": {
        "id": "lYjcdkRK0G83"
      },
      "source": [
        "import importlib\n",
        "import sys\n",
        "from urllib.request import urlretrieve\n",
        "\n",
        "# Install drake.\n",
        "if 'google.colab' in sys.modules and importlib.util.find_spec('manipulation') is None:\n",
        "    urlretrieve(f\"http://manipulation.csail.mit.edu/scripts/setup/setup_manipulation_colab.py\",\n",
        "                \"setup_manipulation_colab.py\")\n",
        "    from setup_manipulation_colab import setup_manipulation\n",
        "    setup_manipulation(manipulation_sha='c1bdae733682f8a390f848bc6cb0dbbf9ea98602', drake_version='0.25.0', drake_build='releases')\n",
        "\n",
        "from manipulation import running_as_notebook"
      ],
      "execution_count": null,
      "outputs": []
    },
    {
      "cell_type": "code",
      "metadata": {
        "id": "NKT5D0ml1kdr"
      },
      "source": [
        "import matplotlib.pyplot as plt\n",
        "from pydrake.systems.analysis import Simulator\n",
        "from pydrake.systems.framework import DiagramBuilder\n",
        "from pydrake.systems.primitives import LogOutput\n",
        "from pydrake.symbolic import Variable\n",
        "from pydrake.systems.primitives import SymbolicVectorSystem\n",
        "from pydrake.systems.framework import BasicVector, LeafSystem"
      ],
      "execution_count": null,
      "outputs": []
    },
    {
      "cell_type": "code",
      "metadata": {
        "id": "odVee49G2QXC"
      },
      "source": [
        "# Create a simple block diagram containing our system.\n",
        "builder = DiagramBuilder()\n",
        "x = Variable(\"x\")\n",
        "system = builder.AddSystem(SymbolicVectorSystem(state=[x], dynamics=[-x + x**3], output=[x]))\n",
        "logger = LogOutput(system.get_output_port(0), builder)\n",
        "diagram = builder.Build()\n",
        "\n",
        "# Set the initial conditions, x(0).\n",
        "context = diagram.CreateDefaultContext()\n",
        "context.SetContinuousState([0.9])\n",
        "\n",
        "# Create the simulator, and simulate for 10 seconds.\n",
        "simulator = Simulator(diagram, context)\n",
        "simulator.AdvanceTo(10)\n",
        "\n",
        "# Plot the results.\n",
        "plt.figure()\n",
        "plt.plot(logger.sample_times(), logger.data().transpose())\n",
        "plt.xlabel('t')\n",
        "plt.ylabel('y(t)');"
      ],
      "execution_count": null,
      "outputs": []
    },
    {
      "cell_type": "code",
      "metadata": {
        "id": "8JVtSLiC3WQ0"
      },
      "source": [
        "class MyPendulum:\n",
        "\n",
        "  g = 9.8\n",
        "\n",
        "  def __init__(self,m,l):\n",
        "    self.m = m\n",
        "    self.l = l\n",
        "    self.ddq = self.derive_ddq()\n",
        "    pass\n",
        "\n",
        "  def derive_ddq(self):\n",
        "    from sympy import Function, symbols, sin, cos, solve, Eq\n",
        "    from sympy.utilities import lambdify\n",
        "    t = symbols('t')\n",
        "    q = Function('q')(t)\n",
        "    dq = Function('dq')(t)\n",
        "    ddq, l, m, g = symbols('ddq l m g')\n",
        "\n",
        "    x = l * cos(q)\n",
        "    y = l * -sin(q)\n",
        "\n",
        "    sub_rule = [(q.diff(t),dq),(dq.diff(t),ddq)]\n",
        "\n",
        "    dx = x.diff(t).subs(sub_rule)\n",
        "    dy = y.diff(t).subs(sub_rule)\n",
        "\n",
        "    T = 0.5 * m * (dx**2 +dy**2)\n",
        "    V = m * g * y\n",
        "\n",
        "    L = T-V\n",
        "\n",
        "    eom = L.diff(dq).diff(t) - L.diff(q)\n",
        "    eom = eom.subs(sub_rule)\n",
        "    sol = solve(Eq(eom,0),ddq)[0]\n",
        "\n",
        "    sol = sol.subs([(g,self.g),(l,self.l),(m,self.m)])\n",
        "\n",
        "    return lambdify([q,dq],sol)\n",
        "\n",
        "  def eom(self,x):\n",
        "    q = x[0]\n",
        "    dq = x[1]\n",
        "    return [dq,self.ddq(q,dq)];\n",
        "\n",
        "pen = MyPendulum(1,1)"
      ],
      "execution_count": null,
      "outputs": []
    },
    {
      "cell_type": "code",
      "metadata": {
        "id": "cGHowE9U3n8t"
      },
      "source": [
        "class MyPendulumSystem(LeafSystem):\n",
        "    def __init__(self):\n",
        "        LeafSystem.__init__(self)\n",
        "        \n",
        "        self.pen = MyPendulum(1,1)\n",
        "        self.DeclareContinuousState(2) # One state variable.\n",
        "        self.DeclareVectorOutputPort(\"xdot\", BasicVector(2), self.CopyStateOut) # One output.\n",
        "\n",
        "    def DoCalcTimeDerivatives(self, context, derivatives):\n",
        "        x = context.get_continuous_state_vector().CopyToVector()\n",
        "        xdot = pen.eom(x)\n",
        "        derivatives.get_mutable_vector().SetFromVector(xdot)\n",
        "\n",
        "    # y = x\n",
        "    def CopyStateOut(self, context, output):\n",
        "        x = context.get_continuous_state_vector().CopyToVector()\n",
        "        output.SetFromVector(x)"
      ],
      "execution_count": null,
      "outputs": []
    },
    {
      "cell_type": "code",
      "metadata": {
        "id": "uXG5ChXr5OTs"
      },
      "source": [
        "# Create a simple block diagram containing our system.\n",
        "builder = DiagramBuilder()\n",
        "system = builder.AddSystem(MyPendulumSystem())\n",
        "logger = LogOutput(system.get_output_port(0), builder)\n",
        "diagram = builder.Build()\n",
        "\n",
        "# Set the initial conditions, x(0).\n",
        "context = diagram.CreateDefaultContext()\n",
        "context.SetContinuousState([0.9,0])\n",
        "\n",
        "# Create the simulator, and simulate for 10 seconds.\n",
        "simulator = Simulator(diagram, context)\n",
        "simulator.AdvanceTo(10)"
      ],
      "execution_count": null,
      "outputs": []
    },
    {
      "cell_type": "code",
      "metadata": {
        "id": "N8MfS7nf6cqG"
      },
      "source": [
        "dat = logger.data()\n",
        "vt = logger.sample_times()\n",
        "vq = dat[0,:]\n",
        "vdq = dat[1,:]\n",
        "\n",
        "plt.figure()\n",
        "plt.plot(vt,vq)\n",
        "plt.plot(vt,vdq)\n",
        "\n",
        "plt.xlabel('t')\n",
        "plt.ylabel('y(t)');"
      ],
      "execution_count": null,
      "outputs": []
    },
    {
      "cell_type": "code",
      "metadata": {
        "id": "X6GtuN70_gO9"
      },
      "source": [
        "def derive_double_pendulum_ddq():\n",
        "  from sympy import Function, symbols, sin, cos, solve, Eq, simplify\n",
        "  from sympy.utilities import lambdify\n",
        "  t = symbols('t')\n",
        "  g = symbols('g')\n",
        "  q1 = Function('q1')(t)\n",
        "  q2 = Function('q2')(t)\n",
        "  dq1 = Function('dq1')(t)\n",
        "  dq2 = Function('dq2')(t)\n",
        "  ddq1, ddq2 = symbols('ddq1 ddq2')\n",
        "  l1, l2 = symbols('l1 l2')\n",
        "  m1, m2 = symbols('m1 m2')\n",
        "\n",
        "  x1 = l1 * cos(q1)\n",
        "  y1 = -l1 * sin(q1)\n",
        "  x2 = x1 + l2 * cos(q1+q2)\n",
        "  y2 = y1 - l2 * sin(q1+q2)\n",
        "\n",
        "  rule = [(q1.diff(t),dq1),(q2.diff(t),dq2), (dq1.diff(t),ddq1), (dq2.diff(t),ddq2)]\n",
        "\n",
        "  dx1 = x1.diff(t).subs(rule)\n",
        "  dy1 = y1.diff(t).subs(rule)\n",
        "  dx2 = x2.diff(t).subs(rule)\n",
        "  dy2 = y2.diff(t).subs(rule)\n",
        "\n",
        "  T1 = 0.5 * m1 * (dx1**2 + dy1**2)\n",
        "  T2 = 0.5 * m2 * (dx2**2 + dy2**2)\n",
        "\n",
        "  V1 = m1 * g * y1\n",
        "  V2 = m2 * g * y2\n",
        "\n",
        "  T = T1+T2\n",
        "  V = V1+V2\n",
        "\n",
        "  L = T-V\n",
        "\n",
        "  eq1 = L.diff(dq1).diff(t) - L.diff(q1)\n",
        "  eq1 = eq1.subs(rule)\n",
        "  eq1 = simplify(eq1)\n",
        "\n",
        "  eq2 = L.diff(dq2).diff(t) - L.diff(q2)\n",
        "  eq2 = eq2.subs(rule)\n",
        "  eq2 = simplify(eq2)\n",
        "\n",
        "  ans = solve((Eq(eq1,0),Eq(eq2,0)),(ddq1, ddq2))\n",
        "\n",
        "  ddq1_exp = simplify(ans[ddq1])\n",
        "  ddq2_exp = simplify(ans[ddq2])\n",
        "\n",
        "  ddq_exp = [ddq1_exp, ddq2_exp]\n",
        "\n",
        "  return lambdify([q1,q2,dq1,dq2,l1,l2,m1,m2,g],ddq_exp)\n",
        "\n",
        "dpen_ddq = derive_double_pendulum_ddq();"
      ],
      "execution_count": null,
      "outputs": []
    },
    {
      "cell_type": "code",
      "metadata": {
        "id": "6o0cnr-2BTXf"
      },
      "source": [
        "class MyDoublePendulum:\n",
        "\n",
        "  g = 9.8\n",
        "\n",
        "  def __init__(self,l1,l2,m1,m2):\n",
        "    self.l1 = l1\n",
        "    self.l2 = l2\n",
        "    self.m1 = m1\n",
        "    self.m2 = m2\n",
        "\n",
        "  def eom(self,x):\n",
        "    q1 = x[0]\n",
        "    q2 = x[1]\n",
        "    dq1 = x[2]\n",
        "    dq2 = x[3]\n",
        "    ddq = dpen_ddq(q1,q2,dq1,dq2,self.l1,self.l2,self.m1,self.m2,self.g)\n",
        "    return [dq1,dq2,ddq[0],ddq[1]]\n",
        "\n",
        "mydp = MyDoublePendulum(1,1,1,1)"
      ],
      "execution_count": null,
      "outputs": []
    },
    {
      "cell_type": "code",
      "metadata": {
        "id": "mnO__S3tBIGy"
      },
      "source": [
        "class MyDoublePendulumSystem(LeafSystem):\n",
        "    def __init__(self):\n",
        "        LeafSystem.__init__(self)\n",
        "        \n",
        "        self.pen = MyDoublePendulum(1,1,1,1)\n",
        "        self.DeclareContinuousState(4) # One state variable.\n",
        "        self.DeclareVectorOutputPort(\"x\", BasicVector(4), self.CopyStateOut) # One output.\n",
        "\n",
        "    def DoCalcTimeDerivatives(self, context, derivatives):\n",
        "        x = context.get_continuous_state_vector().CopyToVector()\n",
        "        xdot = self.pen.eom(x)\n",
        "        derivatives.get_mutable_vector().SetFromVector(xdot)\n",
        "\n",
        "    # y = x\n",
        "    def CopyStateOut(self, context, output):\n",
        "        x = context.get_continuous_state_vector().CopyToVector()\n",
        "        output.SetFromVector(x)"
      ],
      "execution_count": null,
      "outputs": []
    },
    {
      "cell_type": "code",
      "metadata": {
        "id": "4eZ3EtWECfpm"
      },
      "source": [
        "# Create a simple block diagram containing our system.\n",
        "builder = DiagramBuilder()\n",
        "system = builder.AddSystem(MyDoublePendulumSystem())\n",
        "logger = LogOutput(system.get_output_port(0), builder)\n",
        "diagram = builder.Build()\n",
        "\n",
        "# Set the initial conditions, x(0).\n",
        "context = diagram.CreateDefaultContext()\n",
        "context.SetContinuousState([0,0.5,0,0])\n",
        "\n",
        "# Create the simulator, and simulate for 10 seconds.\n",
        "simulator = Simulator(diagram, context)\n",
        "simulator.AdvanceTo(2)"
      ],
      "execution_count": null,
      "outputs": []
    },
    {
      "cell_type": "code",
      "metadata": {
        "id": "QgkzOUdhEFlb"
      },
      "source": [
        "import numpy as np\n",
        "\n",
        "dat = logger.data()\n",
        "vt = logger.sample_times()\n",
        "vq1 = dat[0,:]\n",
        "vq2 = dat[1,:]\n",
        "vdq1 = dat[2,:]\n",
        "vdq2 = dat[3,:]\n",
        "\n",
        "vx1 = system.pen.l1 * np.cos(vq1)\n",
        "vy1 = - system.pen.l1 * np.sin(vq1)\n",
        "vx2 = vx1 + system.pen.l2 * np.cos(vq1+vq2)\n",
        "vy2 = vy1 - system.pen.l2 * np.sin(vq1+vq2)\n"
      ],
      "execution_count": null,
      "outputs": []
    },
    {
      "cell_type": "code",
      "metadata": {
        "id": "k6ytGbiYEYXO"
      },
      "source": [
        "%matplotlib inline\n",
        "\n",
        "from matplotlib import animation, rc\n",
        "from IPython.display import HTML\n",
        "\n",
        "# First set up the figure, the axis, and the plot element we want to animate\n",
        "fig, ax = plt.subplots()\n",
        "\n",
        "ax.set_aspect('equal')\n",
        "ax.set_xlim((-2,2))\n",
        "ax.set_ylim((-2,2))\n",
        "\n",
        "link1, = ax.plot([], [], lw=1, marker=\"o\")\n",
        "link2, = ax.plot([], [], lw=1, marker=\"o\")\n",
        "\n",
        "# initialization function: plot the background of each frame\n",
        "def init():\n",
        "    link1.set_data([], [])\n",
        "    link2.set_data([], [])\n",
        "    return link1, link2\n",
        "\n",
        "# animation function. This is called sequentially\n",
        "def animate(i):\n",
        "    link1.set_data([0,vx1[i]], [0,vy1[i]])\n",
        "    link2.set_data([vx1[i],vx2[i]], [vy1[i],vy2[i]])\n",
        "    return link1, link2\n",
        "\n",
        "# call the animator. blit=True means only re-draw the parts that have changed.\n",
        "anim = animation.FuncAnimation(fig, animate, init_func=init, frames=len(vt), interval=10, blit=True)\n",
        "plt.close()\n",
        "\n",
        "HTML(anim.to_jshtml())"
      ],
      "execution_count": null,
      "outputs": []
    }
  ]
}