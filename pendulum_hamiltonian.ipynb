{
  "nbformat": 4,
  "nbformat_minor": 0,
  "metadata": {
    "colab": {
      "provenance": [],
      "collapsed_sections": [],
      "authorship_tag": "ABX9TyO7dMjaI14+onmMjBKmzUoQ",
      "include_colab_link": true
    },
    "kernelspec": {
      "name": "python3",
      "display_name": "Python 3"
    },
    "language_info": {
      "name": "python"
    }
  },
  "cells": [
    {
      "cell_type": "markdown",
      "metadata": {
        "id": "view-in-github",
        "colab_type": "text"
      },
      "source": [
        "<a href=\"https://colab.research.google.com/github/xu-pu/colab-notebooks/blob/master/pendulum_hamiltonian.ipynb\" target=\"_parent\"><img src=\"https://colab.research.google.com/assets/colab-badge.svg\" alt=\"Open In Colab\"/></a>"
      ]
    },
    {
      "cell_type": "markdown",
      "source": [
        "# Pendulum"
      ],
      "metadata": {
        "id": "CJPZcG0_2MhH"
      }
    },
    {
      "cell_type": "code",
      "source": [
        "from sympy import *\n",
        "init_printing()"
      ],
      "metadata": {
        "id": "GP2k9pWa2QoZ"
      },
      "execution_count": 64,
      "outputs": []
    },
    {
      "cell_type": "code",
      "source": [
        "t, g, l, m, ddq = symbols('t g l m \\ddot{q}')\n",
        "q = Function('q')(t)\n",
        "dq = Function('\\dot{q}')(t)\n",
        "\n",
        "diff_rules = [\n",
        "    (q.diff(t), dq),\n",
        "    (dq.diff(t), ddq)\n",
        "]"
      ],
      "metadata": {
        "id": "9DD-ezuE2Xb7"
      },
      "execution_count": 65,
      "outputs": []
    },
    {
      "cell_type": "code",
      "source": [
        "x = l * sin(q)\n",
        "y = - l * cos(q)\n",
        "\n",
        "dx = x.diff(t).subs(diff_rules)\n",
        "dy = y.diff(t).subs(diff_rules)\n",
        "\n",
        "dx, dy"
      ],
      "metadata": {
        "colab": {
          "base_uri": "https://localhost:8080/",
          "height": 39
        },
        "id": "y_U-FP1P3DRD",
        "outputId": "90e753e1-9643-497d-d1af-c91d65658a80"
      },
      "execution_count": 66,
      "outputs": [
        {
          "output_type": "execute_result",
          "data": {
            "text/plain": [
              "(l⋅\\dot{q}(t)⋅cos(q(t)), l⋅\\dot{q}(t)⋅sin(q(t)))"
            ],
            "image/png": "[encoded data removed]",
            "text/latex": "$\\displaystyle \\left( l \\dot{q}{\\left(t \\right)} \\cos{\\left(q{\\left(t \\right)} \\right)}, \\  l \\dot{q}{\\left(t \\right)} \\sin{\\left(q{\\left(t \\right)} \\right)}\\right)$"
          },
          "metadata": {},
          "execution_count": 66
        }
      ]
    },
    {
      "cell_type": "code",
      "source": [
        "T = S.Half * m * (dx**2 + dy**2)\n",
        "V = m * g * y\n",
        "L = T - V\n",
        "L = simplify(L)\n",
        "L"
      ],
      "metadata": {
        "colab": {
          "base_uri": "https://localhost:8080/",
          "height": 56
        },
        "id": "a9xzJ46l3nI4",
        "outputId": "61ddb9c8-7730-4110-b85b-61d39f146d28"
      },
      "execution_count": 67,
      "outputs": [
        {
          "output_type": "execute_result",
          "data": {
            "text/plain": [
              "    ⎛                         2   ⎞\n",
              "l⋅m⋅⎝2⋅g⋅cos(q(t)) + l⋅\\dot{q} (t)⎠\n",
              "───────────────────────────────────\n",
              "                 2                 "
            ],
            "image/png": "[encoded data removed]",
            "text/latex": "$\\displaystyle \\frac{l m \\left(2 g \\cos{\\left(q{\\left(t \\right)} \\right)} + l \\dot{q}^{2}{\\left(t \\right)}\\right)}{2}$"
          },
          "metadata": {},
          "execution_count": 67
        }
      ]
    },
    {
      "cell_type": "code",
      "source": [
        "eq = L.diff(dq).diff(t) - L.diff(q)\n",
        "eq = eq.subs(diff_rules)\n",
        "eq = simplify(eq)\n",
        "eq"
      ],
      "metadata": {
        "colab": {
          "base_uri": "https://localhost:8080/",
          "height": 39
        },
        "id": "p638iBMs4ezj",
        "outputId": "b53f7035-cb1b-4524-8f64-96c382877f6e"
      },
      "execution_count": 68,
      "outputs": [
        {
          "output_type": "execute_result",
          "data": {
            "text/plain": [
              "l⋅m⋅(\\ddot{q}⋅l + g⋅sin(q(t)))"
            ],
            "image/png": "[encoded data removed]",
            "text/latex": "$\\displaystyle l m \\left(\\ddot{q} l + g \\sin{\\left(q{\\left(t \\right)} \\right)}\\right)$"
          },
          "metadata": {},
          "execution_count": 68
        }
      ]
    },
    {
      "cell_type": "code",
      "source": [
        "sol = solve(eq,ddq)[0]\n",
        "sol"
      ],
      "metadata": {
        "colab": {
          "base_uri": "https://localhost:8080/",
          "height": 53
        },
        "id": "UsDd7DDT452B",
        "outputId": "fab772e1-e141-4746-8d22-e4e5b8f0aa57"
      },
      "execution_count": 69,
      "outputs": [
        {
          "output_type": "execute_result",
          "data": {
            "text/plain": [
              "-g⋅sin(q(t)) \n",
              "─────────────\n",
              "      l      "
            ],
            "image/png": "[encoded data removed]",
            "text/latex": "$\\displaystyle - \\frac{g \\sin{\\left(q{\\left(t \\right)} \\right)}}{l}$"
          },
          "metadata": {},
          "execution_count": 69
        }
      ]
    },
    {
      "cell_type": "code",
      "source": [
        "p = Function('p')(t)\n",
        "dq_of_p = solve(Eq(p, L.diff(dq)), dq)[0]\n",
        "dq_of_p"
      ],
      "metadata": {
        "colab": {
          "base_uri": "https://localhost:8080/",
          "height": 53
        },
        "id": "vJhZVg0A59-9",
        "outputId": "a7d1f957-815f-448b-a7c1-e0d47ee2d2d0"
      },
      "execution_count": 70,
      "outputs": [
        {
          "output_type": "execute_result",
          "data": {
            "text/plain": [
              "p(t)\n",
              "────\n",
              " 2  \n",
              "l ⋅m"
            ],
            "image/png": "[encoded data removed]",
            "text/latex": "$\\displaystyle \\frac{p{\\left(t \\right)}}{l^{2} m}$"
          },
          "metadata": {},
          "execution_count": 70
        }
      ]
    },
    {
      "cell_type": "code",
      "source": [
        "legendre_transform = [(dq, dq_of_p)]"
      ],
      "metadata": {
        "id": "okOq9oRB8LZi"
      },
      "execution_count": 71,
      "outputs": []
    },
    {
      "cell_type": "code",
      "source": [
        "H = p * dq_of_p - L.subs(legendre_transform)\n",
        "H = simplify(H)\n",
        "H"
      ],
      "metadata": {
        "colab": {
          "base_uri": "https://localhost:8080/",
          "height": 54
        },
        "id": "JnsUMwzu7gWN",
        "outputId": "950f52eb-e144-42ab-9c8c-833b62b76354"
      },
      "execution_count": 72,
      "outputs": [
        {
          "output_type": "execute_result",
          "data": {
            "text/plain": [
              "                    2    \n",
              "                   p (t) \n",
              "-g⋅l⋅m⋅cos(q(t)) + ──────\n",
              "                      2  \n",
              "                   2⋅l ⋅m"
            ],
            "image/png": "[encoded data removed]",
            "text/latex": "$\\displaystyle - g l m \\cos{\\left(q{\\left(t \\right)} \\right)} + \\frac{p^{2}{\\left(t \\right)}}{2 l^{2} m}$"
          },
          "metadata": {},
          "execution_count": 72
        }
      ]
    },
    {
      "cell_type": "code",
      "source": [
        "simplify((T+V).subs(legendre_transform))"
      ],
      "metadata": {
        "colab": {
          "base_uri": "https://localhost:8080/",
          "height": 54
        },
        "id": "aPpma3bl8VAf",
        "outputId": "8f8a348f-4d98-4581-ae2c-716002faf5fe"
      },
      "execution_count": 73,
      "outputs": [
        {
          "output_type": "execute_result",
          "data": {
            "text/plain": [
              "                    2    \n",
              "                   p (t) \n",
              "-g⋅l⋅m⋅cos(q(t)) + ──────\n",
              "                      2  \n",
              "                   2⋅l ⋅m"
            ],
            "image/png": "[encoded data removed]",
            "text/latex": "$\\displaystyle - g l m \\cos{\\left(q{\\left(t \\right)} \\right)} + \\frac{p^{2}{\\left(t \\right)}}{2 l^{2} m}$"
          },
          "metadata": {},
          "execution_count": 73
        }
      ]
    },
    {
      "cell_type": "code",
      "source": [
        "he_dq = H.diff(p)\n",
        "he_dp = -H.diff(q)\n",
        "he_dq, he_dp"
      ],
      "metadata": {
        "colab": {
          "base_uri": "https://localhost:8080/",
          "height": 58
        },
        "id": "GJtvJsKD8hIw",
        "outputId": "d7417569-96a0-4241-d2a8-475290719a27"
      },
      "execution_count": 74,
      "outputs": [
        {
          "output_type": "execute_result",
          "data": {
            "text/plain": [
              "⎛p(t)                  ⎞\n",
              "⎜────, -g⋅l⋅m⋅sin(q(t))⎟\n",
              "⎜ 2                    ⎟\n",
              "⎝l ⋅m                  ⎠"
            ],
            "image/png": "[encoded data removed]",
            "text/latex": "$\\displaystyle \\left( \\frac{p{\\left(t \\right)}}{l^{2} m}, \\  - g l m \\sin{\\left(q{\\left(t \\right)} \\right)}\\right)$"
          },
          "metadata": {},
          "execution_count": 74
        }
      ]
    },
    {
      "cell_type": "markdown",
      "source": [
        "# Hamiltonian Equation in Matrix Form"
      ],
      "metadata": {
        "id": "Z1eeNnpxB25E"
      }
    },
    {
      "cell_type": "code",
      "source": [
        "Y = MatrixSymbol('y', 2, 1)\n",
        "theta = MatrixSymbol('theta', 3, 1)\n",
        "\n",
        "rules = [\n",
        "    (q, Y[0,0]), \n",
        "    (p, Y[1,0]),\n",
        "    (m, theta[0,0]),\n",
        "    (g, theta[1,0]),\n",
        "    (l, theta[2,0])    \n",
        "]\n",
        "\n",
        "H_of_Y = H.subs(rules)\n",
        "H_of_Y"
      ],
      "metadata": {
        "colab": {
          "base_uri": "https://localhost:8080/",
          "height": 62
        },
        "id": "FF52AyKuB-g_",
        "outputId": "18a956f1-0aed-4614-965c-ce7c9e67396f"
      },
      "execution_count": 75,
      "outputs": [
        {
          "output_type": "execute_result",
          "data": {
            "text/plain": [
              "                              2   \n",
              "                           y₁₀    \n",
              "-cos(y₀₀)⋅θ₀₀⋅θ₁₀⋅θ₂₀ + ──────────\n",
              "                                 2\n",
              "                        2⋅θ₀₀⋅θ₂₀ "
            ],
            "image/png": "[encoded data removed]",
            "text/latex": "$\\displaystyle - \\cos{\\left(y_{0, 0} \\right)} \\theta_{0, 0} \\theta_{1, 0} \\theta_{2, 0} + \\frac{y_{1, 0}^{2}}{2 \\theta_{0, 0} \\theta_{2, 0}^{2}}$"
          },
          "metadata": {},
          "execution_count": 75
        }
      ]
    },
    {
      "cell_type": "code",
      "source": [
        "def gradient(Y,X):\n",
        "  assert(X.shape[1] == 1)\n",
        "  return Matrix([Y.diff(x) for x in X])\n",
        "\n",
        "gradient(H_of_Y, Y)"
      ],
      "metadata": {
        "colab": {
          "base_uri": "https://localhost:8080/",
          "height": 68
        },
        "id": "mLzuhlab-0ud",
        "outputId": "c607091b-0532-4bf1-e2f8-77bb492a15b0"
      },
      "execution_count": 76,
      "outputs": [
        {
          "output_type": "execute_result",
          "data": {
            "text/plain": [
              "⎡sin(y₀₀)⋅θ₀₀⋅θ₁₀⋅θ₂₀⎤\n",
              "⎢                    ⎥\n",
              "⎢        y₁₀         ⎥\n",
              "⎢      ────────      ⎥\n",
              "⎢             2      ⎥\n",
              "⎣      θ₀₀⋅θ₂₀       ⎦"
            ],
            "text/latex": "$\\displaystyle \\left[\\begin{matrix}\\sin{\\left(y_{0, 0} \\right)} \\theta_{0, 0} \\theta_{1, 0} \\theta_{2, 0}\\\\\\frac{y_{1, 0}}{\\theta_{0, 0} \\theta_{2, 0}^{2}}\\end{matrix}\\right]$"
          },
          "metadata": {},
          "execution_count": 76
        }
      ]
    },
    {
      "cell_type": "code",
      "source": [
        "def possion_matrix(ydim: int):\n",
        "  return Matrix([\n",
        "      [zeros(ydim), eye(ydim)],\n",
        "      [-eye(ydim), zeros(ydim)]\n",
        "  ])\n",
        "\n",
        "possion_matrix(1)"
      ],
      "metadata": {
        "colab": {
          "base_uri": "https://localhost:8080/",
          "height": 58
        },
        "id": "3M8avB9p_b6S",
        "outputId": "ac228145-c2ec-42fa-ce38-631cf70a4910"
      },
      "execution_count": 77,
      "outputs": [
        {
          "output_type": "execute_result",
          "data": {
            "text/plain": [
              "⎡0   1⎤\n",
              "⎢     ⎥\n",
              "⎣-1  0⎦"
            ],
            "text/latex": "$\\displaystyle \\left[\\begin{matrix}0 & 1\\\\-1 & 0\\end{matrix}\\right]$"
          },
          "metadata": {},
          "execution_count": 77
        }
      ]
    },
    {
      "cell_type": "code",
      "source": [
        "dY = possion_matrix(1) * gradient(H_of_Y,Y)\n",
        "dY"
      ],
      "metadata": {
        "colab": {
          "base_uri": "https://localhost:8080/",
          "height": 68
        },
        "id": "T57CxnwUAAmd",
        "outputId": "84382fbb-2c23-462a-c0e1-16fded83e0e7"
      },
      "execution_count": 78,
      "outputs": [
        {
          "output_type": "execute_result",
          "data": {
            "text/plain": [
              "⎡        y₁₀          ⎤\n",
              "⎢      ────────       ⎥\n",
              "⎢             2       ⎥\n",
              "⎢      θ₀₀⋅θ₂₀        ⎥\n",
              "⎢                     ⎥\n",
              "⎣-sin(y₀₀)⋅θ₀₀⋅θ₁₀⋅θ₂₀⎦"
            ],
            "text/latex": "$\\displaystyle \\left[\\begin{matrix}\\frac{y_{1, 0}}{\\theta_{0, 0} \\theta_{2, 0}^{2}}\\\\- \\sin{\\left(y_{0, 0} \\right)} \\theta_{0, 0} \\theta_{1, 0} \\theta_{2, 0}\\end{matrix}\\right]$"
          },
          "metadata": {},
          "execution_count": 78
        }
      ]
    }
  ]
}