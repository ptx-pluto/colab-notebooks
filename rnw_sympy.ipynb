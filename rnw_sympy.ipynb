{
  "nbformat": 4,
  "nbformat_minor": 0,
  "metadata": {
    "colab": {
      "name": "rnw_sympy.ipynb",
      "provenance": [],
      "collapsed_sections": [],
      "toc_visible": true,
      "authorship_tag": "ABX9TyNSFX+3polu34lc2cUTNojs",
      "include_colab_link": true
    },
    "kernelspec": {
      "name": "python3",
      "display_name": "Python 3"
    },
    "language_info": {
      "name": "python"
    }
  },
  "cells": [
    {
      "cell_type": "markdown",
      "metadata": {
        "id": "view-in-github",
        "colab_type": "text"
      },
      "source": [
        "<a href=\"https://colab.research.google.com/github/ptx-pluto/colab-notebooks/blob/master/rnw_sympy.ipynb\" target=\"_parent\"><img src=\"https://colab.research.google.com/assets/colab-badge.svg\" alt=\"Open In Colab\"/></a>"
      ]
    },
    {
      "cell_type": "code",
      "metadata": {
        "id": "QdxuRAL0FmP0"
      },
      "source": [
        "import sympy\n",
        "sympy.init_printing()"
      ],
      "execution_count": 65,
      "outputs": []
    },
    {
      "cell_type": "code",
      "metadata": {
        "id": "wJZDiNYVFpzm"
      },
      "source": [
        "def rot_x(rad):\n",
        "  c = sympy.cos(rad)\n",
        "  s = sympy.sin(rad)\n",
        "  return sympy.Matrix([[1,0, 0],\n",
        "                       [0,c,-s],\n",
        "                       [0,s, c]])\n",
        "\n",
        "def rot_y(rad):\n",
        "  c = sympy.cos(rad)\n",
        "  s = sympy.sin(rad)  \n",
        "  return sympy.Matrix([[ c,0,s],\n",
        "                       [ 0,1,0],\n",
        "                       [-s,0,c]])\n",
        "\n",
        "def rot_z(rad):\n",
        "  c = sympy.cos(rad)\n",
        "  s = sympy.sin(rad)\n",
        "  return sympy.Matrix([[c,-s,0],\n",
        "                       [s, c,0],\n",
        "                       [0, 0,1]])"
      ],
      "execution_count": 66,
      "outputs": []
    },
    {
      "cell_type": "code",
      "metadata": {
        "id": "cRohoUUCFru_"
      },
      "source": [
        "cone = {\n",
        "    'm': sympy.symbols('m'),\n",
        "    'g': sympy.symbols('g'),\n",
        "    'r': sympy.symbols('r'),\n",
        "    'xCM': sympy.symbols('xCM'),\n",
        "    'zCM': sympy.symbols('zCM'),\n",
        "    'xCP': sympy.symbols('xCP'),\n",
        "    'zCP': sympy.symbols('zCP'),\n",
        "}"
      ],
      "execution_count": 67,
      "outputs": []
    },
    {
      "cell_type": "markdown",
      "metadata": {
        "id": "Z6Jw1GpFoqdU"
      },
      "source": [
        "### Coordinate System\n",
        "\n",
        "5 Generalized Coordiates: $q_1, q_2, q_4, q_5, q_6$\n",
        "\n",
        "$q_1 = x$\n",
        "\n",
        "$q_2 = y$\n",
        "\n",
        "$q_3 = \\psi$ (precession)\n",
        "\n",
        "$q_4 = \\theta$ (nutation)\n",
        "\n",
        "$q_5 = \\phi$ (spin)"
      ]
    },
    {
      "cell_type": "code",
      "metadata": {
        "id": "iY4XriaQFtzi"
      },
      "source": [
        "t = sympy.symbols('t')\n",
        "\n",
        "q1 = sympy.Function('q_1')(t)\n",
        "q2 = sympy.Function('q_2')(t)\n",
        "q3 = sympy.Function('q_3')(t)\n",
        "q4 = sympy.Function('q_4')(t)\n",
        "q5 = sympy.Function('q_5')(t)\n",
        "\n",
        "dq1 = sympy.Function('\\dot{q}_1')(t)\n",
        "dq2 = sympy.Function('\\dot{q}_2')(t)\n",
        "dq3 = sympy.Function('\\dot{q}_3')(t)\n",
        "dq4 = sympy.Function('\\dot{q}_4')(t)\n",
        "dq5 = sympy.Function('\\dot{q}_5')(t)\n",
        "\n",
        "psi   = q3\n",
        "theta = q4\n",
        "phi   = q5\n",
        "\n",
        "psi_dot   = dq3\n",
        "theta_dot = dq4\n",
        "phi_dot   = dq5\n",
        "\n",
        "ddq1, ddq2, ddq3, ddq4, ddq5 = sympy.symbols('\\ddot{q}_1 \\ddot{q}_2 \\ddot{q}_3 \\ddot{q}_4 \\ddpt{q}_5')\n",
        "\n",
        "q = (q1, q2, q3, q4, q5)\n",
        "dq = (dq1, dq2, dq3, dq4, dq5)\n",
        "ddq = (ddq1, ddq2, ddq3, ddq4, ddq5)\n",
        "\n",
        "sub_rules = [(q1.diff(),dq1),(dq1.diff(),ddq1),\n",
        "             (q2.diff(),dq2),(dq2.diff(),ddq2),\n",
        "             (q3.diff(),dq3),(dq3.diff(),ddq3),\n",
        "             (q4.diff(),dq4),(dq4.diff(),ddq4),\n",
        "             (q5.diff(),dq5),(dq5.diff(),ddq5)]"
      ],
      "execution_count": 68,
      "outputs": []
    },
    {
      "cell_type": "markdown",
      "metadata": {
        "id": "l6wzLrNlWCVZ"
      },
      "source": [
        "### Rigid Body Transformation\n",
        "\n",
        "$\\vec{P}_{W} = R_{WB} \\vec{P}_B + T_{WB}$\n",
        "\n",
        "$R_{WB} = R_z(\\psi) R_y(\\theta) R_z(\\phi)$\n",
        "\n",
        "$T_{WB} = (\\ q_1, q_2, \\mathbf{r} sin(q_5) \\ )^T$"
      ]
    },
    {
      "cell_type": "code",
      "metadata": {
        "id": "K8LqCvgmGHyI",
        "colab": {
          "base_uri": "https://localhost:8080/",
          "height": 79
        },
        "outputId": "cdc3f8ab-f8ca-4093-dd51-07753487485f"
      },
      "source": [
        "R_wb = rot_z(psi) * rot_y(theta) * rot_z(phi)\n",
        "T_wb = sympy.Matrix([ q1, q2, cone['r'] * sympy.sin(theta)])\n",
        "R_wb, T_wb"
      ],
      "execution_count": 69,
      "outputs": [
        {
          "output_type": "execute_result",
          "data": {
            "text/latex": "$\\displaystyle \\left( \\left[\\begin{matrix}- \\sin{\\left(\\operatorname{q_{3}}{\\left(t \\right)} \\right)} \\sin{\\left(\\operatorname{q_{5}}{\\left(t \\right)} \\right)} + \\cos{\\left(\\operatorname{q_{3}}{\\left(t \\right)} \\right)} \\cos{\\left(\\operatorname{q_{4}}{\\left(t \\right)} \\right)} \\cos{\\left(\\operatorname{q_{5}}{\\left(t \\right)} \\right)} & - \\sin{\\left(\\operatorname{q_{3}}{\\left(t \\right)} \\right)} \\cos{\\left(\\operatorname{q_{5}}{\\left(t \\right)} \\right)} - \\sin{\\left(\\operatorname{q_{5}}{\\left(t \\right)} \\right)} \\cos{\\left(\\operatorname{q_{3}}{\\left(t \\right)} \\right)} \\cos{\\left(\\operatorname{q_{4}}{\\left(t \\right)} \\right)} & \\sin{\\left(\\operatorname{q_{4}}{\\left(t \\right)} \\right)} \\cos{\\left(\\operatorname{q_{3}}{\\left(t \\right)} \\right)}\\\\\\sin{\\left(\\operatorname{q_{3}}{\\left(t \\right)} \\right)} \\cos{\\left(\\operatorname{q_{4}}{\\left(t \\right)} \\right)} \\cos{\\left(\\operatorname{q_{5}}{\\left(t \\right)} \\right)} + \\sin{\\left(\\operatorname{q_{5}}{\\left(t \\right)} \\right)} \\cos{\\left(\\operatorname{q_{3}}{\\left(t \\right)} \\right)} & - \\sin{\\left(\\operatorname{q_{3}}{\\left(t \\right)} \\right)} \\sin{\\left(\\operatorname{q_{5}}{\\left(t \\right)} \\right)} \\cos{\\left(\\operatorname{q_{4}}{\\left(t \\right)} \\right)} + \\cos{\\left(\\operatorname{q_{3}}{\\left(t \\right)} \\right)} \\cos{\\left(\\operatorname{q_{5}}{\\left(t \\right)} \\right)} & \\sin{\\left(\\operatorname{q_{3}}{\\left(t \\right)} \\right)} \\sin{\\left(\\operatorname{q_{4}}{\\left(t \\right)} \\right)}\\\\- \\sin{\\left(\\operatorname{q_{4}}{\\left(t \\right)} \\right)} \\cos{\\left(\\operatorname{q_{5}}{\\left(t \\right)} \\right)} & \\sin{\\left(\\operatorname{q_{4}}{\\left(t \\right)} \\right)} \\sin{\\left(\\operatorname{q_{5}}{\\left(t \\right)} \\right)} & \\cos{\\left(\\operatorname{q_{4}}{\\left(t \\right)} \\right)}\\end{matrix}\\right], \\  \\left[\\begin{matrix}\\operatorname{q_{1}}{\\left(t \\right)}\\\\\\operatorname{q_{2}}{\\left(t \\right)}\\\\r \\sin{\\left(\\operatorname{q_{4}}{\\left(t \\right)} \\right)}\\end{matrix}\\right]\\right)$",
            "text/plain": [
              "⎛⎡-sin(q₃(t))⋅sin(q₅(t)) + cos(q₃(t))⋅cos(q₄(t))⋅cos(q₅(t))  -sin(q₃(t))⋅cos(q\n",
              "⎜⎢                                                                            \n",
              "⎜⎢sin(q₃(t))⋅cos(q₄(t))⋅cos(q₅(t)) + sin(q₅(t))⋅cos(q₃(t))   -sin(q₃(t))⋅sin(q\n",
              "⎜⎢                                                                            \n",
              "⎝⎣                 -sin(q₄(t))⋅cos(q₅(t))                                     \n",
              "\n",
              "₅(t)) - sin(q₅(t))⋅cos(q₃(t))⋅cos(q₄(t))  sin(q₄(t))⋅cos(q₃(t))⎤  ⎡   q₁(t)   \n",
              "                                                               ⎥  ⎢           \n",
              "₅(t))⋅cos(q₄(t)) + cos(q₃(t))⋅cos(q₅(t))  sin(q₃(t))⋅sin(q₄(t))⎥, ⎢   q₂(t)   \n",
              "                                                               ⎥  ⎢           \n",
              " sin(q₄(t))⋅sin(q₅(t))                         cos(q₄(t))      ⎦  ⎣r⋅sin(q₄(t)\n",
              "\n",
              " ⎤⎞\n",
              " ⎥⎟\n",
              " ⎥⎟\n",
              " ⎥⎟\n",
              ")⎦⎠"
            ]
          },
          "metadata": {
            "tags": []
          },
          "execution_count": 69
        }
      ]
    },
    {
      "cell_type": "code",
      "metadata": {
        "id": "csHdGqJqXDSs",
        "colab": {
          "base_uri": "https://localhost:8080/",
          "height": 79
        },
        "outputId": "b290381a-8625-4e39-cf27-43f15df8a5b1"
      },
      "source": [
        "CoM_b = sympy.Matrix([ cone['xCM'], 0, cone['zCM'] ])\n",
        "CoM_b"
      ],
      "execution_count": 70,
      "outputs": [
        {
          "output_type": "execute_result",
          "data": {
            "text/latex": "$\\displaystyle \\left[\\begin{matrix}xCM\\\\0\\\\zCM\\end{matrix}\\right]$",
            "text/plain": [
              "⎡xCM⎤\n",
              "⎢   ⎥\n",
              "⎢ 0 ⎥\n",
              "⎢   ⎥\n",
              "⎣zCM⎦"
            ]
          },
          "metadata": {
            "tags": []
          },
          "execution_count": 70
        }
      ]
    },
    {
      "cell_type": "code",
      "metadata": {
        "id": "vOYrekYoYNpU",
        "colab": {
          "base_uri": "https://localhost:8080/",
          "height": 79
        },
        "outputId": "07f1a25b-28e0-404a-ea6c-6007752ab589"
      },
      "source": [
        "CoM_w = R_wb * CoM_b + T_wb\n",
        "CoM_w"
      ],
      "execution_count": 71,
      "outputs": [
        {
          "output_type": "execute_result",
          "data": {
            "text/latex": "$\\displaystyle \\left[\\begin{matrix}xCM \\left(- \\sin{\\left(\\operatorname{q_{3}}{\\left(t \\right)} \\right)} \\sin{\\left(\\operatorname{q_{5}}{\\left(t \\right)} \\right)} + \\cos{\\left(\\operatorname{q_{3}}{\\left(t \\right)} \\right)} \\cos{\\left(\\operatorname{q_{4}}{\\left(t \\right)} \\right)} \\cos{\\left(\\operatorname{q_{5}}{\\left(t \\right)} \\right)}\\right) + zCM \\sin{\\left(\\operatorname{q_{4}}{\\left(t \\right)} \\right)} \\cos{\\left(\\operatorname{q_{3}}{\\left(t \\right)} \\right)} + \\operatorname{q_{1}}{\\left(t \\right)}\\\\xCM \\left(\\sin{\\left(\\operatorname{q_{3}}{\\left(t \\right)} \\right)} \\cos{\\left(\\operatorname{q_{4}}{\\left(t \\right)} \\right)} \\cos{\\left(\\operatorname{q_{5}}{\\left(t \\right)} \\right)} + \\sin{\\left(\\operatorname{q_{5}}{\\left(t \\right)} \\right)} \\cos{\\left(\\operatorname{q_{3}}{\\left(t \\right)} \\right)}\\right) + zCM \\sin{\\left(\\operatorname{q_{3}}{\\left(t \\right)} \\right)} \\sin{\\left(\\operatorname{q_{4}}{\\left(t \\right)} \\right)} + \\operatorname{q_{2}}{\\left(t \\right)}\\\\r \\sin{\\left(\\operatorname{q_{4}}{\\left(t \\right)} \\right)} - xCM \\sin{\\left(\\operatorname{q_{4}}{\\left(t \\right)} \\right)} \\cos{\\left(\\operatorname{q_{5}}{\\left(t \\right)} \\right)} + zCM \\cos{\\left(\\operatorname{q_{4}}{\\left(t \\right)} \\right)}\\end{matrix}\\right]$",
            "text/plain": [
              "⎡xCM⋅(-sin(q₃(t))⋅sin(q₅(t)) + cos(q₃(t))⋅cos(q₄(t))⋅cos(q₅(t))) + zCM⋅sin(q₄(\n",
              "⎢                                                                             \n",
              "⎢xCM⋅(sin(q₃(t))⋅cos(q₄(t))⋅cos(q₅(t)) + sin(q₅(t))⋅cos(q₃(t))) + zCM⋅sin(q₃(t\n",
              "⎢                                                                             \n",
              "⎣                     r⋅sin(q₄(t)) - xCM⋅sin(q₄(t))⋅cos(q₅(t)) + zCM⋅cos(q₄(t)\n",
              "\n",
              "t))⋅cos(q₃(t)) + q₁(t)⎤\n",
              "                      ⎥\n",
              "))⋅sin(q₄(t)) + q₂(t) ⎥\n",
              "                      ⎥\n",
              ")                     ⎦"
            ]
          },
          "metadata": {
            "tags": []
          },
          "execution_count": 71
        }
      ]
    },
    {
      "cell_type": "code",
      "metadata": {
        "id": "4ScGwWb4ZI2m",
        "colab": {
          "base_uri": "https://localhost:8080/",
          "height": 99
        },
        "outputId": "d64ecaa6-2ddf-463f-c962-2878660b3976"
      },
      "source": [
        "CoM_w_dot = sympy.simplify(CoM_w.diff(t).subs(sub_rules))\n",
        "CoM_w_dot"
      ],
      "execution_count": 72,
      "outputs": [
        {
          "output_type": "execute_result",
          "data": {
            "text/latex": "$\\displaystyle \\left[\\begin{matrix}- xCM \\left(\\dot{q}_3{\\left(t \\right)} \\sin{\\left(\\operatorname{q_{3}}{\\left(t \\right)} \\right)} \\cos{\\left(\\operatorname{q_{4}}{\\left(t \\right)} \\right)} \\cos{\\left(\\operatorname{q_{5}}{\\left(t \\right)} \\right)} + \\dot{q}_3{\\left(t \\right)} \\sin{\\left(\\operatorname{q_{5}}{\\left(t \\right)} \\right)} \\cos{\\left(\\operatorname{q_{3}}{\\left(t \\right)} \\right)} + \\dot{q}_4{\\left(t \\right)} \\sin{\\left(\\operatorname{q_{4}}{\\left(t \\right)} \\right)} \\cos{\\left(\\operatorname{q_{3}}{\\left(t \\right)} \\right)} \\cos{\\left(\\operatorname{q_{5}}{\\left(t \\right)} \\right)} + \\dot{q}_5{\\left(t \\right)} \\sin{\\left(\\operatorname{q_{3}}{\\left(t \\right)} \\right)} \\cos{\\left(\\operatorname{q_{5}}{\\left(t \\right)} \\right)} + \\dot{q}_5{\\left(t \\right)} \\sin{\\left(\\operatorname{q_{5}}{\\left(t \\right)} \\right)} \\cos{\\left(\\operatorname{q_{3}}{\\left(t \\right)} \\right)} \\cos{\\left(\\operatorname{q_{4}}{\\left(t \\right)} \\right)}\\right) - zCM \\dot{q}_3{\\left(t \\right)} \\sin{\\left(\\operatorname{q_{3}}{\\left(t \\right)} \\right)} \\sin{\\left(\\operatorname{q_{4}}{\\left(t \\right)} \\right)} + zCM \\dot{q}_4{\\left(t \\right)} \\cos{\\left(\\operatorname{q_{3}}{\\left(t \\right)} \\right)} \\cos{\\left(\\operatorname{q_{4}}{\\left(t \\right)} \\right)} + \\dot{q}_1{\\left(t \\right)}\\\\- xCM \\left(\\dot{q}_3{\\left(t \\right)} \\sin{\\left(\\operatorname{q_{3}}{\\left(t \\right)} \\right)} \\sin{\\left(\\operatorname{q_{5}}{\\left(t \\right)} \\right)} - \\dot{q}_3{\\left(t \\right)} \\cos{\\left(\\operatorname{q_{3}}{\\left(t \\right)} \\right)} \\cos{\\left(\\operatorname{q_{4}}{\\left(t \\right)} \\right)} \\cos{\\left(\\operatorname{q_{5}}{\\left(t \\right)} \\right)} + \\dot{q}_4{\\left(t \\right)} \\sin{\\left(\\operatorname{q_{3}}{\\left(t \\right)} \\right)} \\sin{\\left(\\operatorname{q_{4}}{\\left(t \\right)} \\right)} \\cos{\\left(\\operatorname{q_{5}}{\\left(t \\right)} \\right)} + \\dot{q}_5{\\left(t \\right)} \\sin{\\left(\\operatorname{q_{3}}{\\left(t \\right)} \\right)} \\sin{\\left(\\operatorname{q_{5}}{\\left(t \\right)} \\right)} \\cos{\\left(\\operatorname{q_{4}}{\\left(t \\right)} \\right)} - \\dot{q}_5{\\left(t \\right)} \\cos{\\left(\\operatorname{q_{3}}{\\left(t \\right)} \\right)} \\cos{\\left(\\operatorname{q_{5}}{\\left(t \\right)} \\right)}\\right) + zCM \\dot{q}_3{\\left(t \\right)} \\sin{\\left(\\operatorname{q_{4}}{\\left(t \\right)} \\right)} \\cos{\\left(\\operatorname{q_{3}}{\\left(t \\right)} \\right)} + zCM \\dot{q}_4{\\left(t \\right)} \\sin{\\left(\\operatorname{q_{3}}{\\left(t \\right)} \\right)} \\cos{\\left(\\operatorname{q_{4}}{\\left(t \\right)} \\right)} + \\dot{q}_2{\\left(t \\right)}\\\\r \\dot{q}_4{\\left(t \\right)} \\cos{\\left(\\operatorname{q_{4}}{\\left(t \\right)} \\right)} - xCM \\dot{q}_4{\\left(t \\right)} \\cos{\\left(\\operatorname{q_{4}}{\\left(t \\right)} \\right)} \\cos{\\left(\\operatorname{q_{5}}{\\left(t \\right)} \\right)} + xCM \\dot{q}_5{\\left(t \\right)} \\sin{\\left(\\operatorname{q_{4}}{\\left(t \\right)} \\right)} \\sin{\\left(\\operatorname{q_{5}}{\\left(t \\right)} \\right)} - zCM \\dot{q}_4{\\left(t \\right)} \\sin{\\left(\\operatorname{q_{4}}{\\left(t \\right)} \\right)}\\end{matrix}\\right]$",
            "text/plain": [
              "⎡-xCM⋅(\\dot{q}₃(t)⋅sin(q₃(t))⋅cos(q₄(t))⋅cos(q₅(t)) + \\dot{q}₃(t)⋅sin(q₅(t))⋅c\n",
              "⎢                                                                             \n",
              "⎢-xCM⋅(\\dot{q}₃(t)⋅sin(q₃(t))⋅sin(q₅(t)) - \\dot{q}₃(t)⋅cos(q₃(t))⋅cos(q₄(t))⋅c\n",
              "⎢                                                                             \n",
              "⎣                                                                             \n",
              "\n",
              "os(q₃(t)) + \\dot{q}₄(t)⋅sin(q₄(t))⋅cos(q₃(t))⋅cos(q₅(t)) + \\dot{q}₅(t)⋅sin(q₃(\n",
              "                                                                              \n",
              "os(q₅(t)) + \\dot{q}₄(t)⋅sin(q₃(t))⋅sin(q₄(t))⋅cos(q₅(t)) + \\dot{q}₅(t)⋅sin(q₃(\n",
              "                                                                              \n",
              "            r⋅\\dot{q}₄(t)⋅cos(q₄(t)) - xCM⋅\\dot{q}₄(t)⋅cos(q₄(t))⋅cos(q₅(t)) +\n",
              "\n",
              "t))⋅cos(q₅(t)) + \\dot{q}₅(t)⋅sin(q₅(t))⋅cos(q₃(t))⋅cos(q₄(t))) - zCM⋅\\dot{q}₃(\n",
              "                                                                              \n",
              "t))⋅sin(q₅(t))⋅cos(q₄(t)) - \\dot{q}₅(t)⋅cos(q₃(t))⋅cos(q₅(t))) + zCM⋅\\dot{q}₃(\n",
              "                                                                              \n",
              " xCM⋅\\dot{q}₅(t)⋅sin(q₄(t))⋅sin(q₅(t)) - zCM⋅\\dot{q}₄(t)⋅sin(q₄(t))           \n",
              "\n",
              "t)⋅sin(q₃(t))⋅sin(q₄(t)) + zCM⋅\\dot{q}₄(t)⋅cos(q₃(t))⋅cos(q₄(t)) + \\dot{q}₁(t)\n",
              "                                                                              \n",
              "t)⋅sin(q₄(t))⋅cos(q₃(t)) + zCM⋅\\dot{q}₄(t)⋅sin(q₃(t))⋅cos(q₄(t)) + \\dot{q}₂(t)\n",
              "                                                                              \n",
              "                                                                              \n",
              "\n",
              "⎤\n",
              "⎥\n",
              "⎥\n",
              "⎥\n",
              "⎦"
            ]
          },
          "metadata": {
            "tags": []
          },
          "execution_count": 72
        }
      ]
    },
    {
      "cell_type": "code",
      "metadata": {
        "id": "iCXeKwc6Zmop"
      },
      "source": [
        "T = sympy.S.Half * cone['m'] * (CoM_w_dot.dot(CoM_w_dot))\n",
        "V = cone['m'] * cone['g'] * CoM_w[2,0]\n",
        "L = T-V\n",
        "L = sympy.simplify(L)"
      ],
      "execution_count": 73,
      "outputs": []
    },
    {
      "cell_type": "markdown",
      "metadata": {
        "id": "UXSlr4RfbmB2"
      },
      "source": [
        "### Equations of Motion from Lagarangian\n",
        "\n",
        "$$\n",
        "\\frac{\\partial}{dt}\\frac{\\partial L}{\\partial \\dot{q}_i} - \\frac{\\partial L}{\\partial q_i} = 0\n",
        "$$"
      ]
    },
    {
      "cell_type": "code",
      "metadata": {
        "id": "WZw1Zg7LbD_N"
      },
      "source": [
        "eoms = sympy.Matrix([\n",
        "      L.diff(dq1).diff(t)-L.diff(q1),\n",
        "      L.diff(dq2).diff(t)-L.diff(q2),\n",
        "      L.diff(dq3).diff(t)-L.diff(q3),\n",
        "      L.diff(dq4).diff(t)-L.diff(q4),\n",
        "      L.diff(dq5).diff(t)-L.diff(q5)\n",
        "])\n",
        "eoms = eoms.subs(sub_rules)"
      ],
      "execution_count": 74,
      "outputs": []
    },
    {
      "cell_type": "code",
      "metadata": {
        "id": "qJxJ8y1irMUp"
      },
      "source": [
        "def linear_decomp(expr,syms):\n",
        "  def calc_term(i):\n",
        "    return expr.subs([(syms[j],sympy.S.One) if i==j else (syms[j],0) for j in range(len(syms))])\n",
        "  return [ calc_term(i) for i in range(len(syms))]"
      ],
      "execution_count": 75,
      "outputs": []
    },
    {
      "cell_type": "markdown",
      "metadata": {
        "id": "VePoTgB7cLiN"
      },
      "source": [
        "### Rewrite Equations of Motion in Matrix Form\n",
        "\n",
        "$$\n",
        "M(q)\\ddot{q} + h(q,\\dot{q}) = 0\n",
        "$$\n"
      ]
    },
    {
      "cell_type": "code",
      "metadata": {
        "id": "QAGEmQ2AgZ29"
      },
      "source": [
        "h = eoms.subs([(ddq1,0),(ddq2,0),(ddq3,0),(ddq4,0),(ddq5,0)])\n",
        "Mddq = eoms-h\n",
        "M = sympy.Matrix([linear_decomp(Mddq[i,0],ddq) for i in range(5)])"
      ],
      "execution_count": 76,
      "outputs": []
    },
    {
      "cell_type": "code",
      "metadata": {
        "id": "db9rvW2-nfPb"
      },
      "source": [
        "M = sympy.simplify(M)\n",
        "h = sympy.simplify(h)"
      ],
      "execution_count": 77,
      "outputs": []
    },
    {
      "cell_type": "markdown",
      "metadata": {
        "id": "4LoNZsagp3lv"
      },
      "source": [
        "### Nonholonomic Constrain (Rolling Constrain)"
      ]
    },
    {
      "cell_type": "code",
      "metadata": {
        "colab": {
          "base_uri": "https://localhost:8080/",
          "height": 79
        },
        "id": "3QlYPo88h95Z",
        "outputId": "b2c04231-fbcd-4f78-f2b9-9186577d5bcd"
      },
      "source": [
        "omega_hat = R_wb.diff(t).subs(sub_rules) * (R_wb.T)\n",
        "omega_hat = sympy.simplify(omega_hat)\n",
        "omega_hat"
      ],
      "execution_count": 78,
      "outputs": [
        {
          "output_type": "execute_result",
          "data": {
            "text/latex": "$\\displaystyle \\left[\\begin{matrix}0 & - \\dot{q}_3{\\left(t \\right)} - \\dot{q}_5{\\left(t \\right)} \\cos{\\left(\\operatorname{q_{4}}{\\left(t \\right)} \\right)} & \\dot{q}_4{\\left(t \\right)} \\cos{\\left(\\operatorname{q_{3}}{\\left(t \\right)} \\right)} + \\dot{q}_5{\\left(t \\right)} \\sin{\\left(\\operatorname{q_{3}}{\\left(t \\right)} \\right)} \\sin{\\left(\\operatorname{q_{4}}{\\left(t \\right)} \\right)}\\\\\\dot{q}_3{\\left(t \\right)} + \\dot{q}_5{\\left(t \\right)} \\cos{\\left(\\operatorname{q_{4}}{\\left(t \\right)} \\right)} & 0 & \\dot{q}_4{\\left(t \\right)} \\sin{\\left(\\operatorname{q_{3}}{\\left(t \\right)} \\right)} - \\dot{q}_5{\\left(t \\right)} \\sin{\\left(\\operatorname{q_{4}}{\\left(t \\right)} \\right)} \\cos{\\left(\\operatorname{q_{3}}{\\left(t \\right)} \\right)}\\\\- \\dot{q}_4{\\left(t \\right)} \\cos{\\left(\\operatorname{q_{3}}{\\left(t \\right)} \\right)} - \\dot{q}_5{\\left(t \\right)} \\sin{\\left(\\operatorname{q_{3}}{\\left(t \\right)} \\right)} \\sin{\\left(\\operatorname{q_{4}}{\\left(t \\right)} \\right)} & - \\dot{q}_4{\\left(t \\right)} \\sin{\\left(\\operatorname{q_{3}}{\\left(t \\right)} \\right)} + \\dot{q}_5{\\left(t \\right)} \\sin{\\left(\\operatorname{q_{4}}{\\left(t \\right)} \\right)} \\cos{\\left(\\operatorname{q_{3}}{\\left(t \\right)} \\right)} & 0\\end{matrix}\\right]$",
            "text/plain": [
              "⎡                             0                                          -\\dot\n",
              "⎢                                                                             \n",
              "⎢           \\dot{q}₃(t) + \\dot{q}₅(t)⋅cos(q₄(t))                              \n",
              "⎢                                                                             \n",
              "⎣-\\dot{q}₄(t)⋅cos(q₃(t)) - \\dot{q}₅(t)⋅sin(q₃(t))⋅sin(q₄(t))  -\\dot{q}₄(t)⋅sin\n",
              "\n",
              "{q}₃(t) - \\dot{q}₅(t)⋅cos(q₄(t))             \\dot{q}₄(t)⋅cos(q₃(t)) + \\dot{q}₅\n",
              "                                                                              \n",
              "             0                               \\dot{q}₄(t)⋅sin(q₃(t)) - \\dot{q}₅\n",
              "                                                                              \n",
              "(q₃(t)) + \\dot{q}₅(t)⋅sin(q₄(t))⋅cos(q₃(t))                              0    \n",
              "\n",
              "(t)⋅sin(q₃(t))⋅sin(q₄(t))⎤\n",
              "                         ⎥\n",
              "(t)⋅sin(q₄(t))⋅cos(q₃(t))⎥\n",
              "                         ⎥\n",
              "                         ⎦"
            ]
          },
          "metadata": {
            "tags": []
          },
          "execution_count": 78
        }
      ]
    },
    {
      "cell_type": "code",
      "metadata": {
        "colab": {
          "base_uri": "https://localhost:8080/",
          "height": 79
        },
        "id": "xEJDcduPiEYy",
        "outputId": "805502c7-716d-440c-d758-d4843c97ffe1"
      },
      "source": [
        "omega = sympy.Matrix([ omega_hat[2,1], omega_hat[0,2], omega_hat[1,0] ])\n",
        "omega"
      ],
      "execution_count": 79,
      "outputs": [
        {
          "output_type": "execute_result",
          "data": {
            "text/latex": "$\\displaystyle \\left[\\begin{matrix}- \\dot{q}_4{\\left(t \\right)} \\sin{\\left(\\operatorname{q_{3}}{\\left(t \\right)} \\right)} + \\dot{q}_5{\\left(t \\right)} \\sin{\\left(\\operatorname{q_{4}}{\\left(t \\right)} \\right)} \\cos{\\left(\\operatorname{q_{3}}{\\left(t \\right)} \\right)}\\\\\\dot{q}_4{\\left(t \\right)} \\cos{\\left(\\operatorname{q_{3}}{\\left(t \\right)} \\right)} + \\dot{q}_5{\\left(t \\right)} \\sin{\\left(\\operatorname{q_{3}}{\\left(t \\right)} \\right)} \\sin{\\left(\\operatorname{q_{4}}{\\left(t \\right)} \\right)}\\\\\\dot{q}_3{\\left(t \\right)} + \\dot{q}_5{\\left(t \\right)} \\cos{\\left(\\operatorname{q_{4}}{\\left(t \\right)} \\right)}\\end{matrix}\\right]$",
            "text/plain": [
              "⎡-\\dot{q}₄(t)⋅sin(q₃(t)) + \\dot{q}₅(t)⋅sin(q₄(t))⋅cos(q₃(t))⎤\n",
              "⎢                                                           ⎥\n",
              "⎢\\dot{q}₄(t)⋅cos(q₃(t)) + \\dot{q}₅(t)⋅sin(q₃(t))⋅sin(q₄(t)) ⎥\n",
              "⎢                                                           ⎥\n",
              "⎣           \\dot{q}₃(t) + \\dot{q}₅(t)⋅cos(q₄(t))            ⎦"
            ]
          },
          "metadata": {
            "tags": []
          },
          "execution_count": 79
        }
      ]
    },
    {
      "cell_type": "code",
      "metadata": {
        "colab": {
          "base_uri": "https://localhost:8080/",
          "height": 79
        },
        "id": "It4RyEkwiHhl",
        "outputId": "14fec93f-7272-42ca-bd35-a362889eee62"
      },
      "source": [
        "r_CA = rot_z(psi) * rot_y(theta) * sympy.Matrix([ -cone['r'], 0 ,0 ])\n",
        "r_CA"
      ],
      "execution_count": 80,
      "outputs": [
        {
          "output_type": "execute_result",
          "data": {
            "text/latex": "$\\displaystyle \\left[\\begin{matrix}- r \\cos{\\left(\\operatorname{q_{3}}{\\left(t \\right)} \\right)} \\cos{\\left(\\operatorname{q_{4}}{\\left(t \\right)} \\right)}\\\\- r \\sin{\\left(\\operatorname{q_{3}}{\\left(t \\right)} \\right)} \\cos{\\left(\\operatorname{q_{4}}{\\left(t \\right)} \\right)}\\\\r \\sin{\\left(\\operatorname{q_{4}}{\\left(t \\right)} \\right)}\\end{matrix}\\right]$",
            "text/plain": [
              "⎡-r⋅cos(q₃(t))⋅cos(q₄(t))⎤\n",
              "⎢                        ⎥\n",
              "⎢-r⋅sin(q₃(t))⋅cos(q₄(t))⎥\n",
              "⎢                        ⎥\n",
              "⎣      r⋅sin(q₄(t))      ⎦"
            ]
          },
          "metadata": {
            "tags": []
          },
          "execution_count": 80
        }
      ]
    },
    {
      "cell_type": "code",
      "metadata": {
        "colab": {
          "base_uri": "https://localhost:8080/",
          "height": 79
        },
        "id": "OY1UJkD6iKaa",
        "outputId": "1dc4607f-2a4d-4fba-effd-6cae330c4a95"
      },
      "source": [
        "vel_A = omega.cross(r_CA)\n",
        "vel_A = sympy.simplify(vel_A)\n",
        "vel_A"
      ],
      "execution_count": 81,
      "outputs": [
        {
          "output_type": "execute_result",
          "data": {
            "text/latex": "$\\displaystyle \\left[\\begin{matrix}r \\left(\\dot{q}_3{\\left(t \\right)} \\sin{\\left(\\operatorname{q_{3}}{\\left(t \\right)} \\right)} \\cos{\\left(\\operatorname{q_{4}}{\\left(t \\right)} \\right)} + \\dot{q}_4{\\left(t \\right)} \\sin{\\left(\\operatorname{q_{4}}{\\left(t \\right)} \\right)} \\cos{\\left(\\operatorname{q_{3}}{\\left(t \\right)} \\right)} + \\dot{q}_5{\\left(t \\right)} \\sin{\\left(\\operatorname{q_{3}}{\\left(t \\right)} \\right)}\\right)\\\\r \\left(- \\dot{q}_3{\\left(t \\right)} \\cos{\\left(\\operatorname{q_{3}}{\\left(t \\right)} \\right)} \\cos{\\left(\\operatorname{q_{4}}{\\left(t \\right)} \\right)} + \\dot{q}_4{\\left(t \\right)} \\sin{\\left(\\operatorname{q_{3}}{\\left(t \\right)} \\right)} \\sin{\\left(\\operatorname{q_{4}}{\\left(t \\right)} \\right)} - \\dot{q}_5{\\left(t \\right)} \\cos{\\left(\\operatorname{q_{3}}{\\left(t \\right)} \\right)}\\right)\\\\r \\dot{q}_4{\\left(t \\right)} \\cos{\\left(\\operatorname{q_{4}}{\\left(t \\right)} \\right)}\\end{matrix}\\right]$",
            "text/plain": [
              "⎡r⋅(\\dot{q}₃(t)⋅sin(q₃(t))⋅cos(q₄(t)) + \\dot{q}₄(t)⋅sin(q₄(t))⋅cos(q₃(t)) + \\d\n",
              "⎢                                                                             \n",
              "⎢r⋅(-\\dot{q}₃(t)⋅cos(q₃(t))⋅cos(q₄(t)) + \\dot{q}₄(t)⋅sin(q₃(t))⋅sin(q₄(t)) - \\\n",
              "⎢                                                                             \n",
              "⎣                                     r⋅\\dot{q}₄(t)⋅cos(q₄(t))                \n",
              "\n",
              "ot{q}₅(t)⋅sin(q₃(t))) ⎤\n",
              "                      ⎥\n",
              "dot{q}₅(t)⋅cos(q₃(t)))⎥\n",
              "                      ⎥\n",
              "                      ⎦"
            ]
          },
          "metadata": {
            "tags": []
          },
          "execution_count": 81
        }
      ]
    },
    {
      "cell_type": "code",
      "metadata": {
        "colab": {
          "base_uri": "https://localhost:8080/",
          "height": 58
        },
        "id": "WhhrYMF-iOJB",
        "outputId": "b5ac8886-f3af-4c70-9eb5-921eb9a98a06"
      },
      "source": [
        "rolling_constrains = [ dq1 - vel_A[0,0], dq2 - vel_A[1,0] ]\n",
        "A_nh = sympy.Matrix([linear_decomp(eq,dq) for eq in rolling_constrains])\n",
        "A_nh"
      ],
      "execution_count": 82,
      "outputs": [
        {
          "output_type": "execute_result",
          "data": {
            "text/latex": "$\\displaystyle \\left[\\begin{matrix}1 & 0 & - r \\sin{\\left(\\operatorname{q_{3}}{\\left(t \\right)} \\right)} \\cos{\\left(\\operatorname{q_{4}}{\\left(t \\right)} \\right)} & - r \\sin{\\left(\\operatorname{q_{4}}{\\left(t \\right)} \\right)} \\cos{\\left(\\operatorname{q_{3}}{\\left(t \\right)} \\right)} & - r \\sin{\\left(\\operatorname{q_{3}}{\\left(t \\right)} \\right)}\\\\0 & 1 & r \\cos{\\left(\\operatorname{q_{3}}{\\left(t \\right)} \\right)} \\cos{\\left(\\operatorname{q_{4}}{\\left(t \\right)} \\right)} & - r \\sin{\\left(\\operatorname{q_{3}}{\\left(t \\right)} \\right)} \\sin{\\left(\\operatorname{q_{4}}{\\left(t \\right)} \\right)} & r \\cos{\\left(\\operatorname{q_{3}}{\\left(t \\right)} \\right)}\\end{matrix}\\right]$",
            "text/plain": [
              "⎡1  0  -r⋅sin(q₃(t))⋅cos(q₄(t))  -r⋅sin(q₄(t))⋅cos(q₃(t))  -r⋅sin(q₃(t))⎤\n",
              "⎢                                                                       ⎥\n",
              "⎣0  1  r⋅cos(q₃(t))⋅cos(q₄(t))   -r⋅sin(q₃(t))⋅sin(q₄(t))  r⋅cos(q₃(t)) ⎦"
            ]
          },
          "metadata": {
            "tags": []
          },
          "execution_count": 82
        }
      ]
    },
    {
      "cell_type": "markdown",
      "metadata": {
        "id": "2QczM3nkuHH_"
      },
      "source": [
        "### Holonomic Constrain (Fixed Control Point)\n",
        "\n",
        "$\\dot{X}_{CP} = 0$"
      ]
    },
    {
      "cell_type": "code",
      "metadata": {
        "id": "znzFiYjkuORJ",
        "colab": {
          "base_uri": "https://localhost:8080/",
          "height": 58
        },
        "outputId": "9ff74055-1fc9-411d-8de4-d20b80331788"
      },
      "source": [
        "CP_b = sympy.Matrix([ cone['zCP'], 0, cone['zCP'] ])\n",
        "CP_w = R_wb * CP_b + T_wb\n",
        "CP_dot_w = CP_w.diff(t).subs(sub_rules)\n",
        "A_cp = sympy.Matrix([linear_decomp(eq,dq) for eq in CP_dot_w[:2]])\n",
        "A_cp"
      ],
      "execution_count": 83,
      "outputs": [
        {
          "output_type": "execute_result",
          "data": {
            "text/latex": "$\\displaystyle \\left[\\begin{matrix}1 & 0 & zCP \\left(- \\sin{\\left(\\operatorname{q_{3}}{\\left(t \\right)} \\right)} \\cos{\\left(\\operatorname{q_{4}}{\\left(t \\right)} \\right)} \\cos{\\left(\\operatorname{q_{5}}{\\left(t \\right)} \\right)} - \\sin{\\left(\\operatorname{q_{5}}{\\left(t \\right)} \\right)} \\cos{\\left(\\operatorname{q_{3}}{\\left(t \\right)} \\right)}\\right) - zCP \\sin{\\left(\\operatorname{q_{3}}{\\left(t \\right)} \\right)} \\sin{\\left(\\operatorname{q_{4}}{\\left(t \\right)} \\right)} & - zCP \\sin{\\left(\\operatorname{q_{4}}{\\left(t \\right)} \\right)} \\cos{\\left(\\operatorname{q_{3}}{\\left(t \\right)} \\right)} \\cos{\\left(\\operatorname{q_{5}}{\\left(t \\right)} \\right)} + zCP \\cos{\\left(\\operatorname{q_{3}}{\\left(t \\right)} \\right)} \\cos{\\left(\\operatorname{q_{4}}{\\left(t \\right)} \\right)} & zCP \\left(- \\sin{\\left(\\operatorname{q_{3}}{\\left(t \\right)} \\right)} \\cos{\\left(\\operatorname{q_{5}}{\\left(t \\right)} \\right)} - \\sin{\\left(\\operatorname{q_{5}}{\\left(t \\right)} \\right)} \\cos{\\left(\\operatorname{q_{3}}{\\left(t \\right)} \\right)} \\cos{\\left(\\operatorname{q_{4}}{\\left(t \\right)} \\right)}\\right)\\\\0 & 1 & zCP \\left(- \\sin{\\left(\\operatorname{q_{3}}{\\left(t \\right)} \\right)} \\sin{\\left(\\operatorname{q_{5}}{\\left(t \\right)} \\right)} + \\cos{\\left(\\operatorname{q_{3}}{\\left(t \\right)} \\right)} \\cos{\\left(\\operatorname{q_{4}}{\\left(t \\right)} \\right)} \\cos{\\left(\\operatorname{q_{5}}{\\left(t \\right)} \\right)}\\right) + zCP \\sin{\\left(\\operatorname{q_{4}}{\\left(t \\right)} \\right)} \\cos{\\left(\\operatorname{q_{3}}{\\left(t \\right)} \\right)} & - zCP \\sin{\\left(\\operatorname{q_{3}}{\\left(t \\right)} \\right)} \\sin{\\left(\\operatorname{q_{4}}{\\left(t \\right)} \\right)} \\cos{\\left(\\operatorname{q_{5}}{\\left(t \\right)} \\right)} + zCP \\sin{\\left(\\operatorname{q_{3}}{\\left(t \\right)} \\right)} \\cos{\\left(\\operatorname{q_{4}}{\\left(t \\right)} \\right)} & zCP \\left(- \\sin{\\left(\\operatorname{q_{3}}{\\left(t \\right)} \\right)} \\sin{\\left(\\operatorname{q_{5}}{\\left(t \\right)} \\right)} \\cos{\\left(\\operatorname{q_{4}}{\\left(t \\right)} \\right)} + \\cos{\\left(\\operatorname{q_{3}}{\\left(t \\right)} \\right)} \\cos{\\left(\\operatorname{q_{5}}{\\left(t \\right)} \\right)}\\right)\\end{matrix}\\right]$",
            "text/plain": [
              "⎡1  0  zCP⋅(-sin(q₃(t))⋅cos(q₄(t))⋅cos(q₅(t)) - sin(q₅(t))⋅cos(q₃(t))) - zCP⋅s\n",
              "⎢                                                                             \n",
              "⎣0  1  zCP⋅(-sin(q₃(t))⋅sin(q₅(t)) + cos(q₃(t))⋅cos(q₄(t))⋅cos(q₅(t))) + zCP⋅s\n",
              "\n",
              "in(q₃(t))⋅sin(q₄(t))  -zCP⋅sin(q₄(t))⋅cos(q₃(t))⋅cos(q₅(t)) + zCP⋅cos(q₃(t))⋅c\n",
              "                                                                              \n",
              "in(q₄(t))⋅cos(q₃(t))  -zCP⋅sin(q₃(t))⋅sin(q₄(t))⋅cos(q₅(t)) + zCP⋅sin(q₃(t))⋅c\n",
              "\n",
              "os(q₄(t))  zCP⋅(-sin(q₃(t))⋅cos(q₅(t)) - sin(q₅(t))⋅cos(q₃(t))⋅cos(q₄(t)))⎤\n",
              "                                                                          ⎥\n",
              "os(q₄(t))  zCP⋅(-sin(q₃(t))⋅sin(q₅(t))⋅cos(q₄(t)) + cos(q₃(t))⋅cos(q₅(t)))⎦"
            ]
          },
          "metadata": {
            "tags": []
          },
          "execution_count": 83
        }
      ]
    },
    {
      "cell_type": "markdown",
      "metadata": {
        "id": "jW5mZ_x8xx8e"
      },
      "source": [
        "### Paffian Constrain Matrix\n",
        "\n",
        "$$\n",
        "\\mathbf{A}\\dot{\\mathbf{q}} = 0\n",
        "$$\n",
        "\n",
        "$$\n",
        "\\frac{d}{d t}(\\mathbf{A}(\\mathbf{q}) \\dot{\\mathbf{q}})=\\mathbf{A}(\\mathbf{q}) \\ddot{\\mathbf{q}}+\\dot{\\mathbf{A}}(\\mathbf{q}) \\dot{\\mathbf{q}}=\\mathbf{0}\n",
        "$$"
      ]
    },
    {
      "cell_type": "code",
      "metadata": {
        "id": "A0nSkfo0xwGt",
        "colab": {
          "base_uri": "https://localhost:8080/",
          "height": 99
        },
        "outputId": "162d6095-f80f-445e-d933-2a7d5d9e8a7b"
      },
      "source": [
        "A = sympy.Matrix([A_nh, A_cp])\n",
        "A = sympy.simplify(A)\n",
        "A"
      ],
      "execution_count": 84,
      "outputs": [
        {
          "output_type": "execute_result",
          "data": {
            "text/latex": "$\\displaystyle \\left[\\begin{matrix}1 & 0 & - r \\sin{\\left(\\operatorname{q_{3}}{\\left(t \\right)} \\right)} \\cos{\\left(\\operatorname{q_{4}}{\\left(t \\right)} \\right)} & - r \\sin{\\left(\\operatorname{q_{4}}{\\left(t \\right)} \\right)} \\cos{\\left(\\operatorname{q_{3}}{\\left(t \\right)} \\right)} & - r \\sin{\\left(\\operatorname{q_{3}}{\\left(t \\right)} \\right)}\\\\0 & 1 & r \\cos{\\left(\\operatorname{q_{3}}{\\left(t \\right)} \\right)} \\cos{\\left(\\operatorname{q_{4}}{\\left(t \\right)} \\right)} & - r \\sin{\\left(\\operatorname{q_{3}}{\\left(t \\right)} \\right)} \\sin{\\left(\\operatorname{q_{4}}{\\left(t \\right)} \\right)} & r \\cos{\\left(\\operatorname{q_{3}}{\\left(t \\right)} \\right)}\\\\1 & 0 & - zCP \\left(\\sin{\\left(\\operatorname{q_{3}}{\\left(t \\right)} \\right)} \\sin{\\left(\\operatorname{q_{4}}{\\left(t \\right)} \\right)} + \\sin{\\left(\\operatorname{q_{3}}{\\left(t \\right)} \\right)} \\cos{\\left(\\operatorname{q_{4}}{\\left(t \\right)} \\right)} \\cos{\\left(\\operatorname{q_{5}}{\\left(t \\right)} \\right)} + \\sin{\\left(\\operatorname{q_{5}}{\\left(t \\right)} \\right)} \\cos{\\left(\\operatorname{q_{3}}{\\left(t \\right)} \\right)}\\right) & zCP \\left(- \\sin{\\left(\\operatorname{q_{4}}{\\left(t \\right)} \\right)} \\cos{\\left(\\operatorname{q_{5}}{\\left(t \\right)} \\right)} + \\cos{\\left(\\operatorname{q_{4}}{\\left(t \\right)} \\right)}\\right) \\cos{\\left(\\operatorname{q_{3}}{\\left(t \\right)} \\right)} & - zCP \\left(\\sin{\\left(\\operatorname{q_{3}}{\\left(t \\right)} \\right)} \\cos{\\left(\\operatorname{q_{5}}{\\left(t \\right)} \\right)} + \\sin{\\left(\\operatorname{q_{5}}{\\left(t \\right)} \\right)} \\cos{\\left(\\operatorname{q_{3}}{\\left(t \\right)} \\right)} \\cos{\\left(\\operatorname{q_{4}}{\\left(t \\right)} \\right)}\\right)\\\\0 & 1 & zCP \\left(- \\sin{\\left(\\operatorname{q_{3}}{\\left(t \\right)} \\right)} \\sin{\\left(\\operatorname{q_{5}}{\\left(t \\right)} \\right)} + \\sin{\\left(\\operatorname{q_{4}}{\\left(t \\right)} \\right)} \\cos{\\left(\\operatorname{q_{3}}{\\left(t \\right)} \\right)} + \\cos{\\left(\\operatorname{q_{3}}{\\left(t \\right)} \\right)} \\cos{\\left(\\operatorname{q_{4}}{\\left(t \\right)} \\right)} \\cos{\\left(\\operatorname{q_{5}}{\\left(t \\right)} \\right)}\\right) & zCP \\left(- \\sin{\\left(\\operatorname{q_{4}}{\\left(t \\right)} \\right)} \\cos{\\left(\\operatorname{q_{5}}{\\left(t \\right)} \\right)} + \\cos{\\left(\\operatorname{q_{4}}{\\left(t \\right)} \\right)}\\right) \\sin{\\left(\\operatorname{q_{3}}{\\left(t \\right)} \\right)} & zCP \\left(- \\sin{\\left(\\operatorname{q_{3}}{\\left(t \\right)} \\right)} \\sin{\\left(\\operatorname{q_{5}}{\\left(t \\right)} \\right)} \\cos{\\left(\\operatorname{q_{4}}{\\left(t \\right)} \\right)} + \\cos{\\left(\\operatorname{q_{3}}{\\left(t \\right)} \\right)} \\cos{\\left(\\operatorname{q_{5}}{\\left(t \\right)} \\right)}\\right)\\end{matrix}\\right]$",
            "text/plain": [
              "⎡1  0                                 -r⋅sin(q₃(t))⋅cos(q₄(t))                \n",
              "⎢                                                                             \n",
              "⎢0  1                                  r⋅cos(q₃(t))⋅cos(q₄(t))                \n",
              "⎢                                                                             \n",
              "⎢1  0  -zCP⋅(sin(q₃(t))⋅sin(q₄(t)) + sin(q₃(t))⋅cos(q₄(t))⋅cos(q₅(t)) + sin(q₅\n",
              "⎢                                                                             \n",
              "⎣0  1  zCP⋅(-sin(q₃(t))⋅sin(q₅(t)) + sin(q₄(t))⋅cos(q₃(t)) + cos(q₃(t))⋅cos(q₄\n",
              "\n",
              "                                -r⋅sin(q₄(t))⋅cos(q₃(t))                      \n",
              "                                                                              \n",
              "                                -r⋅sin(q₃(t))⋅sin(q₄(t))                      \n",
              "                                                                              \n",
              "(t))⋅cos(q₃(t)))  zCP⋅(-sin(q₄(t))⋅cos(q₅(t)) + cos(q₄(t)))⋅cos(q₃(t))  -zCP⋅(\n",
              "                                                                              \n",
              "(t))⋅cos(q₅(t)))  zCP⋅(-sin(q₄(t))⋅cos(q₅(t)) + cos(q₄(t)))⋅sin(q₃(t))  zCP⋅(-\n",
              "\n",
              "                   -r⋅sin(q₃(t))                         ⎤\n",
              "                                                         ⎥\n",
              "                   r⋅cos(q₃(t))                          ⎥\n",
              "                                                         ⎥\n",
              "sin(q₃(t))⋅cos(q₅(t)) + sin(q₅(t))⋅cos(q₃(t))⋅cos(q₄(t)))⎥\n",
              "                                                         ⎥\n",
              "sin(q₃(t))⋅sin(q₅(t))⋅cos(q₄(t)) + cos(q₃(t))⋅cos(q₅(t)))⎦"
            ]
          },
          "metadata": {
            "tags": []
          },
          "execution_count": 84
        }
      ]
    },
    {
      "cell_type": "code",
      "metadata": {
        "id": "akUCAUFkye5k"
      },
      "source": [
        "dAdt = A.diff(t).subs(sub_rules)\n",
        "dAdt = sympy.simplify(dAdt)"
      ],
      "execution_count": 85,
      "outputs": []
    },
    {
      "cell_type": "markdown",
      "metadata": {
        "id": "rGzSNxTBzf5j"
      },
      "source": [
        "### Equation of Motion\n",
        "\n",
        "\n",
        "$\\left[\\begin{array}{cc}-\\mathbf{A} & 0 \\\\ \\mathbf{M} & -\\mathbf{A}^{T}\\end{array}\\right]\\left[\\begin{array}{l}\\ddot{\\mathbf{q}} \\\\ \\boldsymbol{\\lambda}\\end{array}\\right]=\\left[\\begin{array}{c}\\dot{\\mathbf{A}} \\dot{\\mathbf{q}} \\\\ -\\mathbf{h}\\end{array}\\right]$"
      ]
    },
    {
      "cell_type": "code",
      "metadata": {
        "id": "c9aTYG8d0tRB"
      },
      "source": [
        "M_left = sympy.Matrix([[-A,sympy.zeros(4)],[M, -A.T]])\n",
        "M_right = sympy.Matrix([[dAdt*sympy.Matrix(dq)],[-h]])"
      ],
      "execution_count": 86,
      "outputs": []
    },
    {
      "cell_type": "code",
      "metadata": {
        "id": "VACqKvtq3Tsi"
      },
      "source": [
        "mq = sympy.MatrixSymbol('q',5,1)\n",
        "mdq = sympy.MatrixSymbol('dq',5,1)\n",
        "\n",
        "sub_rule_out = [(q1,mq[0,0]),(dq1,mdq[0,0]),\n",
        "                (q2,mq[1,0]),(dq2,mdq[1,0]),\n",
        "                (q3,mq[2,0]),(dq3,mdq[2,0]),\n",
        "                (q4,mq[3,0]),(dq4,mdq[3,0]),\n",
        "                (q5,mq[4,0]),(dq5,mdq[4,0])]\n",
        "\n",
        "e_M_left = M_left.subs(sub_rule_out)\n",
        "e_M_right = M_right.subs(sub_rule_out)"
      ],
      "execution_count": 87,
      "outputs": []
    },
    {
      "cell_type": "code",
      "metadata": {
        "id": "QV6p-9ozLCk-",
        "colab": {
          "base_uri": "https://localhost:8080/",
          "height": 39
        },
        "outputId": "d730719a-9065-4fae-a55a-40198a3609d9"
      },
      "source": [
        "e_M_left.free_symbols, e_M_right.free_symbols"
      ],
      "execution_count": 88,
      "outputs": [
        {
          "output_type": "execute_result",
          "data": {
            "image/png": "[encoded data removed]",
            "text/latex": "$\\displaystyle \\left( \\left\\{m, r, xCM, zCM, zCP, q\\right\\}, \\  \\left\\{g, m, r, xCM, zCM, zCP, dq, q\\right\\}\\right)$",
            "text/plain": [
              "({m, r, xCM, zCM, zCP, q}, {g, m, r, xCM, zCM, zCP, dq, q})"
            ]
          },
          "metadata": {
            "tags": []
          },
          "execution_count": 88
        }
      ]
    },
    {
      "cell_type": "code",
      "metadata": {
        "id": "t1ixyNYoL2fj"
      },
      "source": [
        "f_M_left = sympy.lambdify([mq,cone['r'],cone['m'],cone['g'],cone['xCM'],cone['zCM'],cone['xCP'],cone['zCP']],e_M_left)\n",
        "f_M_right = sympy.lambdify([mq,mdq,cone['r'],cone['m'],cone['g'],cone['xCM'],cone['zCM'],cone['xCP'],cone['zCP']],e_M_right)"
      ],
      "execution_count": 89,
      "outputs": []
    },
    {
      "cell_type": "code",
      "metadata": {
        "id": "uNTNjM7oMzWU"
      },
      "source": [
        "outputs = {\n",
        "    'M_left': f_M_left,\n",
        "    'M_right': f_M_right\n",
        "}\n",
        "import dill\n",
        "dill.settings['recurse'] = True\n",
        "dill.dump(outputs,open(\"rnw_model\", \"wb\"))"
      ],
      "execution_count": 90,
      "outputs": []
    },
    {
      "cell_type": "markdown",
      "metadata": {
        "id": "jj1Zjoe5qBY6"
      },
      "source": [
        "### Use the Dynamic Model"
      ]
    },
    {
      "cell_type": "code",
      "metadata": {
        "id": "sDiCrZTXOW_f",
        "colab": {
          "base_uri": "https://localhost:8080/"
        },
        "outputId": "9dfeb414-16c0-4130-a348-f9eac08bbb3b"
      },
      "source": [
        "import numpy as np\n",
        "\n",
        "# load the dynamic model from file\n",
        "rnw_model = dill.load(open(\"rnw_model\", \"rb\"))\n",
        "\n",
        "# see what's inside the dynamic model\n",
        "func2 = rnw_model['M_right']\n",
        "??func2\n",
        "\n",
        "# input the current state - q and qdot\n",
        "fake_q = np.array([[0,0,0,np.pi/4,0]]).T\n",
        "fake_dq = np.array([[1,1,1,1,1]]).T\n",
        "\n",
        "# get the left and right matrix\n",
        "eq_left = rnw_model['M_left'](fake_q,1,1,9.8,1,1,2,3)\n",
        "eq_right = rnw_model['M_right'](fake_q,fake_dq,1,1,9.8,1,1,2,3)\n",
        "\n",
        "# solve the linear system, get q_dot_dot and lagarange multipliers\n",
        "sol = np.linalg.solve(eq_left,eq_right)\n",
        "sol_ddq = sol[:5].T\n",
        "sol_multipliers = sol[5:].T\n",
        "sol_ddq, sol_multipliers"
      ],
      "execution_count": 91,
      "outputs": [
        {
          "output_type": "execute_result",
          "data": {
            "text/plain": [
              "(array([[ 1.66066017e+01,  1.25607397e-15, -2.00000000e+00,\n",
              "          2.00710678e+01,  2.82842712e+00]]),\n",
              " array([[-4.39238816e+00,  7.58107702e-16,  1.54634560e+01,\n",
              "         -0.00000000e+00]]))"
            ]
          },
          "metadata": {
            "tags": []
          },
          "execution_count": 91
        }
      ]
    }
  ]
}